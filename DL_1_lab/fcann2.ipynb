{
 "cells": [
  {
   "cell_type": "code",
   "execution_count": 6,
   "metadata": {
    "scrolled": false
   },
   "outputs": [],
   "source": [
    "import numpy as np\n",
    "import matplotlib.pyplot as plt\n",
    "import data\n",
    "from sklearn.metrics import f1_score, precision_score, recall_score, accuracy_score"
   ]
  },
  {
   "cell_type": "code",
   "execution_count": 7,
   "metadata": {
    "scrolled": false
   },
   "outputs": [],
   "source": [
    "HIDDEN_LAYER_DIM = 5\n",
    "SEED = 103\n",
    "NUM_EXAMPLES = 10\n",
    "CLASSES = 3\n",
    "DISTRIBUTIONS = 6\n",
    "REG_LAMBDA = 1e-3"
   ]
  },
  {
   "cell_type": "code",
   "execution_count": 8,
   "metadata": {
    "scrolled": false
   },
   "outputs": [],
   "source": [
    "def relu(input):\n",
    "    output = input * (input > 0)\n",
    "    return np.array(output)\n",
    "\n",
    "\n",
    "def softmax(z, sum):\n",
    "    res = np.divide(z, sum)\n",
    "    return res"
   ]
  },
  {
   "cell_type": "code",
   "execution_count": 9,
   "metadata": {
    "scrolled": true
   },
   "outputs": [],
   "source": [
    "def eval_perf(Y, Y_):\n",
    "        # needed to compute scores of our model\n",
    "        # 'weighted' takes into consideration labels imbalance\n",
    "        if max(int(max(Y_) + 1), int(max(Y) + 1)) == 2:\n",
    "            average = 'binary'\n",
    "        else:\n",
    "            average = 'weighted'\n",
    "\n",
    "        accuracy = accuracy_score(Y_, Y)\n",
    "        precision = precision_score(Y_, Y, average=average)\n",
    "        recall = recall_score(Y_, Y, average=average)\n",
    "        f1 = f1_score(Y_, Y, average=average)\n",
    "\n",
    "        print(\"Accuracy: {0:.3f}\\n\"\n",
    "              \"Precision: {1:.3f}\\n\"\n",
    "              \"Recall: {2:.3f}\\n\"\n",
    "              \"F1: {3:.3f} \".format(accuracy, precision, recall, f1))"
   ]
  },
  {
   "cell_type": "code",
   "execution_count": 10,
   "metadata": {
    "scrolled": false
   },
   "outputs": [],
   "source": [
    "def fcann2_train(X, Y_, param_niter=1e5, param_delta=0.01):\n",
    "    \"\"\"\n",
    "        Method that performs training part of a Fully Connected Artificial Neural Network\n",
    "    :param X: dataset\n",
    "    :param Y_: true classes\n",
    "    :param param_niter: number of iterations\n",
    "    :param param_delta: strength of update on each iteration\n",
    "    :return:\n",
    "    \"\"\"\n",
    "    D = X.shape[1]\n",
    "    C = Y_.shape[1]\n",
    "    N = X.shape[0]\n",
    "\n",
    "    W1 = np.random.randn(D, HIDDEN_LAYER_DIM)\n",
    "    b1 = np.random.randn(1, HIDDEN_LAYER_DIM)\n",
    "\n",
    "    W2 = np.random.randn(HIDDEN_LAYER_DIM, C)\n",
    "    b2 = np.random.randn(1, C)\n",
    "\n",
    "    model = {}\n",
    "\n",
    "    prev_loss = 9999\n",
    "\n",
    "    for i in range(int(param_niter)+1):\n",
    "\n",
    "        ###### HIDDEN LAYER PASS ######\n",
    "        S1 = np.dot(X, W1) + b1\n",
    "        H1 = relu(S1)\n",
    "        S2 = np.dot(H1, W2) + b2\n",
    "\n",
    "        ##### SOFTMAX PART #####\n",
    "        exp_scores = np.exp(S2)\n",
    "        sumexp = np.sum(exp_scores, axis=1, keepdims=True)\n",
    "        probs = softmax(exp_scores, sumexp)\n",
    "\n",
    "        ##### UPDATES WEIGHTS #####\n",
    "        dS2 = (probs - Y_) / N\n",
    "\n",
    "        dS1 = np.dot(dS2, W2.T)\n",
    "        dS1[H1 <= 0] = 0  # reLU iz max(0, x), derivative is 0 if values are < 0\n",
    "\n",
    "        dW2 = np.dot(H1.T, dS2)\n",
    "        db2 = np.sum(dS2, axis=0, keepdims=True)\n",
    "\n",
    "        dW1 = np.dot(X.T, dS1)\n",
    "        db1 = np.sum(dS1, axis=0, keepdims=True)\n",
    "\n",
    "        # Add regularization terms (b1 and b2 don't have regularization terms)\n",
    "        dW2 += REG_LAMBDA * W2\n",
    "        dW1 += REG_LAMBDA * W1\n",
    "\n",
    "        # Gradient descent parameter update\n",
    "        W1 += -param_delta * dW1\n",
    "        b1 += -param_delta * db1\n",
    "        W2 += -param_delta * dW2\n",
    "        b2 += -param_delta * db2\n",
    "\n",
    "        correct_class_prob = probs[range(len(X)), np.argmax(Y_, axis=1)]\n",
    "        correct_class_logprobs = -np.log(correct_class_prob)  # N x 1\n",
    "        loss = correct_class_logprobs.sum()\n",
    "\n",
    "        if prev_loss > loss:\n",
    "            # Assign new parameters to the model\n",
    "            model = {'W1': W1, 'b1': b1, 'W2': W2, 'b2': b2, 'best_iter': i}\n",
    "            prev_loss = loss\n",
    "\n",
    "        # dijagnostički ispis\n",
    "        if i % 1000 == 0 and i != 0:\n",
    "            print(\"iteration {}: loss {}\".format(i, loss))\n",
    "\n",
    "    return model"
   ]
  },
  {
   "cell_type": "code",
   "execution_count": 11,
   "metadata": {
    "scrolled": false
   },
   "outputs": [],
   "source": [
    "def fcann2_classify(model, X):\n",
    "    \"\"\"\n",
    "        Method that performs classification based on trained NN model.\n",
    "    :param model: Trained NN model given from fcann2_train method\n",
    "    :param X: dataset\n",
    "    :return: classifications for each sample in X\n",
    "    \"\"\"\n",
    "    W1, b1, W2, b2 = model['W1'], model['b1'], model['W2'], model['b2']\n",
    "    # Forward propagation\n",
    "    z1 = X.dot(W1) + b1\n",
    "    a1 = np.array(relu(z1))\n",
    "    z2 = a1.dot(W2) + b2\n",
    "    exp_scores = np.exp(z2)\n",
    "    probs = exp_scores / np.sum(exp_scores, axis=1, keepdims=True)\n",
    "    return np.argmax(probs, axis=1)"
   ]
  },
  {
   "cell_type": "code",
   "execution_count": 12,
   "metadata": {
    "scrolled": false
   },
   "outputs": [],
   "source": [
    "np.random.seed(SEED)\n",
    "\n",
    "# get the training dataset\n",
    "X, Y_ = data.sample_gmm_2d(DISTRIBUTIONS, CLASSES, NUM_EXAMPLES)"
   ]
  },
  {
   "cell_type": "code",
   "execution_count": 13,
   "metadata": {
    "scrolled": false
   },
   "outputs": [],
   "source": [
    "one_hot = Y_.reshape(-1)\n",
    "one_hot = np.eye(CLASSES)[one_hot]"
   ]
  },
  {
   "cell_type": "code",
   "execution_count": 14,
   "metadata": {
    "scrolled": true
   },
   "outputs": [
    {
     "name": "stdout",
     "output_type": "stream",
     "text": [
      "iteration 1000: loss 25.694269461293334\n",
      "iteration 2000: loss 24.48974161517587\n",
      "iteration 3000: loss 23.96670444145429\n",
      "iteration 4000: loss 23.619893075233144\n",
      "iteration 5000: loss 23.37397466262886\n",
      "iteration 6000: loss 23.172466176796057\n",
      "iteration 7000: loss 23.002362861685015\n",
      "iteration 8000: loss 22.84753198956576\n",
      "iteration 9000: loss 22.70573626013558\n",
      "iteration 10000: loss 22.58097947754758\n",
      "iteration 11000: loss 22.456309242369706\n",
      "iteration 12000: loss 22.346660768169762\n",
      "iteration 13000: loss 22.250732192151695\n",
      "iteration 14000: loss 22.156839990925402\n",
      "iteration 15000: loss 22.084154069785257\n",
      "iteration 16000: loss 22.029379895734934\n",
      "iteration 17000: loss 22.004871553074377\n",
      "iteration 18000: loss 21.970800068894064\n",
      "iteration 19000: loss 21.941688791399077\n",
      "iteration 20000: loss 21.91655766932584\n",
      "iteration 21000: loss 21.85973030349454\n",
      "iteration 22000: loss 21.819484258901475\n",
      "iteration 23000: loss 21.76233656531072\n",
      "iteration 24000: loss 21.735395127767873\n",
      "iteration 25000: loss 21.700843237335082\n",
      "iteration 26000: loss 21.653369489361797\n",
      "iteration 27000: loss 21.62342146714962\n",
      "iteration 28000: loss 21.59115568950034\n",
      "iteration 29000: loss 21.566823112994147\n",
      "iteration 30000: loss 21.535947719250665\n",
      "iteration 31000: loss 21.516966095124666\n",
      "iteration 32000: loss 21.49692381194785\n",
      "iteration 33000: loss 21.476199352605178\n",
      "iteration 34000: loss 21.462295763012524\n",
      "iteration 35000: loss 21.441982144414798\n",
      "iteration 36000: loss 21.418200097904446\n",
      "iteration 37000: loss 21.406597642590498\n",
      "iteration 38000: loss 21.39263335040095\n",
      "iteration 39000: loss 21.377678186124893\n",
      "iteration 40000: loss 21.363719827681283\n",
      "iteration 41000: loss 21.355143265953455\n",
      "iteration 42000: loss 21.342390697543177\n",
      "iteration 43000: loss 21.33846928589841\n",
      "iteration 44000: loss 21.326344285639554\n",
      "iteration 45000: loss 21.32193957799243\n",
      "iteration 46000: loss 21.31333708956156\n",
      "iteration 47000: loss 21.305518100324843\n",
      "iteration 48000: loss 21.300125061287883\n",
      "iteration 49000: loss 21.2906267017813\n",
      "iteration 50000: loss 21.28476616970483\n",
      "iteration 51000: loss 21.279173458579187\n",
      "iteration 52000: loss 21.270801538287326\n",
      "iteration 53000: loss 21.265491963708865\n",
      "iteration 54000: loss 21.262589739208803\n",
      "iteration 55000: loss 21.255224561227532\n",
      "iteration 56000: loss 21.251882753106955\n",
      "iteration 57000: loss 21.24902853085794\n",
      "iteration 58000: loss 21.24353805693372\n",
      "iteration 59000: loss 21.23484369449364\n",
      "iteration 60000: loss 21.233930899610545\n",
      "iteration 61000: loss 21.229817733754697\n",
      "iteration 62000: loss 21.225498522843935\n",
      "iteration 63000: loss 21.22045776147183\n",
      "iteration 64000: loss 21.219384774054546\n",
      "iteration 65000: loss 21.214770434801277\n",
      "iteration 66000: loss 21.210080140199377\n",
      "iteration 67000: loss 21.207323260962387\n",
      "iteration 68000: loss 21.205594496524252\n",
      "iteration 69000: loss 21.203956810190377\n",
      "iteration 70000: loss 21.20108024221423\n",
      "iteration 71000: loss 21.196300975559293\n",
      "iteration 72000: loss 21.19511458473914\n",
      "iteration 73000: loss 21.192563408538895\n",
      "iteration 74000: loss 21.191168764231648\n",
      "iteration 75000: loss 21.18756397710833\n",
      "iteration 76000: loss 21.18744124304005\n",
      "iteration 77000: loss 21.185596959855946\n",
      "iteration 78000: loss 21.18192616738561\n",
      "iteration 79000: loss 21.17964669570619\n",
      "iteration 80000: loss 21.17817971709557\n",
      "iteration 81000: loss 21.177969142640986\n",
      "iteration 82000: loss 21.17627175382198\n",
      "iteration 83000: loss 21.17481564768787\n",
      "iteration 84000: loss 21.173165676504105\n",
      "iteration 85000: loss 21.17134601393014\n",
      "iteration 86000: loss 21.168566168748022\n",
      "iteration 87000: loss 21.168924667896345\n",
      "iteration 88000: loss 21.166200019510523\n",
      "iteration 89000: loss 21.16460528113899\n",
      "iteration 90000: loss 21.163821605084888\n",
      "iteration 91000: loss 21.163081759608094\n",
      "iteration 92000: loss 21.161946090247557\n",
      "iteration 93000: loss 21.16065752932192\n",
      "iteration 94000: loss 21.159071970499138\n",
      "iteration 95000: loss 21.158282873647362\n",
      "iteration 96000: loss 21.15717698072555\n",
      "iteration 97000: loss 21.156432250560915\n",
      "iteration 98000: loss 21.155652439070327\n",
      "iteration 99000: loss 21.15498549319276\n",
      "iteration 100000: loss 21.153744381897763\n",
      "Best weights at iteration: 99982\n"
     ]
    }
   ],
   "source": [
    "# train the model\n",
    "model = fcann2_train(X, one_hot)\n",
    "print (\"Best weights at iteration:\", model['best_iter'])"
   ]
  },
  {
   "cell_type": "code",
   "execution_count": 15,
   "metadata": {
    "scrolled": false
   },
   "outputs": [
    {
     "data": {
      "text/plain": [
       "array([0, 0, 0, 0, 0, 0, 0, 0, 0, 0, 1, 1, 1, 1, 1, 1, 1, 1, 1, 1, 1, 1, 1,\n",
       "       1, 1, 1, 1, 1, 1, 1, 0, 0, 0, 0, 0, 0, 0, 0, 0, 0, 1, 1, 1, 1, 1, 1,\n",
       "       1, 1, 1, 1, 2, 0, 2, 2, 2, 2, 2, 2, 2, 2])"
      ]
     },
     "execution_count": 15,
     "metadata": {},
     "output_type": "execute_result"
    }
   ],
   "source": [
    "Y = fcann2_classify(model, X)\n",
    "Y"
   ]
  },
  {
   "cell_type": "code",
   "execution_count": 16,
   "metadata": {},
   "outputs": [
    {
     "name": "stdout",
     "output_type": "stream",
     "text": [
      "Accuracy: 0.817\n",
      "Precision: 0.873\n",
      "Recall: 0.817\n",
      "F1: 0.799 \n"
     ]
    }
   ],
   "source": [
    "eval_perf(Y, Y_)"
   ]
  },
  {
   "cell_type": "code",
   "execution_count": 17,
   "metadata": {
    "scrolled": false
   },
   "outputs": [
    {
     "data": {
      "image/png": "[encoded data removed]",
      "text/plain": [
       "<matplotlib.figure.Figure at 0x7fc724987d68>"
      ]
     },
     "metadata": {},
     "output_type": "display_data"
    }
   ],
   "source": [
    "from matplotlib.colors import  ListedColormap\n",
    "\n",
    "colors = ['red', 'green', 'blue']\n",
    "plt.scatter(X[:, 0], X[:, 1], c=Y_.flatten(), cmap=ListedColormap(colors))\n",
    "plt.show()"
   ]
  },
  {
   "cell_type": "code",
   "execution_count": 18,
   "metadata": {
    "scrolled": false
   },
   "outputs": [
    {
     "data": {
      "image/png": "[encoded data removed]",
      "text/plain": [
       "<matplotlib.figure.Figure at 0x7fc724987400>"
      ]
     },
     "metadata": {},
     "output_type": "display_data"
    }
   ],
   "source": [
    "data.plot_decision_boundary(X, lambda x: fcann2_classify(model, x))\n",
    "\n",
    "# graph the data points\n",
    "data.graph_data(X, Y_, Y)"
   ]
  },
  {
   "cell_type": "code",
   "execution_count": 19,
   "metadata": {
    "scrolled": false
   },
   "outputs": [],
   "source": [
    "# more linearly splittable dataset\n",
    "SEED2 = 118"
   ]
  },
  {
   "cell_type": "code",
   "execution_count": 20,
   "metadata": {
    "scrolled": false
   },
   "outputs": [],
   "source": [
    "np.random.seed(SEED2)\n",
    "\n",
    "# get the training dataset\n",
    "X2, Y_2 = data.sample_gmm_2d(DISTRIBUTIONS, CLASSES, NUM_EXAMPLES)"
   ]
  },
  {
   "cell_type": "code",
   "execution_count": 21,
   "metadata": {
    "scrolled": false
   },
   "outputs": [],
   "source": [
    "one_hot2 = Y_2.reshape(-1)\n",
    "one_hot2 = np.eye(CLASSES)[one_hot2]"
   ]
  },
  {
   "cell_type": "code",
   "execution_count": 22,
   "metadata": {
    "scrolled": true
   },
   "outputs": [
    {
     "name": "stdout",
     "output_type": "stream",
     "text": [
      "iteration 1000: loss 14.30218617562224\n",
      "iteration 2000: loss 11.924010737756664\n",
      "iteration 3000: loss 10.700245022049652\n",
      "iteration 4000: loss 9.89248184841528\n",
      "iteration 5000: loss 9.302333865814099\n",
      "iteration 6000: loss 8.850153984148617\n",
      "iteration 7000: loss 8.49376773415513\n",
      "iteration 8000: loss 8.206767604940106\n",
      "iteration 9000: loss 7.973756202182349\n",
      "iteration 10000: loss 7.7809604068097915\n",
      "iteration 11000: loss 7.619631191628202\n",
      "iteration 12000: loss 7.479831988495018\n",
      "iteration 13000: loss 7.359355973592977\n",
      "iteration 14000: loss 7.253235562700449\n",
      "iteration 15000: loss 7.158439956107407\n",
      "iteration 16000: loss 7.073175549411898\n",
      "iteration 17000: loss 6.995895534049607\n",
      "iteration 18000: loss 6.924892133377467\n",
      "iteration 19000: loss 6.859134573461922\n",
      "iteration 20000: loss 6.798316861749374\n",
      "iteration 21000: loss 6.741110947520108\n",
      "iteration 22000: loss 6.687473258872937\n",
      "iteration 23000: loss 6.636793434730701\n",
      "iteration 24000: loss 6.588350088193296\n",
      "iteration 25000: loss 6.542316647510097\n",
      "iteration 26000: loss 6.498000797558647\n",
      "iteration 27000: loss 6.4556689995319045\n",
      "iteration 28000: loss 6.4148088367723375\n",
      "iteration 29000: loss 6.375344175597326\n",
      "iteration 30000: loss 6.337034939978768\n",
      "iteration 31000: loss 6.299922837200245\n",
      "iteration 32000: loss 6.263883958142355\n",
      "iteration 33000: loss 6.228809580987841\n",
      "iteration 34000: loss 6.19427641766972\n",
      "iteration 35000: loss 6.160813680792043\n",
      "iteration 36000: loss 6.1279162192775996\n",
      "iteration 37000: loss 6.09579516843144\n",
      "iteration 38000: loss 6.064395698613415\n",
      "iteration 39000: loss 6.033416310216197\n",
      "iteration 40000: loss 6.003259971910601\n",
      "iteration 41000: loss 5.973365240904121\n",
      "iteration 42000: loss 5.944204827755242\n",
      "iteration 43000: loss 5.915540389379789\n",
      "iteration 44000: loss 5.887239009418583\n",
      "iteration 45000: loss 5.859576729523631\n",
      "iteration 46000: loss 5.8323790787131085\n",
      "iteration 47000: loss 5.8053730275548725\n",
      "iteration 48000: loss 5.7790057851817105\n",
      "iteration 49000: loss 5.7531590705654185\n",
      "iteration 50000: loss 5.727572993584992\n",
      "iteration 51000: loss 5.7023442608091\n",
      "iteration 52000: loss 5.67757412294839\n",
      "iteration 53000: loss 5.653243922969031\n",
      "iteration 54000: loss 5.629347261371199\n",
      "iteration 55000: loss 5.605839851578907\n",
      "iteration 56000: loss 5.582552036785617\n",
      "iteration 57000: loss 5.559788901800516\n",
      "iteration 58000: loss 5.537331453578225\n",
      "iteration 59000: loss 5.515328029709121\n",
      "iteration 60000: loss 5.49376080263897\n",
      "iteration 61000: loss 5.472330554533852\n",
      "iteration 62000: loss 5.451518840976519\n",
      "iteration 63000: loss 5.4309243378938845\n",
      "iteration 64000: loss 5.410724923317341\n",
      "iteration 65000: loss 5.390746562629921\n",
      "iteration 66000: loss 5.371169183714969\n",
      "iteration 67000: loss 5.351960207957733\n",
      "iteration 68000: loss 5.333013612696409\n",
      "iteration 69000: loss 5.3145263564943015\n",
      "iteration 70000: loss 5.296397867847991\n",
      "iteration 71000: loss 5.278396448300509\n",
      "iteration 72000: loss 5.260792098196148\n",
      "iteration 73000: loss 5.243565370447488\n",
      "iteration 74000: loss 5.22676320309411\n",
      "iteration 75000: loss 5.209920995485035\n",
      "iteration 76000: loss 5.193601071262789\n",
      "iteration 77000: loss 5.177572770354423\n",
      "iteration 78000: loss 5.161732573604491\n",
      "iteration 79000: loss 5.1463098286795015\n",
      "iteration 80000: loss 5.1310918675195065\n",
      "iteration 81000: loss 5.1162494124661615\n",
      "iteration 82000: loss 5.101658479030822\n",
      "iteration 83000: loss 5.087175819038224\n",
      "iteration 84000: loss 5.072928579559603\n",
      "iteration 85000: loss 5.059184803115307\n",
      "iteration 86000: loss 5.0454707594727735\n",
      "iteration 87000: loss 5.032181842817359\n",
      "iteration 88000: loss 5.0191315139199375\n",
      "iteration 89000: loss 5.0062338770008195\n",
      "iteration 90000: loss 4.993371268790709\n",
      "iteration 91000: loss 4.980955538666241\n",
      "iteration 92000: loss 4.968743925903017\n",
      "iteration 93000: loss 4.956932103732328\n",
      "iteration 94000: loss 4.945003691504569\n",
      "iteration 95000: loss 4.933506193920747\n",
      "iteration 96000: loss 4.92202236798013\n",
      "iteration 97000: loss 4.910932945681707\n",
      "iteration 98000: loss 4.900257759913083\n",
      "iteration 99000: loss 4.889103544374919\n",
      "iteration 100000: loss 4.878532013697065\n",
      "Best weights at iteration: 99997\n"
     ]
    }
   ],
   "source": [
    "# train the model\n",
    "model2 = fcann2_train(X2, one_hot2)\n",
    "print (\"Best weights at iteration:\", model2['best_iter'])"
   ]
  },
  {
   "cell_type": "code",
   "execution_count": 23,
   "metadata": {
    "scrolled": false
   },
   "outputs": [
    {
     "data": {
      "text/plain": [
       "array([1, 1, 1, 1, 1, 1, 1, 1, 1, 1, 0, 0, 0, 0, 0, 0, 0, 0, 0, 0, 2, 2, 2,\n",
       "       2, 2, 2, 2, 2, 0, 2, 2, 2, 2, 2, 2, 2, 2, 2, 2, 2, 0, 0, 0, 0, 0, 0,\n",
       "       0, 0, 0, 0, 0, 0, 0, 0, 0, 0, 0, 0, 0, 0])"
      ]
     },
     "execution_count": 23,
     "metadata": {},
     "output_type": "execute_result"
    }
   ],
   "source": [
    "Y2 = fcann2_classify(model2, X2)\n",
    "Y2"
   ]
  },
  {
   "cell_type": "code",
   "execution_count": 24,
   "metadata": {},
   "outputs": [
    {
     "name": "stdout",
     "output_type": "stream",
     "text": [
      "Accuracy: 0.983\n",
      "Precision: 0.984\n",
      "Recall: 0.983\n",
      "F1: 0.983 \n"
     ]
    }
   ],
   "source": [
    "eval_perf(Y2, Y_2)"
   ]
  },
  {
   "cell_type": "code",
   "execution_count": 25,
   "metadata": {
    "scrolled": false
   },
   "outputs": [
    {
     "data": {
      "image/png": "[encoded data removed]",
      "text/plain": [
       "<matplotlib.figure.Figure at 0x7fc7228dac18>"
      ]
     },
     "metadata": {},
     "output_type": "display_data"
    }
   ],
   "source": [
    "plt.scatter(X2[:, 0], X2[:, 1], c=Y_2.flatten(), cmap=ListedColormap(colors))\n",
    "plt.show()"
   ]
  },
  {
   "cell_type": "code",
   "execution_count": 26,
   "metadata": {
    "scrolled": false
   },
   "outputs": [
    {
     "data": {
      "image/png": "[encoded data removed]",
      "text/plain": [
       "<matplotlib.figure.Figure at 0x7fc7227a9c88>"
      ]
     },
     "metadata": {},
     "output_type": "display_data"
    }
   ],
   "source": [
    "data.plot_decision_boundary(X2, lambda x: fcann2_classify(model2, x))\n",
    "\n",
    "# graph the data points\n",
    "data.graph_data(X2, Y_2, Y2)"
   ]
  },
  {
   "cell_type": "code",
   "execution_count": null,
   "metadata": {
    "scrolled": false
   },
   "outputs": [],
   "source": []
  }
 ],
 "metadata": {
  "kernelspec": {
   "display_name": "Python 3",
   "language": "python",
   "name": "python3"
  },
  "language_info": {
   "codemirror_mode": {
    "name": "ipython",
    "version": 3
   },
   "file_extension": ".py",
   "mimetype": "text/x-python",
   "name": "python",
   "nbconvert_exporter": "python",
   "pygments_lexer": "ipython3",
   "version": "3.5.2"
  }
 },
 "nbformat": 4,
 "nbformat_minor": 2
}
