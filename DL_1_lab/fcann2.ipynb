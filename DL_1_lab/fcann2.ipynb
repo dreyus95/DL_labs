{
 "cells": [
  {
   "cell_type": "code",
   "execution_count": 26,
   "metadata": {
    "scrolled": false
   },
   "outputs": [],
   "source": [
    "import numpy as np\n",
    "import matplotlib.pyplot as plt\n",
    "import data\n",
    "from sklearn.metrics import f1_score, precision_score, recall_score, accuracy_score"
   ]
  },
  {
   "cell_type": "code",
   "execution_count": 27,
   "metadata": {
    "scrolled": false
   },
   "outputs": [],
   "source": [
    "HIDDEN_LAYER_DIM = 5\n",
    "SEED = 103\n",
    "NUM_EXAMPLES = 10\n",
    "CLASSES = 3\n",
    "DISTRIBUTIONS = 6\n",
    "REG_LAMBDA = 1e-3"
   ]
  },
  {
   "cell_type": "markdown",
   "metadata": {},
   "source": [
    "<h1> UTIL METHODS </h1>"
   ]
  },
  {
   "cell_type": "code",
   "execution_count": 28,
   "metadata": {
    "scrolled": false
   },
   "outputs": [],
   "source": [
    "def relu(entry):\n",
    "    output = entry * (entry > 0)\n",
    "    return np.array(output)\n",
    "\n",
    "\n",
    "def softmax(z, entry):\n",
    "    res = np.divide(z, entry)\n",
    "    return res\n",
    "\n",
    "def eval_perf(Y, Y_):\n",
    "        # needed to compute scores of our model\n",
    "        # 'weighted' takes into consideration labels imbalance\n",
    "        if max(int(max(Y_) + 1), int(max(Y) + 1)) == 2:\n",
    "            average = 'binary'\n",
    "        else:\n",
    "            average = 'weighted'\n",
    "\n",
    "        accuracy = accuracy_score(Y_, Y)\n",
    "        precision = precision_score(Y_, Y, average=average)\n",
    "        recall = recall_score(Y_, Y, average=average)\n",
    "        f1 = f1_score(Y_, Y, average=average)\n",
    "\n",
    "        print(\"Accuracy: {0:.3f}\\n\"\n",
    "              \"Precision: {1:.3f}\\n\"\n",
    "              \"Recall: {2:.3f}\\n\"\n",
    "              \"F1: {3:.3f} \".format(accuracy, precision, recall, f1))"
   ]
  },
  {
   "cell_type": "markdown",
   "metadata": {},
   "source": [
    "<h1> FCANN2 TRAIN </h1>"
   ]
  },
  {
   "cell_type": "code",
   "execution_count": 29,
   "metadata": {
    "scrolled": false
   },
   "outputs": [],
   "source": [
    "def fcann2_train(X, Y_, param_niter=1e5, param_delta=0.01):\n",
    "    \"\"\"\n",
    "        Method that performs training part of a Fully Connected Artificial Neural Network\n",
    "    :param X: dataset\n",
    "    :param Y_: true classes\n",
    "    :param param_niter: number of iterations\n",
    "    :param param_delta: strength of update on each iteration\n",
    "    :return:\n",
    "    \"\"\"\n",
    "    D = X.shape[1]\n",
    "    C = Y_.shape[1]\n",
    "    N = X.shape[0]\n",
    "\n",
    "    W1 = np.random.randn(D, HIDDEN_LAYER_DIM)\n",
    "    b1 = np.random.randn(1, HIDDEN_LAYER_DIM)\n",
    "\n",
    "    W2 = np.random.randn(HIDDEN_LAYER_DIM, C)\n",
    "    b2 = np.random.randn(1, C)\n",
    "\n",
    "    model = {}\n",
    "\n",
    "    prev_loss = 9999\n",
    "\n",
    "    for i in range(int(param_niter)+1):\n",
    "\n",
    "        ###### HIDDEN LAYER PASS ######\n",
    "        S1 = np.dot(X, W1) + b1\n",
    "        H1 = relu(S1)\n",
    "        S2 = np.dot(H1, W2) + b2\n",
    "\n",
    "        ##### SOFTMAX PART #####\n",
    "        exp_scores = np.exp(S2 - np.max(S2))\n",
    "        sumexp = np.sum(exp_scores, axis=1, keepdims=True)\n",
    "        probs = softmax(exp_scores, sumexp)\n",
    "\n",
    "        ##### UPDATES WEIGHTS #####\n",
    "        dS2 = (probs - Y_) / N\n",
    "\n",
    "        dS1 = np.dot(dS2, W2.T)\n",
    "        dS1[H1 <= 0] = 0  # reLU iz max(0, x), derivative is 0 if values are < 0\n",
    "\n",
    "        dW2 = np.dot(H1.T, dS2)\n",
    "        db2 = np.sum(dS2, axis=0, keepdims=True)\n",
    "\n",
    "        dW1 = np.dot(X.T, dS1)\n",
    "        db1 = np.sum(dS1, axis=0, keepdims=True)\n",
    "\n",
    "        # Add regularization terms (b1 and b2 don't have regularization terms)\n",
    "        dW2 += REG_LAMBDA * W2\n",
    "        dW1 += REG_LAMBDA * W1\n",
    "\n",
    "        # Gradient descent parameter update\n",
    "        W1 += -param_delta * dW1\n",
    "        b1 += -param_delta * db1\n",
    "        W2 += -param_delta * dW2\n",
    "        b2 += -param_delta * db2\n",
    "\n",
    "        correct_class_prob = probs[range(len(X)), np.argmax(Y_, axis=1)]\n",
    "        correct_class_logprobs = -np.log(correct_class_prob)  # N x 1\n",
    "        loss = correct_class_logprobs.sum()\n",
    "\n",
    "        if prev_loss > loss:\n",
    "            # Assign new parameters to the model\n",
    "            model = {'W1': W1, 'b1': b1, 'W2': W2, 'b2': b2, 'best_iter': i}\n",
    "            prev_loss = loss\n",
    "\n",
    "        # dijagnostički ispis\n",
    "        if i % 1000 == 0 and i != 0:\n",
    "            print(\"iteration {}: loss {}\".format(i, loss))\n",
    "\n",
    "    return model"
   ]
  },
  {
   "cell_type": "markdown",
   "metadata": {},
   "source": [
    "<h1> FCANN2 CLASSIFY</h1>"
   ]
  },
  {
   "cell_type": "code",
   "execution_count": 30,
   "metadata": {
    "scrolled": false
   },
   "outputs": [],
   "source": [
    "def fcann2_classify(model, X):\n",
    "    \"\"\"\n",
    "        Method that performs classification based on trained NN model.\n",
    "    :param model: Trained NN model given from fcann2_train method\n",
    "    :param X: dataset\n",
    "    :return: classifications for each sample in X\n",
    "    \"\"\"\n",
    "    W1, b1, W2, b2 = model['W1'], model['b1'], model['W2'], model['b2']\n",
    "    # Forward propagation\n",
    "    z1 = X.dot(W1) + b1\n",
    "    a1 = np.array(relu(z1))\n",
    "    z2 = a1.dot(W2) + b2\n",
    "    exp_scores = np.exp(z2 - np.max(z2))\n",
    "    probs = exp_scores / np.sum(exp_scores, axis=1, keepdims=True)\n",
    "    return np.argmax(probs, axis=1)"
   ]
  },
  {
   "cell_type": "markdown",
   "metadata": {},
   "source": [
    "<h1> DEMOS </h1>\n",
    "\n",
    "<h3> USING 3 CLASSES </h3>"
   ]
  },
  {
   "cell_type": "code",
   "execution_count": 31,
   "metadata": {
    "scrolled": false
   },
   "outputs": [],
   "source": [
    "np.random.seed(SEED)\n",
    "\n",
    "# get the training dataset\n",
    "X, Y_ = data.sample_gmm_2d(DISTRIBUTIONS, CLASSES, NUM_EXAMPLES)"
   ]
  },
  {
   "cell_type": "code",
   "execution_count": 32,
   "metadata": {
    "scrolled": false
   },
   "outputs": [],
   "source": [
    "one_hot = Y_.reshape(-1)\n",
    "one_hot = np.eye(CLASSES)[one_hot]"
   ]
  },
  {
   "cell_type": "code",
   "execution_count": 33,
   "metadata": {
    "scrolled": true
   },
   "outputs": [
    {
     "name": "stdout",
     "output_type": "stream",
     "text": [
      "iteration 1000: loss 25.694269461293338\n",
      "iteration 2000: loss 24.489741615175873\n",
      "iteration 3000: loss 23.966704441454294\n",
      "iteration 4000: loss 23.619893075233165\n",
      "iteration 5000: loss 23.373974662628857\n",
      "iteration 6000: loss 23.17246617679606\n",
      "iteration 7000: loss 23.002362861685018\n",
      "iteration 8000: loss 22.847531989565752\n",
      "iteration 9000: loss 22.705736260135573\n",
      "iteration 10000: loss 22.580979477547558\n",
      "iteration 11000: loss 22.45630924236969\n",
      "iteration 12000: loss 22.346660768169762\n",
      "iteration 13000: loss 22.250732192151684\n",
      "iteration 14000: loss 22.156839990925384\n",
      "iteration 15000: loss 22.08415406978527\n",
      "iteration 16000: loss 22.029379895734934\n",
      "iteration 17000: loss 22.004871553074366\n",
      "iteration 18000: loss 21.97080006889399\n",
      "iteration 19000: loss 21.941688791399027\n",
      "iteration 20000: loss 21.916557669325865\n",
      "iteration 21000: loss 21.85973030349449\n",
      "iteration 22000: loss 21.81948425890144\n",
      "iteration 23000: loss 21.762336565310754\n",
      "iteration 24000: loss 21.735395127767863\n",
      "iteration 25000: loss 21.70084323733506\n",
      "iteration 26000: loss 21.65336948936179\n",
      "iteration 27000: loss 21.623421467149623\n",
      "iteration 28000: loss 21.591155689500305\n",
      "iteration 29000: loss 21.56682311299413\n",
      "iteration 30000: loss 21.535947719250643\n",
      "iteration 31000: loss 21.516966095124662\n",
      "iteration 32000: loss 21.49692381194784\n",
      "iteration 33000: loss 21.476199352605214\n",
      "iteration 34000: loss 21.462295763012516\n",
      "iteration 35000: loss 21.441982144414826\n",
      "iteration 36000: loss 21.418200097904464\n",
      "iteration 37000: loss 21.406597642590548\n",
      "iteration 38000: loss 21.392633350400956\n",
      "iteration 39000: loss 21.37767818612491\n",
      "iteration 40000: loss 21.363719827681273\n",
      "iteration 41000: loss 21.355143265953455\n",
      "iteration 42000: loss 21.3423906975432\n",
      "iteration 43000: loss 21.338469285898423\n",
      "iteration 44000: loss 21.32634428563954\n",
      "iteration 45000: loss 21.321939577992396\n",
      "iteration 46000: loss 21.313337089561557\n",
      "iteration 47000: loss 21.305518100324814\n",
      "iteration 48000: loss 21.300125061287876\n",
      "iteration 49000: loss 21.29062670178127\n",
      "iteration 50000: loss 21.28476616970481\n",
      "iteration 51000: loss 21.27917345857917\n",
      "iteration 52000: loss 21.270801538287326\n",
      "iteration 53000: loss 21.26549196370886\n",
      "iteration 54000: loss 21.26258973920879\n",
      "iteration 55000: loss 21.25522456122751\n",
      "iteration 56000: loss 21.251882753106933\n",
      "iteration 57000: loss 21.24902853085796\n",
      "iteration 58000: loss 21.243538056933733\n",
      "iteration 59000: loss 21.23484369449366\n",
      "iteration 60000: loss 21.23393089961054\n",
      "iteration 61000: loss 21.229817733754693\n",
      "iteration 62000: loss 21.225498522843928\n",
      "iteration 63000: loss 21.220457761471845\n",
      "iteration 64000: loss 21.219384774054536\n",
      "iteration 65000: loss 21.214770434801288\n",
      "iteration 66000: loss 21.21008014019941\n",
      "iteration 67000: loss 21.20732326096238\n",
      "iteration 68000: loss 21.20559449652425\n",
      "iteration 69000: loss 21.203956810190387\n",
      "iteration 70000: loss 21.201080242214232\n",
      "iteration 71000: loss 21.196300975559293\n",
      "iteration 72000: loss 21.195114584739144\n",
      "iteration 73000: loss 21.192563408538888\n",
      "iteration 74000: loss 21.191168764231662\n",
      "iteration 75000: loss 21.187563977108336\n",
      "iteration 76000: loss 21.18744124304005\n",
      "iteration 77000: loss 21.185596959855935\n",
      "iteration 78000: loss 21.1819261673856\n",
      "iteration 79000: loss 21.179646695706175\n",
      "iteration 80000: loss 21.178179717095556\n",
      "iteration 81000: loss 21.177969142640972\n",
      "iteration 82000: loss 21.17627175382198\n",
      "iteration 83000: loss 21.174815647687865\n",
      "iteration 84000: loss 21.1731656765041\n",
      "iteration 85000: loss 21.171346013930155\n",
      "iteration 86000: loss 21.16856616874801\n",
      "iteration 87000: loss 21.168924667896356\n",
      "iteration 88000: loss 21.16620001951055\n",
      "iteration 89000: loss 21.164605281139004\n",
      "iteration 90000: loss 21.16382160508489\n",
      "iteration 91000: loss 21.163081759608072\n",
      "iteration 92000: loss 21.161946090247575\n",
      "iteration 93000: loss 21.16065752932193\n",
      "iteration 94000: loss 21.15907197049916\n",
      "iteration 95000: loss 21.15828287364736\n",
      "iteration 96000: loss 21.15717698072554\n",
      "iteration 97000: loss 21.156432250560915\n",
      "iteration 98000: loss 21.155652439070337\n",
      "iteration 99000: loss 21.154985493192765\n",
      "iteration 100000: loss 21.153744381897774\n",
      "Best weights at iteration: 99982\n"
     ]
    }
   ],
   "source": [
    "# train the model\n",
    "model = fcann2_train(X, one_hot)\n",
    "print (\"Best weights at iteration:\", model['best_iter'])"
   ]
  },
  {
   "cell_type": "code",
   "execution_count": 34,
   "metadata": {
    "scrolled": false
   },
   "outputs": [
    {
     "name": "stdout",
     "output_type": "stream",
     "text": [
      "[0 0 0 0 0 0 0 0 0 0 1 1 1 1 1 1 1 1 1 1 1 1 1 1 1 1 1 1 1 1 0 0 0 0 0 0 0\n",
      " 0 0 0 1 1 1 1 1 1 1 1 1 1 2 0 2 2 2 2 2 2 2 2]\n",
      "[0 0 0 0 0 0 0 0 0 0 2 2 2 2 2 2 2 2 2 2 1 1 1 1 1 1 1 1 1 1 0 0 0 0 0 0 0\n",
      " 0 0 0 1 1 1 1 1 1 1 1 1 1 2 2 2 2 2 2 2 2 2 2]\n",
      "Accuracy: 0.817\n",
      "Precision: 0.873\n",
      "Recall: 0.817\n",
      "F1: 0.799 \n"
     ]
    }
   ],
   "source": [
    "Y = fcann2_classify(model, X)\n",
    "print(Y)\n",
    "print(Y_.flatten())\n",
    "\n",
    "eval_perf(Y, Y_)"
   ]
  },
  {
   "cell_type": "code",
   "execution_count": 35,
   "metadata": {
    "scrolled": false
   },
   "outputs": [
    {
     "data": {
      "image/png": "[encoded data removed]",
      "text/plain": [
       "<matplotlib.figure.Figure at 0x7fde9865f128>"
      ]
     },
     "metadata": {},
     "output_type": "display_data"
    },
    {
     "data": {
      "image/png": "[encoded data removed]",
      "text/plain": [
       "<matplotlib.figure.Figure at 0x7fde9702f4e0>"
      ]
     },
     "metadata": {},
     "output_type": "display_data"
    }
   ],
   "source": [
    "from matplotlib.colors import  ListedColormap\n",
    "\n",
    "colors = ['red', 'green', 'blue']\n",
    "plt.scatter(X[:, 0], X[:, 1], c=Y_.flatten(), cmap=ListedColormap(colors))\n",
    "plt.show()\n",
    "\n",
    "data.plot_decision_boundary(X, lambda x: fcann2_classify(model, x))\n",
    "\n",
    "# graph the data points\n",
    "data.graph_data(X, Y_, Y)"
   ]
  },
  {
   "cell_type": "code",
   "execution_count": 36,
   "metadata": {
    "scrolled": false
   },
   "outputs": [],
   "source": [
    "# more linearly splittable dataset\n",
    "SEED2 = 118"
   ]
  },
  {
   "cell_type": "code",
   "execution_count": 37,
   "metadata": {
    "scrolled": false
   },
   "outputs": [],
   "source": [
    "np.random.seed(SEED2)\n",
    "\n",
    "# get the training dataset\n",
    "X2, Y_2 = data.sample_gmm_2d(DISTRIBUTIONS, CLASSES, NUM_EXAMPLES)"
   ]
  },
  {
   "cell_type": "code",
   "execution_count": 38,
   "metadata": {
    "scrolled": false
   },
   "outputs": [],
   "source": [
    "one_hot2 = Y_2.reshape(-1)\n",
    "one_hot2 = np.eye(CLASSES)[one_hot2]"
   ]
  },
  {
   "cell_type": "code",
   "execution_count": 39,
   "metadata": {
    "scrolled": true
   },
   "outputs": [
    {
     "name": "stdout",
     "output_type": "stream",
     "text": [
      "iteration 1000: loss 14.30218617562223\n",
      "iteration 2000: loss 11.924010737756664\n",
      "iteration 3000: loss 10.700245022049655\n",
      "iteration 4000: loss 9.892481848415278\n",
      "iteration 5000: loss 9.302333865814095\n",
      "iteration 6000: loss 8.850153984148614\n",
      "iteration 7000: loss 8.493767734155155\n",
      "iteration 8000: loss 8.206767604940099\n",
      "iteration 9000: loss 7.973756202182352\n",
      "iteration 10000: loss 7.780960406809802\n",
      "iteration 11000: loss 7.6196311916282005\n",
      "iteration 12000: loss 7.479831988495014\n",
      "iteration 13000: loss 7.359355973592969\n",
      "iteration 14000: loss 7.253235562700441\n",
      "iteration 15000: loss 7.158439956107389\n",
      "iteration 16000: loss 7.073175549411879\n",
      "iteration 17000: loss 6.9958955340496045\n",
      "iteration 18000: loss 6.924892133377466\n",
      "iteration 19000: loss 6.859134573461904\n",
      "iteration 20000: loss 6.798316861749361\n",
      "iteration 21000: loss 6.7411109475201085\n",
      "iteration 22000: loss 6.687473258872941\n",
      "iteration 23000: loss 6.6367934347306905\n",
      "iteration 24000: loss 6.58835008819328\n",
      "iteration 25000: loss 6.542316647510082\n",
      "iteration 26000: loss 6.49800079755863\n",
      "iteration 27000: loss 6.455668999531887\n",
      "iteration 28000: loss 6.414808836772332\n",
      "iteration 29000: loss 6.3753441755972995\n",
      "iteration 30000: loss 6.337034939978759\n",
      "iteration 31000: loss 6.299922837200225\n",
      "iteration 32000: loss 6.26388395814234\n",
      "iteration 33000: loss 6.228809580987828\n",
      "iteration 34000: loss 6.194276417669709\n",
      "iteration 35000: loss 6.160813680792057\n",
      "iteration 36000: loss 6.127916219277594\n",
      "iteration 37000: loss 6.095795168431423\n",
      "iteration 38000: loss 6.0643956986134055\n",
      "iteration 39000: loss 6.033416310216199\n",
      "iteration 40000: loss 6.003259971910593\n",
      "iteration 41000: loss 5.973365240904097\n",
      "iteration 42000: loss 5.944204827755233\n",
      "iteration 43000: loss 5.915540389379788\n",
      "iteration 44000: loss 5.887239009418562\n",
      "iteration 45000: loss 5.859576729523616\n",
      "iteration 46000: loss 5.832379078713096\n",
      "iteration 47000: loss 5.805373027554869\n",
      "iteration 48000: loss 5.779005785181697\n",
      "iteration 49000: loss 5.753159070565411\n",
      "iteration 50000: loss 5.727572993584989\n",
      "iteration 51000: loss 5.702344260809096\n",
      "iteration 52000: loss 5.677574122948393\n",
      "iteration 53000: loss 5.65324392296902\n",
      "iteration 54000: loss 5.629347261371192\n",
      "iteration 55000: loss 5.605839851578906\n",
      "iteration 56000: loss 5.582552036785608\n",
      "iteration 57000: loss 5.559788901800505\n",
      "iteration 58000: loss 5.537331453578231\n",
      "iteration 59000: loss 5.515328029709103\n",
      "iteration 60000: loss 5.493760802638964\n",
      "iteration 61000: loss 5.472330554533848\n",
      "iteration 62000: loss 5.451518840976498\n",
      "iteration 63000: loss 5.430924337893871\n",
      "iteration 64000: loss 5.410724923317334\n",
      "iteration 65000: loss 5.3907465626299205\n",
      "iteration 66000: loss 5.371169183714983\n",
      "iteration 67000: loss 5.351960207957723\n",
      "iteration 68000: loss 5.333013612696404\n",
      "iteration 69000: loss 5.314526356494304\n",
      "iteration 70000: loss 5.296397867848003\n",
      "iteration 71000: loss 5.278396448300513\n",
      "iteration 72000: loss 5.260792098196141\n",
      "iteration 73000: loss 5.24356537044747\n",
      "iteration 74000: loss 5.226763203094097\n",
      "iteration 75000: loss 5.209920995485042\n",
      "iteration 76000: loss 5.193601071262771\n",
      "iteration 77000: loss 5.177572770354393\n",
      "iteration 78000: loss 5.161732573604471\n",
      "iteration 79000: loss 5.1463098286795095\n",
      "iteration 80000: loss 5.131091867519487\n",
      "iteration 81000: loss 5.116249412466152\n",
      "iteration 82000: loss 5.10165847903079\n",
      "iteration 83000: loss 5.087175819038201\n",
      "iteration 84000: loss 5.072928579559586\n",
      "iteration 85000: loss 5.059184803115296\n",
      "iteration 86000: loss 5.0454707594727495\n",
      "iteration 87000: loss 5.03218184281735\n",
      "iteration 88000: loss 5.0191315139199375\n",
      "iteration 89000: loss 5.006233877000802\n",
      "iteration 90000: loss 4.993371268790689\n",
      "iteration 91000: loss 4.980955538666242\n",
      "iteration 92000: loss 4.9687439259029995\n",
      "iteration 93000: loss 4.956932103732315\n",
      "iteration 94000: loss 4.945003691504554\n",
      "iteration 95000: loss 4.93350619392075\n",
      "iteration 96000: loss 4.9220223679801345\n",
      "iteration 97000: loss 4.910932945681691\n",
      "iteration 98000: loss 4.900257759913073\n",
      "iteration 99000: loss 4.889103544374905\n",
      "iteration 100000: loss 4.878532013697068\n",
      "Best weights at iteration: 99997\n"
     ]
    }
   ],
   "source": [
    "# train the model\n",
    "model2 = fcann2_train(X2, one_hot2)\n",
    "print (\"Best weights at iteration:\", model2['best_iter'])"
   ]
  },
  {
   "cell_type": "code",
   "execution_count": 40,
   "metadata": {
    "scrolled": false
   },
   "outputs": [
    {
     "name": "stdout",
     "output_type": "stream",
     "text": [
      "[1 1 1 1 1 1 1 1 1 1 0 0 0 0 0 0 0 0 0 0 2 2 2 2 2 2 2 2 0 2 2 2 2 2 2 2 2\n",
      " 2 2 2 0 0 0 0 0 0 0 0 0 0 0 0 0 0 0 0 0 0 0 0]\n",
      "[1 1 1 1 1 1 1 1 1 1 0 0 0 0 0 0 0 0 0 0 2 2 2 2 2 2 2 2 2 2 2 2 2 2 2 2 2\n",
      " 2 2 2 0 0 0 0 0 0 0 0 0 0 0 0 0 0 0 0 0 0 0 0]\n",
      "Accuracy: 0.983\n",
      "Precision: 0.984\n",
      "Recall: 0.983\n",
      "F1: 0.983 \n"
     ]
    }
   ],
   "source": [
    "Y2 = fcann2_classify(model2, X2)\n",
    "print(Y2)\n",
    "print(Y_2.flatten())\n",
    "\n",
    "eval_perf(Y2, Y_2)"
   ]
  },
  {
   "cell_type": "code",
   "execution_count": 41,
   "metadata": {
    "scrolled": false
   },
   "outputs": [
    {
     "data": {
      "image/png": "[encoded data removed]",
      "text/plain": [
       "<matplotlib.figure.Figure at 0x7fde98724128>"
      ]
     },
     "metadata": {},
     "output_type": "display_data"
    },
    {
     "data": {
      "image/png": "[encoded data removed]",
      "text/plain": [
       "<matplotlib.figure.Figure at 0x7fde9861eef0>"
      ]
     },
     "metadata": {},
     "output_type": "display_data"
    }
   ],
   "source": [
    "plt.scatter(X2[:, 0], X2[:, 1], c=Y_2.flatten(), cmap=ListedColormap(colors))\n",
    "plt.show()\n",
    "\n",
    "data.plot_decision_boundary(X2, lambda x: fcann2_classify(model2, x))\n",
    "\n",
    "# graph the data points\n",
    "data.graph_data(X2, Y_2, Y2)"
   ]
  },
  {
   "cell_type": "markdown",
   "metadata": {},
   "source": [
    "<h3> USING ONLY 2 CLASSES </h3>"
   ]
  },
  {
   "cell_type": "code",
   "execution_count": 42,
   "metadata": {
    "scrolled": false
   },
   "outputs": [],
   "source": [
    "SEED3 = 100\n",
    "NUM_EXAMPLES = 10\n",
    "CLASSES = 2"
   ]
  },
  {
   "cell_type": "code",
   "execution_count": 43,
   "metadata": {},
   "outputs": [],
   "source": [
    "np.random.seed(SEED3)\n",
    "\n",
    "# get the training dataset\n",
    "X3, Y_3 = data.sample_gmm_2d(DISTRIBUTIONS, CLASSES, NUM_EXAMPLES)"
   ]
  },
  {
   "cell_type": "code",
   "execution_count": 44,
   "metadata": {},
   "outputs": [],
   "source": [
    "one_hot3 = Y_3.reshape(-1)\n",
    "one_hot3 = np.eye(CLASSES)[one_hot3]"
   ]
  },
  {
   "cell_type": "code",
   "execution_count": 45,
   "metadata": {
    "scrolled": true
   },
   "outputs": [
    {
     "name": "stdout",
     "output_type": "stream",
     "text": [
      "iteration 1000: loss 37.622139154654654\n",
      "iteration 2000: loss 37.45013916926295\n",
      "iteration 3000: loss 37.409600976303246\n",
      "iteration 4000: loss 37.36379001381855\n",
      "iteration 5000: loss 37.31482986581079\n",
      "iteration 6000: loss 37.26634858035894\n",
      "iteration 7000: loss 37.215509156364426\n",
      "iteration 8000: loss 37.16952630024465\n",
      "iteration 9000: loss 37.12519665454229\n",
      "iteration 10000: loss 37.0801239175828\n",
      "iteration 11000: loss 37.03819322054927\n",
      "iteration 12000: loss 36.97864064011344\n",
      "iteration 13000: loss 36.917202011403255\n",
      "iteration 14000: loss 36.85801748469629\n",
      "iteration 15000: loss 36.78850737960406\n",
      "iteration 16000: loss 36.7246273530009\n",
      "iteration 17000: loss 36.65782559040713\n",
      "iteration 18000: loss 36.59606706805458\n",
      "iteration 19000: loss 36.53675033901045\n",
      "iteration 20000: loss 36.46934231158611\n",
      "iteration 21000: loss 36.41802848024003\n",
      "iteration 22000: loss 36.35049301468477\n",
      "iteration 23000: loss 36.298048800675645\n",
      "iteration 24000: loss 36.25864933747253\n",
      "iteration 25000: loss 36.20628529161306\n",
      "iteration 26000: loss 36.15773705257163\n",
      "iteration 27000: loss 36.12320296765776\n",
      "iteration 28000: loss 36.08582393860156\n",
      "iteration 29000: loss 36.05540159006693\n",
      "iteration 30000: loss 36.00930021844926\n",
      "iteration 31000: loss 35.891662975435764\n",
      "iteration 32000: loss 35.86910909322724\n",
      "iteration 33000: loss 35.841662699995474\n",
      "iteration 34000: loss 35.82488445293248\n",
      "iteration 35000: loss 35.792757953285765\n",
      "iteration 36000: loss 35.77428492654453\n",
      "iteration 37000: loss 35.75102482494504\n",
      "iteration 38000: loss 35.7587105223781\n",
      "iteration 39000: loss 35.73711037175973\n",
      "iteration 40000: loss 35.730636209800416\n",
      "iteration 41000: loss 35.6971559238467\n",
      "iteration 42000: loss 35.69957969099196\n",
      "iteration 43000: loss 35.671818312300765\n",
      "iteration 44000: loss 35.678625956495594\n",
      "iteration 45000: loss 35.67731197545364\n",
      "iteration 46000: loss 35.66885458210568\n",
      "iteration 47000: loss 35.6629577558663\n",
      "iteration 48000: loss 35.651242082024815\n",
      "iteration 49000: loss 35.643867775986614\n",
      "iteration 50000: loss 35.639880501154195\n",
      "iteration 51000: loss 35.63514408800219\n",
      "iteration 52000: loss 35.624292373116084\n",
      "iteration 53000: loss 35.626574157246104\n",
      "iteration 54000: loss 35.60172944442554\n",
      "iteration 55000: loss 35.61173458513074\n",
      "iteration 56000: loss 35.58976866330681\n",
      "iteration 57000: loss 35.60756990264923\n",
      "iteration 58000: loss 35.599620165002804\n",
      "iteration 59000: loss 35.587918654182445\n",
      "iteration 60000: loss 35.572925395581336\n",
      "iteration 61000: loss 35.590699914342956\n",
      "iteration 62000: loss 35.57706716634887\n",
      "iteration 63000: loss 35.58095939857153\n",
      "iteration 64000: loss 35.56221796700502\n",
      "iteration 65000: loss 35.56513282669871\n",
      "iteration 66000: loss 35.57299813770049\n",
      "iteration 67000: loss 35.5584045361463\n",
      "iteration 68000: loss 35.54994324830609\n",
      "iteration 69000: loss 35.544469993953214\n",
      "iteration 70000: loss 35.56454998528627\n",
      "iteration 71000: loss 35.56519319208041\n",
      "iteration 72000: loss 35.54763317655203\n",
      "iteration 73000: loss 35.56078118559498\n",
      "iteration 74000: loss 35.53110713157725\n",
      "iteration 75000: loss 35.55191841041638\n",
      "iteration 76000: loss 35.537477824925965\n",
      "iteration 77000: loss 35.53631625720294\n",
      "iteration 78000: loss 35.549399983589176\n",
      "iteration 79000: loss 35.52883434721763\n",
      "iteration 80000: loss 35.54729939558353\n",
      "iteration 81000: loss 35.54602962077365\n",
      "iteration 82000: loss 35.54052525609036\n",
      "iteration 83000: loss 35.52839987779096\n",
      "iteration 84000: loss 35.520729509983894\n",
      "iteration 85000: loss 35.51391163600981\n",
      "iteration 86000: loss 35.51684420563162\n",
      "iteration 87000: loss 35.5160531753236\n",
      "iteration 88000: loss 35.519206476683834\n",
      "iteration 89000: loss 35.52934866915407\n",
      "iteration 90000: loss 35.51791535189944\n",
      "iteration 91000: loss 35.51207920090914\n",
      "iteration 92000: loss 35.52350249990968\n",
      "iteration 93000: loss 35.512212955500424\n",
      "iteration 94000: loss 35.5136043721033\n",
      "iteration 95000: loss 35.5063013463379\n",
      "iteration 96000: loss 35.51766665415599\n",
      "iteration 97000: loss 35.522293870159345\n",
      "iteration 98000: loss 35.505659900837756\n",
      "iteration 99000: loss 35.514462102111764\n",
      "iteration 100000: loss 35.51794765613381\n",
      "Best weights at iteration: 99889\n"
     ]
    }
   ],
   "source": [
    "# train the model\n",
    "model3 = fcann2_train(X3, one_hot3)\n",
    "print (\"Best weights at iteration:\", model3['best_iter'])"
   ]
  },
  {
   "cell_type": "code",
   "execution_count": 46,
   "metadata": {},
   "outputs": [
    {
     "name": "stdout",
     "output_type": "stream",
     "text": [
      "[1 1 1 1 1 1 1 1 1 1 0 0 0 0 0 0 0 0 0 0 1 1 1 1 1 1 1 1 1 1 0 0 0 0 0 0 0\n",
      " 0 0 0 0 0 0 0 0 0 0 0 0 0 1 1 1 1 1 1 1 1 1 1]\n",
      "[0 0 0 0 0 0 0 0 0 0 0 0 0 0 0 0 0 0 0 0 1 1 1 1 1 1 1 1 1 1 0 0 0 0 0 0 0\n",
      " 0 0 0 1 1 1 1 1 1 1 1 1 1 1 1 1 1 1 1 1 1 1 1]\n",
      "Accuracy: 0.667\n",
      "Precision: 0.667\n",
      "Recall: 0.667\n",
      "F1: 0.667 \n"
     ]
    }
   ],
   "source": [
    "Y3 = fcann2_classify(model3, X3)\n",
    "print(Y3)\n",
    "print(Y_3.flatten())\n",
    "\n",
    "eval_perf(Y3, Y_3)"
   ]
  },
  {
   "cell_type": "code",
   "execution_count": 47,
   "metadata": {},
   "outputs": [
    {
     "data": {
      "image/png": "[encoded data removed]",
      "text/plain": [
       "<matplotlib.figure.Figure at 0x7fde98521898>"
      ]
     },
     "metadata": {},
     "output_type": "display_data"
    },
    {
     "data": {
      "image/png": "[encoded data removed]",
      "text/plain": [
       "<matplotlib.figure.Figure at 0x7fde98882f28>"
      ]
     },
     "metadata": {},
     "output_type": "display_data"
    }
   ],
   "source": [
    "plt.scatter(X3[:, 0], X3[:, 1], c=Y_3.flatten(), cmap=ListedColormap(colors))\n",
    "plt.show()\n",
    "\n",
    "data.plot_decision_boundary(X3, lambda x: fcann2_classify(model3, x))\n",
    "\n",
    "# graph the data points\n",
    "data.graph_data(X3, Y_3, Y3)"
   ]
  },
  {
   "cell_type": "code",
   "execution_count": 48,
   "metadata": {
    "scrolled": true
   },
   "outputs": [
    {
     "name": "stdout",
     "output_type": "stream",
     "text": [
      "iteration 1000: loss 9.317624664278817\n",
      "iteration 2000: loss 6.781553596186902\n",
      "iteration 3000: loss 5.819711125681391\n",
      "iteration 4000: loss 5.359555996062696\n",
      "iteration 5000: loss 5.105432560473863\n",
      "iteration 6000: loss 4.9517943535348445\n",
      "iteration 7000: loss 4.853092434264569\n",
      "iteration 8000: loss 4.786869809829303\n",
      "iteration 9000: loss 4.740956128606477\n",
      "iteration 10000: loss 4.708284843376698\n",
      "iteration 11000: loss 4.684534575855935\n",
      "iteration 12000: loss 4.6669544483039855\n",
      "iteration 13000: loss 4.653736407841907\n",
      "iteration 14000: loss 4.643660580036416\n",
      "iteration 15000: loss 4.635885671539102\n",
      "iteration 16000: loss 4.629820456647315\n",
      "iteration 17000: loss 4.625042539431507\n",
      "iteration 18000: loss 4.621240630244733\n",
      "iteration 19000: loss 4.618196296726671\n",
      "iteration 20000: loss 4.615742251051737\n",
      "iteration 21000: loss 4.613752978194122\n",
      "iteration 22000: loss 4.612132617211266\n",
      "iteration 23000: loss 4.610807059816516\n",
      "iteration 24000: loss 4.6097171418308545\n",
      "iteration 25000: loss 4.60881827792633\n",
      "iteration 26000: loss 4.608075254245486\n",
      "iteration 27000: loss 4.607460029860202\n",
      "iteration 28000: loss 4.606950104793253\n",
      "iteration 29000: loss 4.606527296000069\n",
      "iteration 30000: loss 4.6065751655947365\n",
      "iteration 31000: loss 4.606946934051746\n",
      "iteration 32000: loss 4.607376076985286\n",
      "iteration 33000: loss 4.607880941408553\n",
      "iteration 34000: loss 4.608444900752648\n",
      "iteration 35000: loss 4.608987130004834\n",
      "iteration 36000: loss 4.609569417047923\n",
      "iteration 37000: loss 4.610036076403839\n",
      "iteration 38000: loss 4.610553323523396\n",
      "iteration 39000: loss 4.611005615699117\n",
      "iteration 40000: loss 4.611372926416258\n",
      "iteration 41000: loss 4.6118018193536185\n",
      "iteration 42000: loss 4.612073347021221\n",
      "iteration 43000: loss 4.61240576994077\n",
      "iteration 44000: loss 4.612611379730236\n",
      "iteration 45000: loss 4.6128115953794815\n",
      "iteration 46000: loss 4.612919896375155\n",
      "iteration 47000: loss 4.6131501335895075\n",
      "iteration 48000: loss 4.613203583398639\n",
      "iteration 49000: loss 4.613306079595336\n",
      "iteration 50000: loss 4.613364046082709\n",
      "iteration 51000: loss 4.613488729804998\n",
      "iteration 52000: loss 4.6135740928661955\n",
      "iteration 53000: loss 4.613596965492937\n",
      "iteration 54000: loss 4.613507356631241\n",
      "iteration 55000: loss 4.613520338636235\n",
      "iteration 56000: loss 4.613597319380933\n",
      "iteration 57000: loss 4.6135811216512606\n",
      "iteration 58000: loss 4.6135550692356855\n",
      "iteration 59000: loss 4.613518815704342\n",
      "iteration 60000: loss 4.613325124150172\n",
      "iteration 61000: loss 4.612812190838935\n",
      "iteration 62000: loss 4.611657276382262\n",
      "iteration 63000: loss 4.609853995776157\n",
      "iteration 64000: loss 4.6087596854915125\n",
      "iteration 65000: loss 4.608082546351728\n",
      "iteration 66000: loss 4.607546927685361\n",
      "iteration 67000: loss 4.607228813743563\n",
      "iteration 68000: loss 4.606937360882058\n",
      "iteration 69000: loss 4.606794825037783\n",
      "iteration 70000: loss 4.606666161646677\n",
      "iteration 71000: loss 4.606530463375179\n",
      "iteration 72000: loss 4.606449688927118\n",
      "iteration 73000: loss 4.606336274497718\n",
      "iteration 74000: loss 4.606300277147238\n",
      "iteration 75000: loss 4.606229290291877\n",
      "iteration 76000: loss 4.60622051680207\n",
      "iteration 77000: loss 4.606166774668544\n",
      "iteration 78000: loss 4.606166113565035\n",
      "iteration 79000: loss 4.606164807919784\n",
      "iteration 80000: loss 4.606160775066584\n",
      "iteration 81000: loss 4.606152165445107\n",
      "iteration 82000: loss 4.6065537559007845\n",
      "iteration 83000: loss 4.607220374853617\n",
      "iteration 84000: loss 4.607836902420347\n",
      "iteration 85000: loss 4.608384559361147\n",
      "iteration 86000: loss 4.608931002756725\n",
      "iteration 87000: loss 4.609391162037065\n",
      "iteration 88000: loss 4.609781204412828\n",
      "iteration 89000: loss 4.610165163535268\n",
      "iteration 90000: loss 4.610490011847301\n",
      "iteration 91000: loss 4.610695167005558\n",
      "iteration 92000: loss 4.61096162544935\n",
      "iteration 93000: loss 4.6111461330884005\n",
      "iteration 94000: loss 4.6113107615625415\n",
      "iteration 95000: loss 4.611422637803396\n",
      "iteration 96000: loss 4.611542251067836\n",
      "iteration 97000: loss 4.61159530970727\n",
      "iteration 98000: loss 4.611715147682654\n",
      "iteration 99000: loss 4.611786230912832\n",
      "iteration 100000: loss 4.6118519500424755\n",
      "Best weights at iteration: 79419\n"
     ]
    }
   ],
   "source": [
    "SEED4 = 102\n",
    "np.random.seed(SEED4)\n",
    "\n",
    "# get the training dataset\n",
    "X4, Y_4 = data.sample_gmm_2d(DISTRIBUTIONS, CLASSES, NUM_EXAMPLES)\n",
    "\n",
    "one_hot4 = Y_4.reshape(-1)\n",
    "one_hot4 = np.eye(CLASSES)[one_hot4]\n",
    "\n",
    "# train the model\n",
    "model4 = fcann2_train(X4, one_hot4)\n",
    "print (\"Best weights at iteration:\", model4['best_iter'])"
   ]
  },
  {
   "cell_type": "code",
   "execution_count": 49,
   "metadata": {},
   "outputs": [
    {
     "name": "stdout",
     "output_type": "stream",
     "text": [
      "[1 1 1 1 1 1 1 1 0 1 0 0 0 0 0 0 0 0 0 0 1 1 1 1 1 1 1 1 1 1 0 0 0 0 0 0 0\n",
      " 0 0 0 0 0 0 0 0 0 0 0 0 0 0 0 0 0 0 0 0 0 1 0]\n",
      "[1 1 1 1 1 1 1 1 1 1 0 0 0 0 0 0 0 0 0 0 1 1 1 1 1 1 1 1 1 1 0 0 0 0 0 0 0\n",
      " 0 0 0 0 0 0 0 0 0 0 0 0 0 0 0 0 0 0 0 0 0 0 0]\n",
      "Accuracy: 0.967\n",
      "Precision: 0.950\n",
      "Recall: 0.950\n",
      "F1: 0.950 \n"
     ]
    }
   ],
   "source": [
    "Y4 = fcann2_classify(model4, X4)\n",
    "print(Y4)\n",
    "print(Y_4.flatten())\n",
    "\n",
    "eval_perf(Y4, Y_4)"
   ]
  },
  {
   "cell_type": "code",
   "execution_count": 50,
   "metadata": {},
   "outputs": [
    {
     "data": {
      "image/png": "[encoded data removed]",
      "text/plain": [
       "<matplotlib.figure.Figure at 0x7fde9849ebe0>"
      ]
     },
     "metadata": {},
     "output_type": "display_data"
    },
    {
     "data": {
      "image/png": "[encoded data removed]",
      "text/plain": [
       "<matplotlib.figure.Figure at 0x7fde9704db38>"
      ]
     },
     "metadata": {},
     "output_type": "display_data"
    }
   ],
   "source": [
    "plt.scatter(X4[:, 0], X4[:, 1], c=Y_4.flatten(), cmap=ListedColormap(colors))\n",
    "plt.show()\n",
    "\n",
    "data.plot_decision_boundary(X4, lambda x: fcann2_classify(model4, x))\n",
    "\n",
    "# graph the data points\n",
    "data.graph_data(X4, Y_4, Y4)"
   ]
  },
  {
   "cell_type": "code",
   "execution_count": null,
   "metadata": {
    "scrolled": true
   },
   "outputs": [],
   "source": []
  }
 ],
 "metadata": {
  "kernelspec": {
   "display_name": "Python 3",
   "language": "python",
   "name": "python3"
  },
  "language_info": {
   "codemirror_mode": {
    "name": "ipython",
    "version": 3
   },
   "file_extension": ".py",
   "mimetype": "text/x-python",
   "name": "python",
   "nbconvert_exporter": "python",
   "pygments_lexer": "ipython3",
   "version": "3.5.2"
  }
 },
 "nbformat": 4,
 "nbformat_minor": 2
}
