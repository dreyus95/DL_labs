{
 "cells": [
  {
   "cell_type": "code",
   "execution_count": 1,
   "metadata": {},
   "outputs": [
    {
     "name": "stdout",
     "output_type": "stream",
     "text": [
      "Extracting MNIST_data/train-images-idx3-ubyte.gz\n",
      "Extracting MNIST_data/train-labels-idx1-ubyte.gz\n",
      "Extracting MNIST_data/t10k-images-idx3-ubyte.gz\n",
      "Extracting MNIST_data/t10k-labels-idx1-ubyte.gz\n",
      "Extracting MNIST_data/train-images-idx3-ubyte.gz\n",
      "Extracting MNIST_data/train-labels-idx1-ubyte.gz\n",
      "Extracting MNIST_data/t10k-images-idx3-ubyte.gz\n",
      "Extracting MNIST_data/t10k-labels-idx1-ubyte.gz\n"
     ]
    }
   ],
   "source": [
    "import os\n",
    "from mnist_shootout import TFDeep\n",
    "import tensorflow as tf\n",
    "from tensorflow.examples.tutorials.mnist import input_data\n",
    "mnist = input_data.read_data_sets(\"MNIST_data/\", one_hot=True)"
   ]
  },
  {
   "cell_type": "code",
   "execution_count": 2,
   "metadata": {},
   "outputs": [],
   "source": [
    "import numpy as np\n",
    "from matplotlib.colors import ListedColormap\n",
    "import matplotlib.pyplot as plt\n",
    "from sklearn.metrics import f1_score, precision_score, recall_score, accuracy_score"
   ]
  },
  {
   "cell_type": "code",
   "execution_count": 3,
   "metadata": {},
   "outputs": [
    {
     "name": "stdout",
     "output_type": "stream",
     "text": [
      "Done\n"
     ]
    }
   ],
   "source": [
    "train_images = []\n",
    "train_images_labels = []\n",
    "test_images = []\n",
    "test_images_labels = []\n",
    "\n",
    "for i, image in enumerate(mnist.train.images):\n",
    "    train_images.append(np.array(image, dtype='float32'))\n",
    "    \n",
    "for label in mnist.train.labels:\n",
    "    train_images_labels.append(label)\n",
    "    \n",
    "for i, image in enumerate(mnist.test.images):\n",
    "    test_images.append(np.array(image, dtype='float32'))\n",
    "    \n",
    "for label in mnist.test.labels:\n",
    "    test_images_labels.append(label)\n",
    "    \n",
    "print (\"Done\")"
   ]
  },
  {
   "cell_type": "code",
   "execution_count": 4,
   "metadata": {},
   "outputs": [
    {
     "name": "stdout",
     "output_type": "stream",
     "text": [
      "INFO:tensorflow:Restoring parameters from model_784_10_gds/model\n",
      "Model restored.\n",
      "Accuracy: 0.906\n",
      "Precision: 0.906\n",
      "Recall: 0.906\n",
      "F1: 0.906 \n"
     ]
    }
   ],
   "source": [
    "shape = [784, 10]\n",
    "\n",
    "tf_try = TFDeep(shape, param_delta=0.02, param_lambda=0.01, optimizer=\"gds\")\n",
    "tf_try.restore(\"model_784_10_gds/model\")\n",
    "probs_gds = tf_try.eval(np.array(test_images))\n",
    "tf_try.eval_perf(np.argmax(probs_gds, axis=1), np.argmax(test_images_labels, axis=1))"
   ]
  },
  {
   "cell_type": "code",
   "execution_count": null,
   "metadata": {},
   "outputs": [],
   "source": []
  }
 ],
 "metadata": {
  "kernelspec": {
   "display_name": "Python 3",
   "language": "python",
   "name": "python3"
  },
  "language_info": {
   "codemirror_mode": {
    "name": "ipython",
    "version": 3
   },
   "file_extension": ".py",
   "mimetype": "text/x-python",
   "name": "python",
   "nbconvert_exporter": "python",
   "pygments_lexer": "ipython3",
   "version": "3.5.2"
  }
 },
 "nbformat": 4,
 "nbformat_minor": 2
}
