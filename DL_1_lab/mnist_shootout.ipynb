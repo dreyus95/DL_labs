{
 "cells": [
  {
   "cell_type": "code",
   "execution_count": 35,
   "metadata": {},
   "outputs": [
    {
     "name": "stdout",
     "output_type": "stream",
     "text": [
      "Extracting MNIST_data/train-images-idx3-ubyte.gz\n",
      "Extracting MNIST_data/train-labels-idx1-ubyte.gz\n",
      "Extracting MNIST_data/t10k-images-idx3-ubyte.gz\n",
      "Extracting MNIST_data/t10k-labels-idx1-ubyte.gz\n"
     ]
    }
   ],
   "source": [
    "import os\n",
    "\n",
    "import tensorflow as tf\n",
    "from tensorflow.examples.tutorials.mnist import input_data\n",
    "mnist = input_data.read_data_sets(\"MNIST_data/\", one_hot=True)"
   ]
  },
  {
   "cell_type": "code",
   "execution_count": 36,
   "metadata": {},
   "outputs": [
    {
     "name": "stdout",
     "output_type": "stream",
     "text": [
      "Datasets(train=<tensorflow.contrib.learn.python.learn.datasets.mnist.DataSet object at 0x7f719499bba8>, validation=<tensorflow.contrib.learn.python.learn.datasets.mnist.DataSet object at 0x7f719499bc18>, test=<tensorflow.contrib.learn.python.learn.datasets.mnist.DataSet object at 0x7f719499be10>)\n"
     ]
    }
   ],
   "source": [
    "print(mnist)"
   ]
  },
  {
   "cell_type": "code",
   "execution_count": 37,
   "metadata": {},
   "outputs": [],
   "source": [
    "import numpy as np\n",
    "from matplotlib.colors import ListedColormap\n",
    "import matplotlib.pyplot as plt\n",
    "from sklearn.metrics import f1_score, precision_score, recall_score, accuracy_score"
   ]
  },
  {
   "cell_type": "code",
   "execution_count": 38,
   "metadata": {},
   "outputs": [
    {
     "name": "stdout",
     "output_type": "stream",
     "text": [
      "55000 784 10\n"
     ]
    }
   ],
   "source": [
    "N=mnist.train.images.shape[0]\n",
    "D=mnist.train.images.shape[1]\n",
    "C=mnist.train.labels.shape[1]\n",
    "\n",
    "print(N, D, C)"
   ]
  },
  {
   "cell_type": "code",
   "execution_count": 39,
   "metadata": {},
   "outputs": [
    {
     "data": {
      "image/png": "[encoded data removed]",
      "text/plain": [
       "<matplotlib.figure.Figure at 0x7f7195ce14a8>"
      ]
     },
     "metadata": {},
     "output_type": "display_data"
    }
   ],
   "source": [
    "first_image = mnist.train.images[0]\n",
    "first_image = np.array(first_image, dtype='float32')\n",
    "pixels = first_image.reshape((28, 28))\n",
    "plt.imshow(pixels, cmap=plt.get_cmap('gray'), vmin=0, vmax=1)\n",
    "plt.show()"
   ]
  },
  {
   "cell_type": "code",
   "execution_count": 40,
   "metadata": {},
   "outputs": [
    {
     "name": "stdout",
     "output_type": "stream",
     "text": [
      "Done\n"
     ]
    }
   ],
   "source": [
    "train_images = []\n",
    "train_images_labels = []\n",
    "test_images = []\n",
    "test_images_labels = []\n",
    "\n",
    "for i, image in enumerate(mnist.train.images):\n",
    "    train_images.append(np.array(image, dtype='float32'))\n",
    "    \n",
    "for label in mnist.train.labels:\n",
    "    train_images_labels.append(label)\n",
    "    \n",
    "for i, image in enumerate(mnist.test.images):\n",
    "    test_images.append(np.array(image, dtype='float32'))\n",
    "    \n",
    "for label in mnist.test.labels:\n",
    "    test_images_labels.append(label)\n",
    "    \n",
    "print (\"Done\")\n",
    "# print (train_images[0])\n",
    "# print (test_images[0])\n",
    "# print (train_images_labels[0])\n",
    "# print (test_images_labels[0])"
   ]
  },
  {
   "cell_type": "code",
   "execution_count": 41,
   "metadata": {},
   "outputs": [],
   "source": [
    "class TFDeep:\n",
    "    \"\"\"\n",
    "        Class that represents a deep neural network implementation in tensorflow.\n",
    "    \"\"\"\n",
    "\n",
    "    def __init__(self, shapes, param_delta=0.1, param_lambda=0.01, optimizer=\"gds\",\n",
    "                 activation=tf.nn.relu):\n",
    "        \"\"\"Arguments:\n",
    "           - shapes: shape of neural network\n",
    "           - C: number of classes\n",
    "           - param_delta: training step\n",
    "        \"\"\"\n",
    "        self.X = tf.placeholder(dtype=tf.float32, shape=[None, shapes[0]])\n",
    "        self.Yoh_ = tf.placeholder(dtype=tf.float32, shape=[None, shapes[-1]])\n",
    "        self.is_training = tf.placeholder(tf.bool)\n",
    "\n",
    "        self.weights = []\n",
    "        self.biases = []\n",
    "        self.hs = []\n",
    "\n",
    "        for index, shape in enumerate(shapes[1:]):\n",
    "            self.weights.append(tf.Variable(initial_value=tf.random_normal([shapes[index], shape])))\n",
    "            self.biases.append(tf.Variable(initial_value=tf.random_normal([1, shape])))\n",
    "\n",
    "        # NN input\n",
    "        self.hs.append(activation(self.batch_norm(tf.matmul(self.X, self.weights[0]) + self.biases[0],\n",
    "                                  self.is_training)))\n",
    "\n",
    "        # NN inner connections\n",
    "        for i in range(1, len(shapes[1:-1])):\n",
    "            self.hs.append(activation(self.batch_norm(tf.matmul(self.hs[-1], self.weights[i]) + self.biases[i],\n",
    "                                      self.is_training)))\n",
    "\n",
    "        # NN output\n",
    "        if len(shapes[1:-1]) == 0:\n",
    "            # regular logistic regression\n",
    "            output = tf.matmul(self.X, self.weights[-1]) + self.biases[-1]\n",
    "        else:\n",
    "            # neural network last layer output\n",
    "            output = tf.matmul(self.hs[-1], self.weights[-1]) + self.biases[-1]\n",
    "\n",
    "        self.probs = tf.nn.softmax(output)\n",
    "\n",
    "        self.cross_entropy = tf.reduce_mean(-tf.reduce_sum(self.Yoh_ * tf.log(self.probs + 1e-8), axis=1))\n",
    "        self.regularization = [param_lambda * tf.nn.l2_loss(weights) for weights in self.weights]\n",
    "        self.loss = self.cross_entropy + tf.add_n(self.regularization)\n",
    "\n",
    "        if optimizer == \"gds\":\n",
    "            self.train_step = tf.train.GradientDescentOptimizer(param_delta).minimize(self.loss)\n",
    "        elif optimizer == \"adam\":\n",
    "            step = tf.Variable(0, trainable=False)\n",
    "            rate = tf.train.exponential_decay(param_delta, step, 100, 0.98, staircase=True)\n",
    "            self.train_step = tf.train.AdamOptimizer(rate).minimize(self.loss, global_step=step)\n",
    "\n",
    "        self.session = tf.Session()\n",
    "        self.saver = tf.train.Saver()\n",
    "\n",
    "    def batch_norm(self, inputs, is_training, decay=0.999, epsilon=1e-3):\n",
    "\n",
    "        scale = tf.Variable(tf.ones([inputs.get_shape()[-1]]))\n",
    "        beta = tf.Variable(tf.zeros([inputs.get_shape()[-1]]))\n",
    "        pop_mean = tf.Variable(tf.zeros([inputs.get_shape()[-1]]), trainable=False)\n",
    "        pop_var = tf.Variable(tf.ones([inputs.get_shape()[-1]]), trainable=False)\n",
    "\n",
    "        def if_true():\n",
    "            batch_mean, batch_var = tf.nn.moments(inputs, [0])\n",
    "            train_mean = tf.assign(pop_mean,\n",
    "                                   pop_mean * decay + batch_mean * (1 - decay))\n",
    "            train_var = tf.assign(pop_var,\n",
    "                                  pop_var * decay + batch_var * (1 - decay))\n",
    "            with tf.control_dependencies([train_mean, train_var]):\n",
    "                return tf.nn.batch_normalization(inputs,\n",
    "                                                 batch_mean, batch_var, beta, scale, epsilon)\n",
    "\n",
    "        def if_false():\n",
    "            return tf.nn.batch_normalization(inputs,\n",
    "                                             pop_mean, pop_var, beta, scale, epsilon)\n",
    "\n",
    "        result = tf.cond(is_training, if_true, if_false)\n",
    "        return result\n",
    "\n",
    "    def train(self, X, Yoh_, param_niter):\n",
    "        \"\"\"Arguments:\n",
    "           - X: actual datapoints [NxD]\n",
    "           - Yoh_: one-hot encoded labels [NxC]\n",
    "           - param_niter: number of iterations\n",
    "        \"\"\"\n",
    "        self.session.run(tf.global_variables_initializer())\n",
    "\n",
    "        for i in range(param_niter+1):\n",
    "            tr = self.session.run([self.train_step], feed_dict={self.X: X, self.Yoh_: Yoh_})\n",
    "            if i % 1000 == 0:\n",
    "                loss = self.session.run(self.loss, feed_dict={self.X: X, self.Yoh_: Yoh_})\n",
    "                print(\"{0:4}. Loss: {1:.8f}\".format(i, loss))\n",
    "\n",
    "    def _shuffle(self, X, Yoh_):\n",
    "        perm = np.random.permutation(len(X))\n",
    "        return X[perm], Yoh_[perm]\n",
    "\n",
    "    def _split_dataset(self, X, Yoh_, ratio=0.8):\n",
    "        X, Yoh_ = self._shuffle(X, Yoh_)\n",
    "        split = int(ratio * len(X))\n",
    "        return X[:split], X[split:], Yoh_[:split], Yoh_[split:]\n",
    "\n",
    "    def train_mb(self, X, Yoh_, n_epochs=1000, batch_size=50, train_ratio=1., print_step=10,\n",
    "                 model_name=\"\"):\n",
    "        self.session.run(tf.global_variables_initializer())\n",
    "        prev_loss = window_loss = float('inf')\n",
    "\n",
    "        X_train, X_val, Y_train, Y_val = self._split_dataset(X, Yoh_, ratio=train_ratio)\n",
    "        n_samples = len(X_train)\n",
    "        n_batches = int(n_samples / batch_size)\n",
    "\n",
    "        for epoch in range(n_epochs):\n",
    "            X_train, Y_train = self._shuffle(X_train, Y_train)\n",
    "            i = 0\n",
    "            avg_loss = 0\n",
    "\n",
    "            while i < n_samples:\n",
    "                batch_X, batch_Yoh_ = X_train[i:i + batch_size], Y_train[i:i + batch_size]\n",
    "                data_dict = {self.X: batch_X, self.Yoh_: batch_Yoh_, self.is_training: True}\n",
    "                val_loss, _ = self.session.run([self.loss, self.train_step], feed_dict=data_dict)\n",
    "\n",
    "                avg_loss += val_loss / n_batches\n",
    "                i += batch_size\n",
    "\n",
    "            # validation\n",
    "            data_dict = {self.X: X_val, self.Yoh_: Y_val, self.is_training: False}\n",
    "            val_loss, _ = self.session.run([self.loss, self.train_step], feed_dict=data_dict)\n",
    "            window_loss = min(window_loss, val_loss)\n",
    "            if epoch % 50 == 0:\n",
    "                if window_loss > prev_loss:\n",
    "                    print(\"Early stopping: epoch\", epoch)\n",
    "                    self.save(epoch, \"model_\" + str(model_name))\n",
    "                    # break\n",
    "                prev_loss = window_loss\n",
    "                window_loss = float('inf')\n",
    "\n",
    "            if epoch % print_step == 0:\n",
    "                print(\"Epoch: {:4d}; avg_train_loss {:.9f}; validation_loss {:.9f}\".format(epoch, avg_loss, val_loss))\n",
    "\n",
    "        print(\"Optimization Finished!\")\n",
    "        print(\"Validation loss {:.9f}\".format(val_loss))\n",
    "\n",
    "    def eval(self, X):\n",
    "        \"\"\"Arguments:\n",
    "           - X: actual datapoints [NxD]\n",
    "           Returns: predicted class probabilites [NxC]\n",
    "        \"\"\"\n",
    "        probs = self.session.run(self.probs, feed_dict={self.X: X, self.is_training: False})\n",
    "        return probs\n",
    "\n",
    "    def classify(self, X):\n",
    "        return np.argmax(self.eval(X), axis=1)\n",
    "\n",
    "    def eval_perf(self, Y, Y_):\n",
    "        # needed to compute scores of our model\n",
    "        # 'weighted' takes into consideration labels imbalance\n",
    "        if max(int(max(Y_) + 1), int(max(Y) + 1)) == 2:\n",
    "            average = 'binary'\n",
    "        else:\n",
    "            average = 'weighted'\n",
    "\n",
    "        accuracy = accuracy_score(Y_, Y)\n",
    "        precision = precision_score(Y_, Y, average=average)\n",
    "        recall = recall_score(Y_, Y, average=average)\n",
    "        f1 = f1_score(Y_, Y, average=average)\n",
    "\n",
    "        print(\"Accuracy: {0:.3f}\\n\"\n",
    "              \"Precision: {1:.3f}\\n\"\n",
    "              \"Recall: {2:.3f}\\n\"\n",
    "              \"F1: {3:.3f} \".format(accuracy, precision, recall, f1))\n",
    "\n",
    "    def save(self, epoch, path_dir):\n",
    "        if not os.path.exists(path_dir):\n",
    "            os.makedirs(path_dir)\n",
    "        epochs = self.saver.save(self.session, path_dir + '/model', global_step=epoch)\n",
    "        latest = self.saver.save(self.session, path_dir + '/model')\n",
    "        print(\"Path for epochs restore: %s\" % epochs)\n",
    "        print(\"Path for latest restore: %s\" % latest)\n",
    "\n",
    "    def restore(self, path):\n",
    "        self.saver.restore(self.session, path)\n",
    "        print(\"Model restored.\")"
   ]
  },
  {
   "cell_type": "code",
   "execution_count": 42,
   "metadata": {},
   "outputs": [],
   "source": [
    "shape = [784, 10]\n",
    "\n",
    "tfdeep_gds = TFDeep(shape, param_delta=0.02, param_lambda=0.01, optimizer=\"gds\")\n",
    "tfdeep_adam = TFDeep(shape, param_delta=0.02, param_lambda=0.01, optimizer=\"adam\")"
   ]
  },
  {
   "cell_type": "code",
   "execution_count": 43,
   "metadata": {},
   "outputs": [
    {
     "name": "stdout",
     "output_type": "stream",
     "text": [
      "Epoch:    0; avg_train_loss 38.584992834; validation_loss 29.938133240\n",
      "Epoch:   10; avg_train_loss 1.435548420; validation_loss 1.289422035\n",
      "Epoch:   20; avg_train_loss 0.579169182; validation_loss 0.574733913\n",
      "Epoch:   30; avg_train_loss 0.552267030; validation_loss 0.551084995\n",
      "Epoch:   40; avg_train_loss 0.550027067; validation_loss 0.548894167\n",
      "Epoch:   50; avg_train_loss 0.549048776; validation_loss 0.547980666\n",
      "Epoch:   60; avg_train_loss 0.548790261; validation_loss 0.548041224\n",
      "Epoch:   70; avg_train_loss 0.548688194; validation_loss 0.547254741\n",
      "Epoch:   80; avg_train_loss 0.548456507; validation_loss 0.546964407\n",
      "Epoch:   90; avg_train_loss 0.548285871; validation_loss 0.546542883\n",
      "Epoch:  100; avg_train_loss 0.548305696; validation_loss 0.547408462\n",
      "Epoch:  110; avg_train_loss 0.548354626; validation_loss 0.547456980\n",
      "Epoch:  120; avg_train_loss 0.548390074; validation_loss 0.547211707\n",
      "Epoch:  130; avg_train_loss 0.548428320; validation_loss 0.546910107\n",
      "Epoch:  140; avg_train_loss 0.548374030; validation_loss 0.547004521\n",
      "Epoch:  150; avg_train_loss 0.547980769; validation_loss 0.548162758\n",
      "Epoch:  160; avg_train_loss 0.548254296; validation_loss 0.546926141\n",
      "Epoch:  170; avg_train_loss 0.548268895; validation_loss 0.547293007\n",
      "Epoch:  180; avg_train_loss 0.548322291; validation_loss 0.546967804\n",
      "Epoch:  190; avg_train_loss 0.548380474; validation_loss 0.547715664\n",
      "Optimization Finished!\n",
      "Validation loss 0.546960473\n"
     ]
    }
   ],
   "source": [
    "tfdeep_gds.train_mb(np.array(train_images), np.array(train_images_labels), n_epochs=200,\n",
    "                    train_ratio=0.8, model_name=\"784_10_gds\")"
   ]
  },
  {
   "cell_type": "code",
   "execution_count": 44,
   "metadata": {},
   "outputs": [
    {
     "name": "stdout",
     "output_type": "stream",
     "text": [
      "Epoch:    0; avg_train_loss 2.754711370; validation_loss 0.671424031\n",
      "Epoch:   10; avg_train_loss 0.573186990; validation_loss 0.566384256\n",
      "Epoch:   20; avg_train_loss 0.550130326; validation_loss 0.556915879\n",
      "Epoch:   30; avg_train_loss 0.545604423; validation_loss 0.553809881\n",
      "Epoch:   40; avg_train_loss 0.544754894; validation_loss 0.553538322\n",
      "Epoch:   50; avg_train_loss 0.544561075; validation_loss 0.553533077\n",
      "Epoch:   60; avg_train_loss 0.544528886; validation_loss 0.553531229\n",
      "Epoch:   70; avg_train_loss 0.544523205; validation_loss 0.553531289\n",
      "Epoch:   80; avg_train_loss 0.544522159; validation_loss 0.553531051\n",
      "Epoch:   90; avg_train_loss 0.544521999; validation_loss 0.553531051\n",
      "Early stopping: epoch 100\n",
      "Path for epochs restore: model_784_10_adam/model-100\n",
      "Path for latest restore: model_784_10_adam/model\n",
      "Epoch:  100; avg_train_loss 0.544521987; validation_loss 0.553531051\n",
      "Epoch:  110; avg_train_loss 0.544521989; validation_loss 0.553531110\n",
      "Epoch:  120; avg_train_loss 0.544521989; validation_loss 0.553531051\n",
      "Epoch:  130; avg_train_loss 0.544521989; validation_loss 0.553531051\n",
      "Epoch:  140; avg_train_loss 0.544521990; validation_loss 0.553531051\n",
      "Early stopping: epoch 150\n",
      "Path for epochs restore: model_784_10_adam/model-150\n",
      "Path for latest restore: model_784_10_adam/model\n",
      "Epoch:  150; avg_train_loss 0.544521989; validation_loss 0.553531051\n",
      "Epoch:  160; avg_train_loss 0.544521990; validation_loss 0.553531051\n",
      "Epoch:  170; avg_train_loss 0.544521990; validation_loss 0.553531051\n",
      "Epoch:  180; avg_train_loss 0.544521989; validation_loss 0.553531051\n",
      "Epoch:  190; avg_train_loss 0.544521988; validation_loss 0.553531051\n",
      "Optimization Finished!\n",
      "Validation loss 0.553531051\n"
     ]
    }
   ],
   "source": [
    "tfdeep_adam.train_mb(np.array(train_images), np.array(train_images_labels), n_epochs=200,\n",
    "                     train_ratio=0.8, model_name=\"784_10_adam\")"
   ]
  },
  {
   "cell_type": "code",
   "execution_count": 45,
   "metadata": {},
   "outputs": [],
   "source": [
    "probs_gds = tfdeep_gds.eval(np.array(test_images))\n",
    "probs_adam = tfdeep_adam.eval(np.array(test_images))"
   ]
  },
  {
   "cell_type": "code",
   "execution_count": 46,
   "metadata": {},
   "outputs": [
    {
     "name": "stdout",
     "output_type": "stream",
     "text": [
      "GradientDescentOpt:\n",
      "Accuracy: 0.905\n",
      "Precision: 0.905\n",
      "Recall: 0.905\n",
      "F1: 0.905 \n",
      "\n",
      "AdamOpt:\n",
      "Accuracy: 0.907\n",
      "Precision: 0.906\n",
      "Recall: 0.907\n",
      "F1: 0.906 \n"
     ]
    }
   ],
   "source": [
    "print(\"GradientDescentOpt:\")\n",
    "tfdeep_gds.eval_perf(np.argmax(probs_gds, axis=1), np.argmax(test_images_labels, axis=1))\n",
    "\n",
    "print(\"\\nAdamOpt:\")\n",
    "tfdeep_adam.eval_perf(np.argmax(probs_adam, axis=1), np.argmax(test_images_labels, axis=1))"
   ]
  },
  {
   "cell_type": "code",
   "execution_count": 47,
   "metadata": {},
   "outputs": [],
   "source": [
    "weights_gds = tfdeep_gds.session.run(tfdeep_gds.weights)\n",
    "weights_adam = tfdeep_adam.session.run(tfdeep_adam.weights)"
   ]
  },
  {
   "cell_type": "code",
   "execution_count": 48,
   "metadata": {},
   "outputs": [],
   "source": [
    "from matplotlib.colors import LinearSegmentedColormap\n",
    "\n",
    "W = weights_gds[0].T\n",
    "W2 = weights_adam[0].T\n",
    "\n",
    "#cmap\n",
    "cdict = {'blue':   ((0.0, 0.0, 0.0),\n",
    "                   (0.5, 0.0, 0.1),\n",
    "                   (1.0, 1.0, 1.0)),\n",
    "\n",
    "         'green': ((0.0, 0.0, 0.0),\n",
    "                   (1.0, 0.0, 0.0)),\n",
    "\n",
    "         'red':  ((0.0, 0.0, 1.0),\n",
    "                   (0.5, 0.1, 0.0),\n",
    "                   (1.0, 0.0, 0.0))\n",
    "        }\n",
    "cmap = LinearSegmentedColormap('BlueRed1', cdict)"
   ]
  },
  {
   "cell_type": "code",
   "execution_count": 49,
   "metadata": {},
   "outputs": [
    {
     "data": {
      "image/png": "[encoded data removed]",
      "text/plain": [
       "<matplotlib.figure.Figure at 0x7f71946f8ef0>"
      ]
     },
     "metadata": {},
     "output_type": "display_data"
    }
   ],
   "source": [
    "f1, axarr1 = plt.subplots(2, 5)\n",
    "for i, w in enumerate(W):\n",
    "    row = 0 if i<5 else 1\n",
    "    axarr1[row, i%5].set_title('Digit' + str(i))\n",
    "    axarr1[row, i%5].imshow(w.reshape(28,28),cmap=cmap)\n",
    "plt.show()"
   ]
  },
  {
   "cell_type": "code",
   "execution_count": 50,
   "metadata": {},
   "outputs": [
    {
     "data": {
      "image/png": "[encoded data removed]",
      "text/plain": [
       "<matplotlib.figure.Figure at 0x7f719577ad30>"
      ]
     },
     "metadata": {},
     "output_type": "display_data"
    }
   ],
   "source": [
    "f2, axarr2 = plt.subplots(2, 5)\n",
    "for i, w in enumerate(W2):\n",
    "    row = 0 if i<5 else 1\n",
    "    axarr2[row, i%5].set_title('Digit' + str(i))\n",
    "    axarr2[row, i%5].imshow(w.reshape(28,28),cmap=cmap)\n",
    "plt.show()"
   ]
  },
  {
   "cell_type": "code",
   "execution_count": 51,
   "metadata": {},
   "outputs": [
    {
     "data": {
      "image/png": "[encoded data removed]",
      "text/plain": [
       "<matplotlib.figure.Figure at 0x7f719556a630>"
      ]
     },
     "metadata": {},
     "output_type": "display_data"
    },
    {
     "name": "stdout",
     "output_type": "stream",
     "text": [
      "Prob 0.000227411655942\n",
      "Correct label 9\n"
     ]
    }
   ],
   "source": [
    "correct_probs = np.sum(probs_gds * mnist.test.labels, axis=1)\n",
    "worst_sample = correct_probs.argmin()\n",
    "plt.imshow(mnist.test.images[worst_sample].reshape(28,28), cmap='gray')\n",
    "plt.show()\n",
    "\n",
    "print(\"Prob\", correct_probs[worst_sample])\n",
    "print(\"Correct label\", mnist.test.labels[worst_sample].argmax())"
   ]
  },
  {
   "cell_type": "code",
   "execution_count": 52,
   "metadata": {},
   "outputs": [],
   "source": [
    "shape2 = [784, 100, 10]\n",
    "\n",
    "tfdeep2 = TFDeep(shape2, param_delta=0.015, param_lambda=0.01)"
   ]
  },
  {
   "cell_type": "code",
   "execution_count": 53,
   "metadata": {},
   "outputs": [
    {
     "name": "stdout",
     "output_type": "stream",
     "text": [
      "Epoch:    0; avg_train_loss 350.144827028; validation_loss 304.900756836\n",
      "Epoch:   10; avg_train_loss 25.196731971; validation_loss 22.096340179\n",
      "Epoch:   20; avg_train_loss 2.113511895; validation_loss 1.912450671\n",
      "Epoch:   30; avg_train_loss 0.397483401; validation_loss 0.412934303\n",
      "Epoch:   40; avg_train_loss 0.257439566; validation_loss 0.270605564\n",
      "Epoch:   50; avg_train_loss 0.230357727; validation_loss 0.251116157\n",
      "Epoch:   60; avg_train_loss 0.217552060; validation_loss 0.245104089\n",
      "Epoch:   70; avg_train_loss 0.207835866; validation_loss 0.232757792\n",
      "Epoch:   80; avg_train_loss 0.200249030; validation_loss 0.227367997\n",
      "Epoch:   90; avg_train_loss 0.193520696; validation_loss 0.225508064\n",
      "Epoch:  100; avg_train_loss 0.187503518; validation_loss 0.221059442\n",
      "Epoch:  110; avg_train_loss 0.182999496; validation_loss 0.212540030\n",
      "Epoch:  120; avg_train_loss 0.179148669; validation_loss 0.216870353\n",
      "Epoch:  130; avg_train_loss 0.176880772; validation_loss 0.212952763\n",
      "Epoch:  140; avg_train_loss 0.172295982; validation_loss 0.204282850\n",
      "Epoch:  150; avg_train_loss 0.169103847; validation_loss 0.202597558\n",
      "Epoch:  160; avg_train_loss 0.165117519; validation_loss 0.215071440\n",
      "Epoch:  170; avg_train_loss 0.164070735; validation_loss 0.203919634\n",
      "Epoch:  180; avg_train_loss 0.161497768; validation_loss 0.213737756\n",
      "Epoch:  190; avg_train_loss 0.160270900; validation_loss 0.198253095\n",
      "Epoch:  200; avg_train_loss 0.159364249; validation_loss 0.205130443\n",
      "Epoch:  210; avg_train_loss 0.155628437; validation_loss 0.199757606\n",
      "Epoch:  220; avg_train_loss 0.154250869; validation_loss 0.194440514\n",
      "Epoch:  230; avg_train_loss 0.152197311; validation_loss 0.223717794\n",
      "Epoch:  240; avg_train_loss 0.152017068; validation_loss 0.187976480\n",
      "Epoch:  250; avg_train_loss 0.149436364; validation_loss 0.196021736\n",
      "Epoch:  260; avg_train_loss 0.149153078; validation_loss 0.190196127\n",
      "Epoch:  270; avg_train_loss 0.147008332; validation_loss 0.187972859\n",
      "Epoch:  280; avg_train_loss 0.146139555; validation_loss 0.190151691\n",
      "Epoch:  290; avg_train_loss 0.145075938; validation_loss 0.190164164\n",
      "Optimization Finished!\n",
      "Validation loss 0.187546477\n"
     ]
    }
   ],
   "source": [
    "tfdeep2.train_mb(np.array(train_images), np.array(train_images_labels), n_epochs=300,\n",
    "                 train_ratio=0.8, model_name=\"784_100_10_adam\")"
   ]
  },
  {
   "cell_type": "code",
   "execution_count": 54,
   "metadata": {},
   "outputs": [],
   "source": [
    "probs2 = tfdeep2.eval(np.array(test_images))"
   ]
  },
  {
   "cell_type": "code",
   "execution_count": 55,
   "metadata": {
    "scrolled": true
   },
   "outputs": [
    {
     "name": "stdout",
     "output_type": "stream",
     "text": [
      "Accuracy: 0.974\n",
      "Precision: 0.973\n",
      "Recall: 0.974\n",
      "F1: 0.973 \n"
     ]
    }
   ],
   "source": [
    "tfdeep2.eval_perf(np.argmax(probs2, axis=1), np.argmax(test_images_labels, axis=1))"
   ]
  },
  {
   "cell_type": "code",
   "execution_count": 56,
   "metadata": {},
   "outputs": [],
   "source": [
    "shape3 = [784, 100, 100, 10]\n",
    "\n",
    "tfdeep3 = TFDeep(shape3, param_delta=0.015, param_lambda=0.01)"
   ]
  },
  {
   "cell_type": "code",
   "execution_count": 57,
   "metadata": {},
   "outputs": [
    {
     "name": "stdout",
     "output_type": "stream",
     "text": [
      "Epoch:    0; avg_train_loss 391.653721965; validation_loss 341.701324463\n",
      "Epoch:   10; avg_train_loss 28.109571877; validation_loss 24.651517868\n",
      "Epoch:   20; avg_train_loss 2.223409773; validation_loss 2.010996819\n",
      "Epoch:   30; avg_train_loss 0.302757584; validation_loss 0.311607003\n",
      "Epoch:   40; avg_train_loss 0.160947735; validation_loss 0.193401560\n",
      "Epoch:   50; avg_train_loss 0.142134096; validation_loss 0.186940104\n",
      "Epoch:   60; avg_train_loss 0.135678912; validation_loss 0.164797932\n",
      "Epoch:   70; avg_train_loss 0.130375862; validation_loss 0.193169519\n",
      "Epoch:   80; avg_train_loss 0.125981221; validation_loss 0.164102465\n",
      "Epoch:   90; avg_train_loss 0.123152170; validation_loss 0.151915371\n",
      "Epoch:  100; avg_train_loss 0.120774326; validation_loss 0.163910806\n",
      "Epoch:  110; avg_train_loss 0.121845567; validation_loss 0.154295236\n",
      "Epoch:  120; avg_train_loss 0.119563474; validation_loss 0.156245530\n",
      "Epoch:  130; avg_train_loss 0.115343221; validation_loss 0.149925590\n",
      "Epoch:  140; avg_train_loss 0.114249810; validation_loss 0.166579872\n",
      "Epoch:  150; avg_train_loss 0.115488873; validation_loss 0.157980636\n",
      "Epoch:  160; avg_train_loss 0.113935502; validation_loss 0.160117447\n",
      "Epoch:  170; avg_train_loss 0.115543226; validation_loss 0.160992175\n",
      "Epoch:  180; avg_train_loss 0.112742363; validation_loss 0.146004245\n",
      "Epoch:  190; avg_train_loss 0.109689936; validation_loss 0.176145285\n",
      "Epoch:  200; avg_train_loss 0.108798873; validation_loss 0.157399625\n",
      "Epoch:  210; avg_train_loss 0.109645589; validation_loss 0.166462272\n",
      "Epoch:  220; avg_train_loss 0.107323031; validation_loss 0.154445797\n",
      "Epoch:  230; avg_train_loss 0.104681338; validation_loss 0.161489800\n",
      "Epoch:  240; avg_train_loss 0.104976739; validation_loss 0.156089187\n",
      "Early stopping: epoch 250\n",
      "Path for epochs restore: model_784_100_100_10_adam/model-250\n",
      "Path for latest restore: model_784_100_100_10_adam/model\n",
      "Epoch:  250; avg_train_loss 0.110851119; validation_loss 0.161223501\n",
      "Epoch:  260; avg_train_loss 0.103899219; validation_loss 0.143583447\n",
      "Epoch:  270; avg_train_loss 0.104542627; validation_loss 0.172536448\n",
      "Epoch:  280; avg_train_loss 0.105013995; validation_loss 0.154324532\n",
      "Epoch:  290; avg_train_loss 0.104123985; validation_loss 0.193827108\n",
      "Optimization Finished!\n",
      "Validation loss 0.174106583\n"
     ]
    }
   ],
   "source": [
    "tfdeep3.train_mb(np.array(train_images), np.array(train_images_labels), n_epochs=300,\n",
    "                 train_ratio=0.8, model_name=\"784_100_100_10_adam\")"
   ]
  },
  {
   "cell_type": "code",
   "execution_count": 58,
   "metadata": {},
   "outputs": [],
   "source": [
    "probs3 = tfdeep3.eval(np.array(test_images))"
   ]
  },
  {
   "cell_type": "code",
   "execution_count": 60,
   "metadata": {},
   "outputs": [
    {
     "name": "stdout",
     "output_type": "stream",
     "text": [
      "Accuracy: 0.976\n",
      "Precision: 0.976\n",
      "Recall: 0.976\n",
      "F1: 0.976 \n"
     ]
    }
   ],
   "source": [
    "tfdeep3.eval_perf(np.argmax(probs3, axis=1), np.argmax(test_images_labels, axis=1))"
   ]
  },
  {
   "cell_type": "code",
   "execution_count": 61,
   "metadata": {},
   "outputs": [],
   "source": [
    "shapex = [784, 100, 100, 10]\n",
    "\n",
    "tfdeep_restored = TFDeep(shapex, param_delta=0.015, param_lambda=0.01)"
   ]
  },
  {
   "cell_type": "code",
   "execution_count": 62,
   "metadata": {},
   "outputs": [
    {
     "name": "stdout",
     "output_type": "stream",
     "text": [
      "INFO:tensorflow:Restoring parameters from model_784_100_100_10_adam/model\n"
     ]
    },
    {
     "ename": "NotFoundError",
     "evalue": "Key Variable_35 not found in checkpoint\n\t [[Node: save_4/RestoreV2_29 = RestoreV2[dtypes=[DT_FLOAT], _device=\"/job:localhost/replica:0/task:0/cpu:0\"](_arg_save_4/Const_0_0, save_4/RestoreV2_29/tensor_names, save_4/RestoreV2_29/shape_and_slices)]]\n\t [[Node: save_4/RestoreV2_23/_101 = _Recv[client_terminated=false, recv_device=\"/job:localhost/replica:0/task:0/gpu:0\", send_device=\"/job:localhost/replica:0/task:0/cpu:0\", send_device_incarnation=1, tensor_name=\"edge_216_save_4/RestoreV2_23\", tensor_type=DT_FLOAT, _device=\"/job:localhost/replica:0/task:0/gpu:0\"]()]]\n\nCaused by op 'save_4/RestoreV2_29', defined at:\n  File \"/usr/lib/python3.5/runpy.py\", line 184, in _run_module_as_main\n    \"__main__\", mod_spec)\n  File \"/usr/lib/python3.5/runpy.py\", line 85, in _run_code\n    exec(code, run_globals)\n  File \"/home/dreyus95/Python/tf_environments/tf3/lib/python3.5/site-packages/ipykernel_launcher.py\", line 16, in <module>\n    app.launch_new_instance()\n  File \"/home/dreyus95/Python/tf_environments/tf3/lib/python3.5/site-packages/traitlets/config/application.py\", line 658, in launch_instance\n    app.start()\n  File \"/home/dreyus95/Python/tf_environments/tf3/lib/python3.5/site-packages/ipykernel/kernelapp.py\", line 477, in start\n    ioloop.IOLoop.instance().start()\n  File \"/home/dreyus95/Python/tf_environments/tf3/lib/python3.5/site-packages/zmq/eventloop/ioloop.py\", line 177, in start\n    super(ZMQIOLoop, self).start()\n  File \"/home/dreyus95/Python/tf_environments/tf3/lib/python3.5/site-packages/tornado/ioloop.py\", line 888, in start\n    handler_func(fd_obj, events)\n  File \"/home/dreyus95/Python/tf_environments/tf3/lib/python3.5/site-packages/tornado/stack_context.py\", line 277, in null_wrapper\n    return fn(*args, **kwargs)\n  File \"/home/dreyus95/Python/tf_environments/tf3/lib/python3.5/site-packages/zmq/eventloop/zmqstream.py\", line 440, in _handle_events\n    self._handle_recv()\n  File \"/home/dreyus95/Python/tf_environments/tf3/lib/python3.5/site-packages/zmq/eventloop/zmqstream.py\", line 472, in _handle_recv\n    self._run_callback(callback, msg)\n  File \"/home/dreyus95/Python/tf_environments/tf3/lib/python3.5/site-packages/zmq/eventloop/zmqstream.py\", line 414, in _run_callback\n    callback(*args, **kwargs)\n  File \"/home/dreyus95/Python/tf_environments/tf3/lib/python3.5/site-packages/tornado/stack_context.py\", line 277, in null_wrapper\n    return fn(*args, **kwargs)\n  File \"/home/dreyus95/Python/tf_environments/tf3/lib/python3.5/site-packages/ipykernel/kernelbase.py\", line 283, in dispatcher\n    return self.dispatch_shell(stream, msg)\n  File \"/home/dreyus95/Python/tf_environments/tf3/lib/python3.5/site-packages/ipykernel/kernelbase.py\", line 235, in dispatch_shell\n    handler(stream, idents, msg)\n  File \"/home/dreyus95/Python/tf_environments/tf3/lib/python3.5/site-packages/ipykernel/kernelbase.py\", line 399, in execute_request\n    user_expressions, allow_stdin)\n  File \"/home/dreyus95/Python/tf_environments/tf3/lib/python3.5/site-packages/ipykernel/ipkernel.py\", line 196, in do_execute\n    res = shell.run_cell(code, store_history=store_history, silent=silent)\n  File \"/home/dreyus95/Python/tf_environments/tf3/lib/python3.5/site-packages/ipykernel/zmqshell.py\", line 533, in run_cell\n    return super(ZMQInteractiveShell, self).run_cell(*args, **kwargs)\n  File \"/home/dreyus95/Python/tf_environments/tf3/lib/python3.5/site-packages/IPython/core/interactiveshell.py\", line 2698, in run_cell\n    interactivity=interactivity, compiler=compiler, result=result)\n  File \"/home/dreyus95/Python/tf_environments/tf3/lib/python3.5/site-packages/IPython/core/interactiveshell.py\", line 2802, in run_ast_nodes\n    if self.run_code(code, result):\n  File \"/home/dreyus95/Python/tf_environments/tf3/lib/python3.5/site-packages/IPython/core/interactiveshell.py\", line 2862, in run_code\n    exec(code_obj, self.user_global_ns, self.user_ns)\n  File \"<ipython-input-61-e1980205a9de>\", line 3, in <module>\n    tfdeep_restored = TFDeep(shapex, param_delta=0.015, param_lambda=0.01)\n  File \"<ipython-input-41-779e395746af>\", line 56, in __init__\n    self.saver = tf.train.Saver()\n  File \"/home/dreyus95/Python/tf_environments/tf3/lib/python3.5/site-packages/tensorflow/python/training/saver.py\", line 1140, in __init__\n    self.build()\n  File \"/home/dreyus95/Python/tf_environments/tf3/lib/python3.5/site-packages/tensorflow/python/training/saver.py\", line 1172, in build\n    filename=self._filename)\n  File \"/home/dreyus95/Python/tf_environments/tf3/lib/python3.5/site-packages/tensorflow/python/training/saver.py\", line 688, in build\n    restore_sequentially, reshape)\n  File \"/home/dreyus95/Python/tf_environments/tf3/lib/python3.5/site-packages/tensorflow/python/training/saver.py\", line 407, in _AddRestoreOps\n    tensors = self.restore_op(filename_tensor, saveable, preferred_shard)\n  File \"/home/dreyus95/Python/tf_environments/tf3/lib/python3.5/site-packages/tensorflow/python/training/saver.py\", line 247, in restore_op\n    [spec.tensor.dtype])[0])\n  File \"/home/dreyus95/Python/tf_environments/tf3/lib/python3.5/site-packages/tensorflow/python/ops/gen_io_ops.py\", line 663, in restore_v2\n    dtypes=dtypes, name=name)\n  File \"/home/dreyus95/Python/tf_environments/tf3/lib/python3.5/site-packages/tensorflow/python/framework/op_def_library.py\", line 767, in apply_op\n    op_def=op_def)\n  File \"/home/dreyus95/Python/tf_environments/tf3/lib/python3.5/site-packages/tensorflow/python/framework/ops.py\", line 2630, in create_op\n    original_op=self._default_original_op, op_def=op_def)\n  File \"/home/dreyus95/Python/tf_environments/tf3/lib/python3.5/site-packages/tensorflow/python/framework/ops.py\", line 1204, in __init__\n    self._traceback = self._graph._extract_stack()  # pylint: disable=protected-access\n\nNotFoundError (see above for traceback): Key Variable_35 not found in checkpoint\n\t [[Node: save_4/RestoreV2_29 = RestoreV2[dtypes=[DT_FLOAT], _device=\"/job:localhost/replica:0/task:0/cpu:0\"](_arg_save_4/Const_0_0, save_4/RestoreV2_29/tensor_names, save_4/RestoreV2_29/shape_and_slices)]]\n\t [[Node: save_4/RestoreV2_23/_101 = _Recv[client_terminated=false, recv_device=\"/job:localhost/replica:0/task:0/gpu:0\", send_device=\"/job:localhost/replica:0/task:0/cpu:0\", send_device_incarnation=1, tensor_name=\"edge_216_save_4/RestoreV2_23\", tensor_type=DT_FLOAT, _device=\"/job:localhost/replica:0/task:0/gpu:0\"]()]]\n",
     "output_type": "error",
     "traceback": [
      "\u001b[0;31m---------------------------------------------------------------------------\u001b[0m",
      "\u001b[0;31mNotFoundError\u001b[0m                             Traceback (most recent call last)",
      "\u001b[0;32m~/Python/tf_environments/tf3/lib/python3.5/site-packages/tensorflow/python/client/session.py\u001b[0m in \u001b[0;36m_do_call\u001b[0;34m(self, fn, *args)\u001b[0m\n\u001b[1;32m   1326\u001b[0m     \u001b[0;32mtry\u001b[0m\u001b[0;34m:\u001b[0m\u001b[0;34m\u001b[0m\u001b[0m\n\u001b[0;32m-> 1327\u001b[0;31m       \u001b[0;32mreturn\u001b[0m \u001b[0mfn\u001b[0m\u001b[0;34m(\u001b[0m\u001b[0;34m*\u001b[0m\u001b[0margs\u001b[0m\u001b[0;34m)\u001b[0m\u001b[0;34m\u001b[0m\u001b[0m\n\u001b[0m\u001b[1;32m   1328\u001b[0m     \u001b[0;32mexcept\u001b[0m \u001b[0merrors\u001b[0m\u001b[0;34m.\u001b[0m\u001b[0mOpError\u001b[0m \u001b[0;32mas\u001b[0m \u001b[0me\u001b[0m\u001b[0;34m:\u001b[0m\u001b[0;34m\u001b[0m\u001b[0m\n",
      "\u001b[0;32m~/Python/tf_environments/tf3/lib/python3.5/site-packages/tensorflow/python/client/session.py\u001b[0m in \u001b[0;36m_run_fn\u001b[0;34m(session, feed_dict, fetch_list, target_list, options, run_metadata)\u001b[0m\n\u001b[1;32m   1305\u001b[0m                                    \u001b[0mfeed_dict\u001b[0m\u001b[0;34m,\u001b[0m \u001b[0mfetch_list\u001b[0m\u001b[0;34m,\u001b[0m \u001b[0mtarget_list\u001b[0m\u001b[0;34m,\u001b[0m\u001b[0;34m\u001b[0m\u001b[0m\n\u001b[0;32m-> 1306\u001b[0;31m                                    status, run_metadata)\n\u001b[0m\u001b[1;32m   1307\u001b[0m \u001b[0;34m\u001b[0m\u001b[0m\n",
      "\u001b[0;32m/usr/lib/python3.5/contextlib.py\u001b[0m in \u001b[0;36m__exit__\u001b[0;34m(self, type, value, traceback)\u001b[0m\n\u001b[1;32m     65\u001b[0m             \u001b[0;32mtry\u001b[0m\u001b[0;34m:\u001b[0m\u001b[0;34m\u001b[0m\u001b[0m\n\u001b[0;32m---> 66\u001b[0;31m                 \u001b[0mnext\u001b[0m\u001b[0;34m(\u001b[0m\u001b[0mself\u001b[0m\u001b[0;34m.\u001b[0m\u001b[0mgen\u001b[0m\u001b[0;34m)\u001b[0m\u001b[0;34m\u001b[0m\u001b[0m\n\u001b[0m\u001b[1;32m     67\u001b[0m             \u001b[0;32mexcept\u001b[0m \u001b[0mStopIteration\u001b[0m\u001b[0;34m:\u001b[0m\u001b[0;34m\u001b[0m\u001b[0m\n",
      "\u001b[0;32m~/Python/tf_environments/tf3/lib/python3.5/site-packages/tensorflow/python/framework/errors_impl.py\u001b[0m in \u001b[0;36mraise_exception_on_not_ok_status\u001b[0;34m()\u001b[0m\n\u001b[1;32m    465\u001b[0m           \u001b[0mcompat\u001b[0m\u001b[0;34m.\u001b[0m\u001b[0mas_text\u001b[0m\u001b[0;34m(\u001b[0m\u001b[0mpywrap_tensorflow\u001b[0m\u001b[0;34m.\u001b[0m\u001b[0mTF_Message\u001b[0m\u001b[0;34m(\u001b[0m\u001b[0mstatus\u001b[0m\u001b[0;34m)\u001b[0m\u001b[0;34m)\u001b[0m\u001b[0;34m,\u001b[0m\u001b[0;34m\u001b[0m\u001b[0m\n\u001b[0;32m--> 466\u001b[0;31m           pywrap_tensorflow.TF_GetCode(status))\n\u001b[0m\u001b[1;32m    467\u001b[0m   \u001b[0;32mfinally\u001b[0m\u001b[0;34m:\u001b[0m\u001b[0;34m\u001b[0m\u001b[0m\n",
      "\u001b[0;31mNotFoundError\u001b[0m: Key Variable_35 not found in checkpoint\n\t [[Node: save_4/RestoreV2_29 = RestoreV2[dtypes=[DT_FLOAT], _device=\"/job:localhost/replica:0/task:0/cpu:0\"](_arg_save_4/Const_0_0, save_4/RestoreV2_29/tensor_names, save_4/RestoreV2_29/shape_and_slices)]]\n\t [[Node: save_4/RestoreV2_23/_101 = _Recv[client_terminated=false, recv_device=\"/job:localhost/replica:0/task:0/gpu:0\", send_device=\"/job:localhost/replica:0/task:0/cpu:0\", send_device_incarnation=1, tensor_name=\"edge_216_save_4/RestoreV2_23\", tensor_type=DT_FLOAT, _device=\"/job:localhost/replica:0/task:0/gpu:0\"]()]]",
      "\nDuring handling of the above exception, another exception occurred:\n",
      "\u001b[0;31mNotFoundError\u001b[0m                             Traceback (most recent call last)",
      "\u001b[0;32m<ipython-input-62-d55acaaaa540>\u001b[0m in \u001b[0;36m<module>\u001b[0;34m()\u001b[0m\n\u001b[1;32m      1\u001b[0m \u001b[0;34m\u001b[0m\u001b[0m\n\u001b[0;32m----> 2\u001b[0;31m \u001b[0mtfdeep_restored\u001b[0m\u001b[0;34m.\u001b[0m\u001b[0mrestore\u001b[0m\u001b[0;34m(\u001b[0m\u001b[0;34m\"model_784_100_100_10_adam/model\"\u001b[0m\u001b[0;34m)\u001b[0m\u001b[0;34m\u001b[0m\u001b[0m\n\u001b[0m",
      "\u001b[0;32m<ipython-input-41-779e395746af>\u001b[0m in \u001b[0;36mrestore\u001b[0;34m(self, path)\u001b[0m\n\u001b[1;32m    181\u001b[0m \u001b[0;34m\u001b[0m\u001b[0m\n\u001b[1;32m    182\u001b[0m     \u001b[0;32mdef\u001b[0m \u001b[0mrestore\u001b[0m\u001b[0;34m(\u001b[0m\u001b[0mself\u001b[0m\u001b[0;34m,\u001b[0m \u001b[0mpath\u001b[0m\u001b[0;34m)\u001b[0m\u001b[0;34m:\u001b[0m\u001b[0;34m\u001b[0m\u001b[0m\n\u001b[0;32m--> 183\u001b[0;31m         \u001b[0mself\u001b[0m\u001b[0;34m.\u001b[0m\u001b[0msaver\u001b[0m\u001b[0;34m.\u001b[0m\u001b[0mrestore\u001b[0m\u001b[0;34m(\u001b[0m\u001b[0mself\u001b[0m\u001b[0;34m.\u001b[0m\u001b[0msession\u001b[0m\u001b[0;34m,\u001b[0m \u001b[0mpath\u001b[0m\u001b[0;34m)\u001b[0m\u001b[0;34m\u001b[0m\u001b[0m\n\u001b[0m\u001b[1;32m    184\u001b[0m         \u001b[0mprint\u001b[0m\u001b[0;34m(\u001b[0m\u001b[0;34m\"Model restored.\"\u001b[0m\u001b[0;34m)\u001b[0m\u001b[0;34m\u001b[0m\u001b[0m\n",
      "\u001b[0;32m~/Python/tf_environments/tf3/lib/python3.5/site-packages/tensorflow/python/training/saver.py\u001b[0m in \u001b[0;36mrestore\u001b[0;34m(self, sess, save_path)\u001b[0m\n\u001b[1;32m   1558\u001b[0m     \u001b[0mlogging\u001b[0m\u001b[0;34m.\u001b[0m\u001b[0minfo\u001b[0m\u001b[0;34m(\u001b[0m\u001b[0;34m\"Restoring parameters from %s\"\u001b[0m\u001b[0;34m,\u001b[0m \u001b[0msave_path\u001b[0m\u001b[0;34m)\u001b[0m\u001b[0;34m\u001b[0m\u001b[0m\n\u001b[1;32m   1559\u001b[0m     sess.run(self.saver_def.restore_op_name,\n\u001b[0;32m-> 1560\u001b[0;31m              {self.saver_def.filename_tensor_name: save_path})\n\u001b[0m\u001b[1;32m   1561\u001b[0m \u001b[0;34m\u001b[0m\u001b[0m\n\u001b[1;32m   1562\u001b[0m   \u001b[0;34m@\u001b[0m\u001b[0mstaticmethod\u001b[0m\u001b[0;34m\u001b[0m\u001b[0m\n",
      "\u001b[0;32m~/Python/tf_environments/tf3/lib/python3.5/site-packages/tensorflow/python/client/session.py\u001b[0m in \u001b[0;36mrun\u001b[0;34m(self, fetches, feed_dict, options, run_metadata)\u001b[0m\n\u001b[1;32m    893\u001b[0m     \u001b[0;32mtry\u001b[0m\u001b[0;34m:\u001b[0m\u001b[0;34m\u001b[0m\u001b[0m\n\u001b[1;32m    894\u001b[0m       result = self._run(None, fetches, feed_dict, options_ptr,\n\u001b[0;32m--> 895\u001b[0;31m                          run_metadata_ptr)\n\u001b[0m\u001b[1;32m    896\u001b[0m       \u001b[0;32mif\u001b[0m \u001b[0mrun_metadata\u001b[0m\u001b[0;34m:\u001b[0m\u001b[0;34m\u001b[0m\u001b[0m\n\u001b[1;32m    897\u001b[0m         \u001b[0mproto_data\u001b[0m \u001b[0;34m=\u001b[0m \u001b[0mtf_session\u001b[0m\u001b[0;34m.\u001b[0m\u001b[0mTF_GetBuffer\u001b[0m\u001b[0;34m(\u001b[0m\u001b[0mrun_metadata_ptr\u001b[0m\u001b[0;34m)\u001b[0m\u001b[0;34m\u001b[0m\u001b[0m\n",
      "\u001b[0;32m~/Python/tf_environments/tf3/lib/python3.5/site-packages/tensorflow/python/client/session.py\u001b[0m in \u001b[0;36m_run\u001b[0;34m(self, handle, fetches, feed_dict, options, run_metadata)\u001b[0m\n\u001b[1;32m   1122\u001b[0m     \u001b[0;32mif\u001b[0m \u001b[0mfinal_fetches\u001b[0m \u001b[0;32mor\u001b[0m \u001b[0mfinal_targets\u001b[0m \u001b[0;32mor\u001b[0m \u001b[0;34m(\u001b[0m\u001b[0mhandle\u001b[0m \u001b[0;32mand\u001b[0m \u001b[0mfeed_dict_tensor\u001b[0m\u001b[0;34m)\u001b[0m\u001b[0;34m:\u001b[0m\u001b[0;34m\u001b[0m\u001b[0m\n\u001b[1;32m   1123\u001b[0m       results = self._do_run(handle, final_targets, final_fetches,\n\u001b[0;32m-> 1124\u001b[0;31m                              feed_dict_tensor, options, run_metadata)\n\u001b[0m\u001b[1;32m   1125\u001b[0m     \u001b[0;32melse\u001b[0m\u001b[0;34m:\u001b[0m\u001b[0;34m\u001b[0m\u001b[0m\n\u001b[1;32m   1126\u001b[0m       \u001b[0mresults\u001b[0m \u001b[0;34m=\u001b[0m \u001b[0;34m[\u001b[0m\u001b[0;34m]\u001b[0m\u001b[0;34m\u001b[0m\u001b[0m\n",
      "\u001b[0;32m~/Python/tf_environments/tf3/lib/python3.5/site-packages/tensorflow/python/client/session.py\u001b[0m in \u001b[0;36m_do_run\u001b[0;34m(self, handle, target_list, fetch_list, feed_dict, options, run_metadata)\u001b[0m\n\u001b[1;32m   1319\u001b[0m     \u001b[0;32mif\u001b[0m \u001b[0mhandle\u001b[0m \u001b[0;32mis\u001b[0m \u001b[0;32mNone\u001b[0m\u001b[0;34m:\u001b[0m\u001b[0;34m\u001b[0m\u001b[0m\n\u001b[1;32m   1320\u001b[0m       return self._do_call(_run_fn, self._session, feeds, fetches, targets,\n\u001b[0;32m-> 1321\u001b[0;31m                            options, run_metadata)\n\u001b[0m\u001b[1;32m   1322\u001b[0m     \u001b[0;32melse\u001b[0m\u001b[0;34m:\u001b[0m\u001b[0;34m\u001b[0m\u001b[0m\n\u001b[1;32m   1323\u001b[0m       \u001b[0;32mreturn\u001b[0m \u001b[0mself\u001b[0m\u001b[0;34m.\u001b[0m\u001b[0m_do_call\u001b[0m\u001b[0;34m(\u001b[0m\u001b[0m_prun_fn\u001b[0m\u001b[0;34m,\u001b[0m \u001b[0mself\u001b[0m\u001b[0;34m.\u001b[0m\u001b[0m_session\u001b[0m\u001b[0;34m,\u001b[0m \u001b[0mhandle\u001b[0m\u001b[0;34m,\u001b[0m \u001b[0mfeeds\u001b[0m\u001b[0;34m,\u001b[0m \u001b[0mfetches\u001b[0m\u001b[0;34m)\u001b[0m\u001b[0;34m\u001b[0m\u001b[0m\n",
      "\u001b[0;32m~/Python/tf_environments/tf3/lib/python3.5/site-packages/tensorflow/python/client/session.py\u001b[0m in \u001b[0;36m_do_call\u001b[0;34m(self, fn, *args)\u001b[0m\n\u001b[1;32m   1338\u001b[0m         \u001b[0;32mexcept\u001b[0m \u001b[0mKeyError\u001b[0m\u001b[0;34m:\u001b[0m\u001b[0;34m\u001b[0m\u001b[0m\n\u001b[1;32m   1339\u001b[0m           \u001b[0;32mpass\u001b[0m\u001b[0;34m\u001b[0m\u001b[0m\n\u001b[0;32m-> 1340\u001b[0;31m       \u001b[0;32mraise\u001b[0m \u001b[0mtype\u001b[0m\u001b[0;34m(\u001b[0m\u001b[0me\u001b[0m\u001b[0;34m)\u001b[0m\u001b[0;34m(\u001b[0m\u001b[0mnode_def\u001b[0m\u001b[0;34m,\u001b[0m \u001b[0mop\u001b[0m\u001b[0;34m,\u001b[0m \u001b[0mmessage\u001b[0m\u001b[0;34m)\u001b[0m\u001b[0;34m\u001b[0m\u001b[0m\n\u001b[0m\u001b[1;32m   1341\u001b[0m \u001b[0;34m\u001b[0m\u001b[0m\n\u001b[1;32m   1342\u001b[0m   \u001b[0;32mdef\u001b[0m \u001b[0m_extend_graph\u001b[0m\u001b[0;34m(\u001b[0m\u001b[0mself\u001b[0m\u001b[0;34m)\u001b[0m\u001b[0;34m:\u001b[0m\u001b[0;34m\u001b[0m\u001b[0m\n",
      "\u001b[0;31mNotFoundError\u001b[0m: Key Variable_35 not found in checkpoint\n\t [[Node: save_4/RestoreV2_29 = RestoreV2[dtypes=[DT_FLOAT], _device=\"/job:localhost/replica:0/task:0/cpu:0\"](_arg_save_4/Const_0_0, save_4/RestoreV2_29/tensor_names, save_4/RestoreV2_29/shape_and_slices)]]\n\t [[Node: save_4/RestoreV2_23/_101 = _Recv[client_terminated=false, recv_device=\"/job:localhost/replica:0/task:0/gpu:0\", send_device=\"/job:localhost/replica:0/task:0/cpu:0\", send_device_incarnation=1, tensor_name=\"edge_216_save_4/RestoreV2_23\", tensor_type=DT_FLOAT, _device=\"/job:localhost/replica:0/task:0/gpu:0\"]()]]\n\nCaused by op 'save_4/RestoreV2_29', defined at:\n  File \"/usr/lib/python3.5/runpy.py\", line 184, in _run_module_as_main\n    \"__main__\", mod_spec)\n  File \"/usr/lib/python3.5/runpy.py\", line 85, in _run_code\n    exec(code, run_globals)\n  File \"/home/dreyus95/Python/tf_environments/tf3/lib/python3.5/site-packages/ipykernel_launcher.py\", line 16, in <module>\n    app.launch_new_instance()\n  File \"/home/dreyus95/Python/tf_environments/tf3/lib/python3.5/site-packages/traitlets/config/application.py\", line 658, in launch_instance\n    app.start()\n  File \"/home/dreyus95/Python/tf_environments/tf3/lib/python3.5/site-packages/ipykernel/kernelapp.py\", line 477, in start\n    ioloop.IOLoop.instance().start()\n  File \"/home/dreyus95/Python/tf_environments/tf3/lib/python3.5/site-packages/zmq/eventloop/ioloop.py\", line 177, in start\n    super(ZMQIOLoop, self).start()\n  File \"/home/dreyus95/Python/tf_environments/tf3/lib/python3.5/site-packages/tornado/ioloop.py\", line 888, in start\n    handler_func(fd_obj, events)\n  File \"/home/dreyus95/Python/tf_environments/tf3/lib/python3.5/site-packages/tornado/stack_context.py\", line 277, in null_wrapper\n    return fn(*args, **kwargs)\n  File \"/home/dreyus95/Python/tf_environments/tf3/lib/python3.5/site-packages/zmq/eventloop/zmqstream.py\", line 440, in _handle_events\n    self._handle_recv()\n  File \"/home/dreyus95/Python/tf_environments/tf3/lib/python3.5/site-packages/zmq/eventloop/zmqstream.py\", line 472, in _handle_recv\n    self._run_callback(callback, msg)\n  File \"/home/dreyus95/Python/tf_environments/tf3/lib/python3.5/site-packages/zmq/eventloop/zmqstream.py\", line 414, in _run_callback\n    callback(*args, **kwargs)\n  File \"/home/dreyus95/Python/tf_environments/tf3/lib/python3.5/site-packages/tornado/stack_context.py\", line 277, in null_wrapper\n    return fn(*args, **kwargs)\n  File \"/home/dreyus95/Python/tf_environments/tf3/lib/python3.5/site-packages/ipykernel/kernelbase.py\", line 283, in dispatcher\n    return self.dispatch_shell(stream, msg)\n  File \"/home/dreyus95/Python/tf_environments/tf3/lib/python3.5/site-packages/ipykernel/kernelbase.py\", line 235, in dispatch_shell\n    handler(stream, idents, msg)\n  File \"/home/dreyus95/Python/tf_environments/tf3/lib/python3.5/site-packages/ipykernel/kernelbase.py\", line 399, in execute_request\n    user_expressions, allow_stdin)\n  File \"/home/dreyus95/Python/tf_environments/tf3/lib/python3.5/site-packages/ipykernel/ipkernel.py\", line 196, in do_execute\n    res = shell.run_cell(code, store_history=store_history, silent=silent)\n  File \"/home/dreyus95/Python/tf_environments/tf3/lib/python3.5/site-packages/ipykernel/zmqshell.py\", line 533, in run_cell\n    return super(ZMQInteractiveShell, self).run_cell(*args, **kwargs)\n  File \"/home/dreyus95/Python/tf_environments/tf3/lib/python3.5/site-packages/IPython/core/interactiveshell.py\", line 2698, in run_cell\n    interactivity=interactivity, compiler=compiler, result=result)\n  File \"/home/dreyus95/Python/tf_environments/tf3/lib/python3.5/site-packages/IPython/core/interactiveshell.py\", line 2802, in run_ast_nodes\n    if self.run_code(code, result):\n  File \"/home/dreyus95/Python/tf_environments/tf3/lib/python3.5/site-packages/IPython/core/interactiveshell.py\", line 2862, in run_code\n    exec(code_obj, self.user_global_ns, self.user_ns)\n  File \"<ipython-input-61-e1980205a9de>\", line 3, in <module>\n    tfdeep_restored = TFDeep(shapex, param_delta=0.015, param_lambda=0.01)\n  File \"<ipython-input-41-779e395746af>\", line 56, in __init__\n    self.saver = tf.train.Saver()\n  File \"/home/dreyus95/Python/tf_environments/tf3/lib/python3.5/site-packages/tensorflow/python/training/saver.py\", line 1140, in __init__\n    self.build()\n  File \"/home/dreyus95/Python/tf_environments/tf3/lib/python3.5/site-packages/tensorflow/python/training/saver.py\", line 1172, in build\n    filename=self._filename)\n  File \"/home/dreyus95/Python/tf_environments/tf3/lib/python3.5/site-packages/tensorflow/python/training/saver.py\", line 688, in build\n    restore_sequentially, reshape)\n  File \"/home/dreyus95/Python/tf_environments/tf3/lib/python3.5/site-packages/tensorflow/python/training/saver.py\", line 407, in _AddRestoreOps\n    tensors = self.restore_op(filename_tensor, saveable, preferred_shard)\n  File \"/home/dreyus95/Python/tf_environments/tf3/lib/python3.5/site-packages/tensorflow/python/training/saver.py\", line 247, in restore_op\n    [spec.tensor.dtype])[0])\n  File \"/home/dreyus95/Python/tf_environments/tf3/lib/python3.5/site-packages/tensorflow/python/ops/gen_io_ops.py\", line 663, in restore_v2\n    dtypes=dtypes, name=name)\n  File \"/home/dreyus95/Python/tf_environments/tf3/lib/python3.5/site-packages/tensorflow/python/framework/op_def_library.py\", line 767, in apply_op\n    op_def=op_def)\n  File \"/home/dreyus95/Python/tf_environments/tf3/lib/python3.5/site-packages/tensorflow/python/framework/ops.py\", line 2630, in create_op\n    original_op=self._default_original_op, op_def=op_def)\n  File \"/home/dreyus95/Python/tf_environments/tf3/lib/python3.5/site-packages/tensorflow/python/framework/ops.py\", line 1204, in __init__\n    self._traceback = self._graph._extract_stack()  # pylint: disable=protected-access\n\nNotFoundError (see above for traceback): Key Variable_35 not found in checkpoint\n\t [[Node: save_4/RestoreV2_29 = RestoreV2[dtypes=[DT_FLOAT], _device=\"/job:localhost/replica:0/task:0/cpu:0\"](_arg_save_4/Const_0_0, save_4/RestoreV2_29/tensor_names, save_4/RestoreV2_29/shape_and_slices)]]\n\t [[Node: save_4/RestoreV2_23/_101 = _Recv[client_terminated=false, recv_device=\"/job:localhost/replica:0/task:0/gpu:0\", send_device=\"/job:localhost/replica:0/task:0/cpu:0\", send_device_incarnation=1, tensor_name=\"edge_216_save_4/RestoreV2_23\", tensor_type=DT_FLOAT, _device=\"/job:localhost/replica:0/task:0/gpu:0\"]()]]\n"
     ]
    }
   ],
   "source": [
    "\n",
    "tfdeep_restored.restore(\"model_784_100_100_10_adam/model\")"
   ]
  },
  {
   "cell_type": "code",
   "execution_count": null,
   "metadata": {},
   "outputs": [],
   "source": []
  }
 ],
 "metadata": {
  "kernelspec": {
   "display_name": "Python 3",
   "language": "python",
   "name": "python3"
  },
  "language_info": {
   "codemirror_mode": {
    "name": "ipython",
    "version": 3
   },
   "file_extension": ".py",
   "mimetype": "text/x-python",
   "name": "python",
   "nbconvert_exporter": "python",
   "pygments_lexer": "ipython3",
   "version": "3.5.2"
  }
 },
 "nbformat": 4,
 "nbformat_minor": 2
}
