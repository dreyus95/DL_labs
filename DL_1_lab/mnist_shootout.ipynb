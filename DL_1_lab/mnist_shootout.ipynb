{
 "cells": [
  {
   "cell_type": "code",
   "execution_count": 83,
   "metadata": {},
   "outputs": [
    {
     "name": "stdout",
     "output_type": "stream",
     "text": [
      "Extracting MNIST_data/train-images-idx3-ubyte.gz\n",
      "Extracting MNIST_data/train-labels-idx1-ubyte.gz\n",
      "Extracting MNIST_data/t10k-images-idx3-ubyte.gz\n",
      "Extracting MNIST_data/t10k-labels-idx1-ubyte.gz\n"
     ]
    }
   ],
   "source": [
    "import logging\n",
    "logging.getLogger(\"tensorflow\").setLevel(logging.ERROR)\n",
    "\n",
    "import tensorflow as tf\n",
    "from tensorflow.examples.tutorials.mnist import input_data\n",
    "mnist = input_data.read_data_sets(\"MNIST_data/\", one_hot=True)"
   ]
  },
  {
   "cell_type": "code",
   "execution_count": 84,
   "metadata": {},
   "outputs": [
    {
     "name": "stdout",
     "output_type": "stream",
     "text": [
      "Datasets(train=<tensorflow.contrib.learn.python.learn.datasets.mnist.DataSet object at 0x7ff949ef3e80>, validation=<tensorflow.contrib.learn.python.learn.datasets.mnist.DataSet object at 0x7ff949e46978>, test=<tensorflow.contrib.learn.python.learn.datasets.mnist.DataSet object at 0x7ff955adeb70>)\n"
     ]
    }
   ],
   "source": [
    "print(mnist)"
   ]
  },
  {
   "cell_type": "code",
   "execution_count": 85,
   "metadata": {},
   "outputs": [],
   "source": [
    "import numpy as np\n",
    "from matplotlib.colors import ListedColormap\n",
    "import matplotlib.pyplot as plt\n",
    "from sklearn.metrics import f1_score, precision_score, recall_score, accuracy_score"
   ]
  },
  {
   "cell_type": "code",
   "execution_count": 86,
   "metadata": {},
   "outputs": [
    {
     "name": "stdout",
     "output_type": "stream",
     "text": [
      "55000 784 10\n"
     ]
    }
   ],
   "source": [
    "N=mnist.train.images.shape[0]\n",
    "D=mnist.train.images.shape[1]\n",
    "C=mnist.train.labels.shape[1]\n",
    "\n",
    "print(N, D, C)"
   ]
  },
  {
   "cell_type": "code",
   "execution_count": 87,
   "metadata": {},
   "outputs": [
    {
     "data": {
      "image/png": "[encoded data removed]",
      "text/plain": [
       "<matplotlib.figure.Figure at 0x7ff949b0cf98>"
      ]
     },
     "metadata": {},
     "output_type": "display_data"
    }
   ],
   "source": [
    "first_image = mnist.train.images[0]\n",
    "first_image = np.array(first_image, dtype='float32')\n",
    "pixels = first_image.reshape((28, 28))\n",
    "plt.imshow(pixels, cmap=plt.get_cmap('gray'), vmin=0, vmax=1)\n",
    "plt.show()"
   ]
  },
  {
   "cell_type": "code",
   "execution_count": 88,
   "metadata": {},
   "outputs": [
    {
     "name": "stdout",
     "output_type": "stream",
     "text": [
      "Done\n"
     ]
    }
   ],
   "source": [
    "train_images = []\n",
    "train_images_labels = []\n",
    "test_images = []\n",
    "test_images_labels = []\n",
    "\n",
    "for i, image in enumerate(mnist.train.images):\n",
    "    train_images.append(np.array(image, dtype='float32'))\n",
    "    \n",
    "for label in mnist.train.labels:\n",
    "    train_images_labels.append(label)\n",
    "    \n",
    "for i, image in enumerate(mnist.test.images):\n",
    "    test_images.append(np.array(image, dtype='float32'))\n",
    "    \n",
    "for label in mnist.test.labels:\n",
    "    test_images_labels.append(label)\n",
    "    \n",
    "print (\"Done\")\n",
    "# print (train_images[0])\n",
    "# print (test_images[0])\n",
    "# print (train_images_labels[0])\n",
    "# print (test_images_labels[0])"
   ]
  },
  {
   "cell_type": "code",
   "execution_count": 89,
   "metadata": {},
   "outputs": [],
   "source": [
    "class TFDeep:\n",
    "    \"\"\"\n",
    "        Class that represents a deep neural network implementation in tensorflow.\n",
    "    \"\"\"\n",
    "\n",
    "    def __init__(self, shapes, param_delta=0.1, param_lambda=0.01, optimizer=\"adam\",\n",
    "                 activation=tf.nn.relu):\n",
    "        \"\"\"Arguments:\n",
    "           - shapes: shape of neural network\n",
    "           - C: number of classes\n",
    "           - param_delta: training step\n",
    "        \"\"\"\n",
    "        self.X = tf.placeholder(dtype=tf.float32, shape=[None, shapes[0]])\n",
    "        self.Yoh_ = tf.placeholder(dtype=tf.float32, shape=[None, shapes[-1]])\n",
    "        self.is_training = tf.placeholder(tf.bool)\n",
    "\n",
    "        self.weights = []\n",
    "        self.biases = []\n",
    "        self.hs = []\n",
    "\n",
    "        for index, shape in enumerate(shapes[1:]):\n",
    "            self.weights.append(tf.Variable(initial_value=tf.random_normal([shapes[index], shape])))\n",
    "            self.biases.append(tf.Variable(initial_value=tf.random_normal([1, shape])))\n",
    "\n",
    "        # NN input\n",
    "        self.hs.append(activation(self.batch_norm(tf.matmul(self.X, self.weights[0]) + self.biases[0],\n",
    "                                  self.is_training)))\n",
    "\n",
    "        # NN inner connections\n",
    "        for i in range(1, len(shapes[1:-1])):\n",
    "            self.hs.append(activation(self.batch_norm(tf.matmul(self.hs[-1], self.weights[i]) + self.biases[i],\n",
    "                                      self.is_training)))\n",
    "\n",
    "        # NN output\n",
    "        if len(shapes[1:-1]) == 0:\n",
    "            # regular logistic regression\n",
    "            output = tf.matmul(self.X, self.weights[-1]) + self.biases[-1]\n",
    "        else:\n",
    "            # neural network last layer output\n",
    "            output = tf.matmul(self.hs[-1], self.weights[-1]) + self.biases[-1]\n",
    "\n",
    "        self.probs = tf.nn.softmax(output)\n",
    "\n",
    "        self.cross_entropy = tf.reduce_mean(-tf.reduce_sum(self.Yoh_ * tf.log(self.probs + 1e-8), axis=1))\n",
    "        self.regularization = [param_lambda * tf.nn.l2_loss(weights) for weights in self.weights]\n",
    "        self.loss = self.cross_entropy + tf.add_n(self.regularization)\n",
    "\n",
    "        if optimizer == \"gds\":\n",
    "            self.train_step = tf.train.GradientDescentOptimizer(param_delta).minimize(self.loss)\n",
    "        elif optimizer == \"adam\":\n",
    "            step = tf.Variable(0, trainable=False)\n",
    "            rate = tf.train.exponential_decay(param_delta, step, 100, 0.98, staircase=True)\n",
    "            self.train_step = tf.train.AdamOptimizer(rate).minimize(self.loss, global_step=step)\n",
    "\n",
    "        self.session = tf.InteractiveSession()\n",
    "\n",
    "    def batch_norm(self, inputs, is_training, decay=0.999, epsilon=1e-3):\n",
    "\n",
    "        scale = tf.Variable(tf.ones([inputs.get_shape()[-1]]))\n",
    "        beta = tf.Variable(tf.zeros([inputs.get_shape()[-1]]))\n",
    "        pop_mean = tf.Variable(tf.zeros([inputs.get_shape()[-1]]), trainable=False)\n",
    "        pop_var = tf.Variable(tf.ones([inputs.get_shape()[-1]]), trainable=False)\n",
    "\n",
    "        def if_true():\n",
    "            batch_mean, batch_var = tf.nn.moments(inputs, [0])\n",
    "            train_mean = tf.assign(pop_mean,\n",
    "                                   pop_mean * decay + batch_mean * (1 - decay))\n",
    "            train_var = tf.assign(pop_var,\n",
    "                                  pop_var * decay + batch_var * (1 - decay))\n",
    "            with tf.control_dependencies([train_mean, train_var]):\n",
    "                return tf.nn.batch_normalization(inputs,\n",
    "                                                 batch_mean, batch_var, beta, scale, epsilon)\n",
    "\n",
    "        def if_false():\n",
    "            return tf.nn.batch_normalization(inputs,\n",
    "                                             pop_mean, pop_var, beta, scale, epsilon)\n",
    "\n",
    "        result = tf.cond(is_training, if_true, if_false)\n",
    "        return result\n",
    "\n",
    "    def train(self, X, Yoh_, param_niter):\n",
    "        \"\"\"Arguments:\n",
    "           - X: actual datapoints [NxD]\n",
    "           - Yoh_: one-hot encoded labels [NxC]\n",
    "           - param_niter: number of iterations\n",
    "        \"\"\"\n",
    "        self.session.run(tf.initialize_all_variables())\n",
    "\n",
    "        for i in range(param_niter+1):\n",
    "            tr = self.session.run([self.train_step], feed_dict={self.X: X, self.Yoh_: Yoh_})\n",
    "            if i % 1000 == 0:\n",
    "                loss = self.session.run(self.loss, feed_dict={self.X: X, self.Yoh_: Yoh_})\n",
    "                print(\"{0:4}. Loss: {1:.8f}\".format(i, loss))\n",
    "\n",
    "    def _shuffle(self, X, Yoh_):\n",
    "        perm = np.random.permutation(len(X))\n",
    "        return X[perm], Yoh_[perm]\n",
    "\n",
    "    def _split_dataset(self, X, Yoh_, ratio=0.8):\n",
    "        X, Yoh_ = self._shuffle(X, Yoh_)\n",
    "        split = int(ratio * len(X))\n",
    "        return X[:split], X[split:], Yoh_[:split], Yoh_[split:]\n",
    "\n",
    "    def train_mb(self, X, Yoh_, n_epochs=1000, batch_size=50, train_ratio=1., print_step=10):\n",
    "        self.session.run(tf.initialize_all_variables())\n",
    "        prev_loss = window_loss = float('inf')\n",
    "\n",
    "        X_train, X_val, Y_train, Y_val = self._split_dataset(X, Yoh_, ratio=train_ratio)\n",
    "        n_samples = len(X_train)\n",
    "        n_batches = int(n_samples / batch_size)\n",
    "\n",
    "        for epoch in range(n_epochs):\n",
    "            X_train, Y_train = self._shuffle(X_train, Y_train)\n",
    "            i = 0\n",
    "            avg_loss = 0\n",
    "\n",
    "            while i < n_samples:\n",
    "                batch_X, batch_Yoh_ = X_train[i:i + batch_size], Y_train[i:i + batch_size]\n",
    "                data_dict = {self.X: batch_X, self.Yoh_: batch_Yoh_, self.is_training: True}\n",
    "                val_loss, _ = self.session.run([self.loss, self.train_step], feed_dict=data_dict)\n",
    "\n",
    "                avg_loss += val_loss / n_batches\n",
    "                i += batch_size\n",
    "\n",
    "            # validation\n",
    "            data_dict = {self.X: X_val, self.Yoh_: Y_val, self.is_training: False}\n",
    "            val_loss, _ = self.session.run([self.loss, self.train_step], feed_dict=data_dict)\n",
    "            window_loss = min(window_loss, val_loss)\n",
    "            if epoch % 50 == 0:\n",
    "                if window_loss > prev_loss:\n",
    "                    print(\"Early stopping: epoch\", epoch)\n",
    "                    # break\n",
    "                prev_loss = window_loss\n",
    "                window_loss = float('inf')\n",
    "\n",
    "            if epoch % print_step == 0:\n",
    "                print(\"Epoch: {:4d}; avg_train_loss {:.9f}; validation_loss {:.9f}\".format(epoch, avg_loss, val_loss))\n",
    "\n",
    "        print(\"Optimization Finished!\")\n",
    "        print(\"Validation loss {:.9f}\".format(val_loss))\n",
    "\n",
    "    def eval(self, X):\n",
    "        \"\"\"Arguments:\n",
    "           - X: actual datapoints [NxD]\n",
    "           Returns: predicted class probabilites [NxC]\n",
    "        \"\"\"\n",
    "        probs = self.session.run(self.probs, feed_dict={self.X: X, self.is_training: False})\n",
    "        return probs\n",
    "\n",
    "    def classify(self, X):\n",
    "        return np.argmax(self.eval(X), axis=1)\n",
    "\n",
    "    def eval_perf(self, Y, Y_):\n",
    "        # needed to compute scores of our model\n",
    "        # 'weighted' takes into consideration labels imbalance\n",
    "        if max(int(max(Y_) + 1), int(max(Y) + 1)) == 2:\n",
    "            average = 'binary'\n",
    "        else:\n",
    "            average = 'weighted'\n",
    "\n",
    "        accuracy = accuracy_score(Y_, Y)\n",
    "        precision = precision_score(Y_, Y, average=average)\n",
    "        recall = recall_score(Y_, Y, average=average)\n",
    "        f1 = f1_score(Y_, Y, average=average)\n",
    "\n",
    "        print(\"Accuracy: {0:.3f}\\n\"\n",
    "              \"Precision: {1:.3f}\\n\"\n",
    "              \"Recall: {2:.3f}\\n\"\n",
    "              \"F1: {3:.3f} \".format(accuracy, precision, recall, f1))"
   ]
  },
  {
   "cell_type": "code",
   "execution_count": 90,
   "metadata": {},
   "outputs": [],
   "source": [
    "shape = [784, 10]\n",
    "\n",
    "tfdeep_gds = TFDeep(shape, param_delta=0.02, param_lambda=0.01, optimizer=\"gds\")\n",
    "tfdeep_adam = TFDeep(shape, param_delta=0.02, param_lambda=0.01, optimizer=\"adam\")"
   ]
  },
  {
   "cell_type": "code",
   "execution_count": 91,
   "metadata": {},
   "outputs": [
    {
     "name": "stdout",
     "output_type": "stream",
     "text": [
      "Epoch:    0; avg_train_loss 37.479149430; validation_loss 29.393251419\n",
      "Optimization Finished!\n",
      "Validation loss 1.609830618\n"
     ]
    }
   ],
   "source": [
    "tfdeep_gds.train_mb(np.array(train_images), np.array(train_images_labels), n_epochs=10, train_ratio=0.8)"
   ]
  },
  {
   "cell_type": "code",
   "execution_count": 92,
   "metadata": {},
   "outputs": [
    {
     "name": "stdout",
     "output_type": "stream",
     "text": [
      "Epoch:    0; avg_train_loss 2.862585529; validation_loss 0.669430315\n",
      "Optimization Finished!\n",
      "Validation loss 0.584077656\n"
     ]
    }
   ],
   "source": [
    "tfdeep_adam.train_mb(np.array(train_images), np.array(train_images_labels), n_epochs=10, train_ratio=0.8)"
   ]
  },
  {
   "cell_type": "code",
   "execution_count": 93,
   "metadata": {},
   "outputs": [],
   "source": [
    "probs_gds = tfdeep_gds.eval(np.array(test_images))\n",
    "probs_adam = tfdeep_adam.eval(np.array(test_images))"
   ]
  },
  {
   "cell_type": "code",
   "execution_count": 94,
   "metadata": {},
   "outputs": [
    {
     "name": "stdout",
     "output_type": "stream",
     "text": [
      "GradientDescentOpt:\n",
      "Accuracy: 0.897\n",
      "Precision: 0.897\n",
      "Recall: 0.897\n",
      "F1: 0.896 \n",
      "\n",
      "AdamOpt:\n",
      "Accuracy: 0.899\n",
      "Precision: 0.900\n",
      "Recall: 0.899\n",
      "F1: 0.899 \n"
     ]
    }
   ],
   "source": [
    "print(\"GradientDescentOpt:\")\n",
    "tfdeep_gds.eval_perf(np.argmax(probs_gds, axis=1), np.argmax(test_images_labels, axis=1))\n",
    "\n",
    "print(\"\\nAdamOpt:\")\n",
    "tfdeep_adam.eval_perf(np.argmax(probs_adam, axis=1), np.argmax(test_images_labels, axis=1))"
   ]
  },
  {
   "cell_type": "code",
   "execution_count": 95,
   "metadata": {},
   "outputs": [],
   "source": [
    "weights_gds = tfdeep_gds.session.run(tfdeep_gds.weights)\n",
    "weights_adam = tfdeep_adam.session.run(tfdeep_adam.weights)"
   ]
  },
  {
   "cell_type": "code",
   "execution_count": 96,
   "metadata": {},
   "outputs": [],
   "source": [
    "from matplotlib.colors import LinearSegmentedColormap\n",
    "\n",
    "W = weights_gds[0].T\n",
    "W2 = weights_adam[0].T\n",
    "\n",
    "#cmap\n",
    "cdict = {'blue':   ((0.0, 0.0, 0.0),\n",
    "                   (0.5, 0.0, 0.1),\n",
    "                   (1.0, 1.0, 1.0)),\n",
    "\n",
    "         'green': ((0.0, 0.0, 0.0),\n",
    "                   (1.0, 0.0, 0.0)),\n",
    "\n",
    "         'red':  ((0.0, 0.0, 1.0),\n",
    "                   (0.5, 0.1, 0.0),\n",
    "                   (1.0, 0.0, 0.0))\n",
    "        }\n",
    "cmap = LinearSegmentedColormap('BlueRed1', cdict)"
   ]
  },
  {
   "cell_type": "code",
   "execution_count": 97,
   "metadata": {},
   "outputs": [
    {
     "data": {
      "image/png": "[encoded data removed]",
      "text/plain": [
       "<matplotlib.figure.Figure at 0x7ff91afba390>"
      ]
     },
     "metadata": {},
     "output_type": "display_data"
    }
   ],
   "source": [
    "f1, axarr1 = plt.subplots(2, 5)\n",
    "for i, w in enumerate(W):\n",
    "    row = 0 if i<5 else 1\n",
    "    axarr1[row, i%5].set_title('Digit' + str(i))\n",
    "    axarr1[row, i%5].imshow(w.reshape(28,28),cmap=cmap)\n",
    "plt.show()"
   ]
  },
  {
   "cell_type": "code",
   "execution_count": 98,
   "metadata": {},
   "outputs": [
    {
     "data": {
      "image/png": "[encoded data removed]",
      "text/plain": [
       "<matplotlib.figure.Figure at 0x7ff949fa92b0>"
      ]
     },
     "metadata": {},
     "output_type": "display_data"
    }
   ],
   "source": [
    "f2, axarr2 = plt.subplots(2, 5)\n",
    "for i, w in enumerate(W2):\n",
    "    row = 0 if i<5 else 1\n",
    "    axarr2[row, i%5].set_title('Digit' + str(i))\n",
    "    axarr2[row, i%5].imshow(w.reshape(28,28),cmap=cmap)\n",
    "plt.show()"
   ]
  },
  {
   "cell_type": "code",
   "execution_count": 99,
   "metadata": {},
   "outputs": [
    {
     "data": {
      "image/png": "[encoded data removed]",
      "text/plain": [
       "<matplotlib.figure.Figure at 0x7ff9498596d8>"
      ]
     },
     "metadata": {},
     "output_type": "display_data"
    },
    {
     "name": "stdout",
     "output_type": "stream",
     "text": [
      "Prob 0.000101467659988\n",
      "Correct label 7\n"
     ]
    }
   ],
   "source": [
    "correct_probs = np.sum(probs_gds * mnist.test.labels, axis=1)\n",
    "worst_sample = correct_probs.argmin()\n",
    "plt.imshow(mnist.test.images[worst_sample].reshape(28,28), cmap='gray')\n",
    "plt.show()\n",
    "\n",
    "print(\"Prob\", correct_probs[worst_sample])\n",
    "print(\"Correct label\", mnist.test.labels[worst_sample].argmax())"
   ]
  },
  {
   "cell_type": "code",
   "execution_count": 100,
   "metadata": {},
   "outputs": [],
   "source": [
    "shape2 = [784, 100, 10]\n",
    "\n",
    "tfdeep2 = TFDeep(shape2, param_delta=0.015, param_lambda=0.01)"
   ]
  },
  {
   "cell_type": "code",
   "execution_count": 101,
   "metadata": {},
   "outputs": [
    {
     "name": "stdout",
     "output_type": "stream",
     "text": [
      "Epoch:    0; avg_train_loss 20.490388727; validation_loss 1.102735996\n",
      "Optimization Finished!\n",
      "Validation loss 0.332847714\n"
     ]
    }
   ],
   "source": [
    "tfdeep2.train_mb(np.array(train_images), np.array(train_images_labels), n_epochs=10, train_ratio=0.8)"
   ]
  },
  {
   "cell_type": "code",
   "execution_count": 102,
   "metadata": {},
   "outputs": [],
   "source": [
    "probs2 = tfdeep2.eval(np.array(test_images))"
   ]
  },
  {
   "cell_type": "code",
   "execution_count": 103,
   "metadata": {
    "scrolled": true
   },
   "outputs": [
    {
     "name": "stdout",
     "output_type": "stream",
     "text": [
      "Accuracy: 0.948\n",
      "Precision: 0.949\n",
      "Recall: 0.948\n",
      "F1: 0.948 \n"
     ]
    }
   ],
   "source": [
    "tfdeep2.eval_perf(np.argmax(probs2, axis=1), np.argmax(test_images_labels, axis=1))"
   ]
  },
  {
   "cell_type": "code",
   "execution_count": null,
   "metadata": {},
   "outputs": [],
   "source": []
  }
 ],
 "metadata": {
  "kernelspec": {
   "display_name": "Python 3",
   "language": "python",
   "name": "python3"
  },
  "language_info": {
   "codemirror_mode": {
    "name": "ipython",
    "version": 3
   },
   "file_extension": ".py",
   "mimetype": "text/x-python",
   "name": "python",
   "nbconvert_exporter": "python",
   "pygments_lexer": "ipython3",
   "version": "3.5.2"
  }
 },
 "nbformat": 4,
 "nbformat_minor": 2
}
