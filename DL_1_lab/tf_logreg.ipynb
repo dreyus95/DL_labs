{
 "cells": [
  {
   "cell_type": "code",
   "execution_count": 1,
   "metadata": {
    "scrolled": false
   },
   "outputs": [],
   "source": [
    "import tensorflow as tf\n",
    "import numpy as np\n",
    "from matplotlib.colors import ListedColormap\n",
    "import matplotlib.pyplot as plt\n",
    "from sklearn.metrics import f1_score, precision_score, recall_score, accuracy_score\n",
    "\n",
    "import data"
   ]
  },
  {
   "cell_type": "markdown",
   "metadata": {},
   "source": [
    "- The idea was to find two seeds:\n",
    "one that can produce such random gaussian 2D dataset which Logistic Regression <b>cannot separate linearly</b> into classes, and another seed that <b>can produce linearly separable</b> dataset"
   ]
  },
  {
   "cell_type": "code",
   "execution_count": 2,
   "metadata": {
    "scrolled": false
   },
   "outputs": [],
   "source": [
    "SEED = 100\n",
    "NUM_EXAMPLES = 50\n",
    "CLASSES = 3\n",
    "DISTRIBUTIONS = 6"
   ]
  },
  {
   "cell_type": "code",
   "execution_count": 3,
   "metadata": {
    "scrolled": false
   },
   "outputs": [],
   "source": [
    "class TFLogreg:\n",
    "    \n",
    "    \"\"\"\n",
    "        Class that represents a tensorflow implementation of Logistic Regression model.\n",
    "    \"\"\"\n",
    "\n",
    "    def __init__(self, D, C, param_delta=0.1, param_lambda=0.01):\n",
    "        \"\"\"Arguments:\n",
    "           - D: dimensions of each datapoint\n",
    "           - C: number of classes\n",
    "           - param_delta: training step\n",
    "           - param_lambda= regularization strength\n",
    "        \"\"\"\n",
    "        self.X = tf.placeholder(dtype=tf.float32, shape=[None, D])\n",
    "        self.Yoh_ = tf.placeholder(dtype=tf.float32, shape=[None, C])\n",
    "        self.W = tf.Variable(initial_value=tf.random_normal([D, C]))\n",
    "        self.b = tf.Variable(initial_value=tf.random_normal([1, C]))\n",
    "\n",
    "        self.probs = tf.nn.softmax(tf.matmul(self.X, self.W) + self.b)\n",
    "\n",
    "        self.cross_entropy = tf.reduce_mean(-tf.reduce_sum(self.Yoh_ * tf.log(self.probs), reduction_indices=[1]))\n",
    "        self.regularization = param_lambda * tf.nn.l2_loss(self.W)\n",
    "        self.loss = self.cross_entropy + self.regularization\n",
    "\n",
    "        self.train_step = tf.train.GradientDescentOptimizer(param_delta).minimize(self.loss)\n",
    "        \n",
    "        self.session = tf.InteractiveSession()\n",
    "\n",
    "    def train(self, X, Yoh_, param_niter):\n",
    "        \"\"\"Arguments:\n",
    "           - X: actual datapoints [NxD]\n",
    "           - Yoh_: one-hot encoded labels [NxC]\n",
    "           - param_niter: number of iterations\n",
    "        \"\"\"\n",
    "        self.session.run(tf.initialize_all_variables())\n",
    "\n",
    "        for i in range(param_niter+1):\n",
    "            tr, loss = self.session.run([self.train_step, self.loss], feed_dict={self.X: X, self.Yoh_: Yoh_})\n",
    "            if i % 1000 == 0:\n",
    "                print(\"{0:4}. Loss: {1:.8f}\".format(i, loss))\n",
    "\n",
    "    def eval(self, X):\n",
    "        \"\"\"Arguments:\n",
    "           - X: actual datapoints [NxD]\n",
    "           Returns: predicted class probabilites [NxC]\n",
    "        \"\"\"\n",
    "        probs = self.session.run(self.probs, feed_dict={self.X: X})\n",
    "        return probs\n",
    "\n",
    "    def classify(self, X):\n",
    "        return np.argmax(self.eval(X), axis=1)\n",
    "\n",
    "    def eval_perf(self, Y, Y_):\n",
    "        # needed to compute scores of our model\n",
    "        # 'weighted' takes into consideration labels imbalance\n",
    "        if max(int(max(Y_) + 1), int(max(Y) + 1)) == 2:\n",
    "            average = 'binary'\n",
    "        else:\n",
    "            average = 'weighted'\n",
    "\n",
    "        accuracy = accuracy_score(Y_, Y)\n",
    "        precision = precision_score(Y_, Y, average=average)\n",
    "        recall = recall_score(Y_, Y, average=average)\n",
    "        f1 = f1_score(Y_, Y, average=average)\n",
    "\n",
    "        print(\"Accuracy: {0:.3f}\\n\"\n",
    "              \"Precision: {1:.3f}\\n\"\n",
    "              \"Recall: {2:.3f}\\n\"\n",
    "              \"F1: {3:.3f} \".format(accuracy, precision, recall, f1))"
   ]
  },
  {
   "cell_type": "code",
   "execution_count": 4,
   "metadata": {
    "scrolled": false
   },
   "outputs": [],
   "source": [
    "np.random.seed(SEED)\n",
    "tf.set_random_seed(SEED)"
   ]
  },
  {
   "cell_type": "code",
   "execution_count": 5,
   "metadata": {
    "scrolled": false
   },
   "outputs": [],
   "source": [
    "X, Y_ = data.sample_gmm_2d(DISTRIBUTIONS, CLASSES, NUM_EXAMPLES)"
   ]
  },
  {
   "cell_type": "markdown",
   "metadata": {},
   "source": [
    "- We are working with one hotted vectors of labels\n",
    "- for example:\n",
    "\n",
    "    Y :\n",
    "        [2, 0, 1]\n",
    "    \n",
    "    Yoh_ :\n",
    "        [0, 0, 1]\n",
    "        [1, 0, 0] \n",
    "        [0, 1, 0]"
   ]
  },
  {
   "cell_type": "code",
   "execution_count": 6,
   "metadata": {
    "scrolled": false
   },
   "outputs": [],
   "source": [
    "Yoh_ = Y_.reshape(-1)\n",
    "Yoh_ = np.eye(CLASSES)[Yoh_]"
   ]
  },
  {
   "cell_type": "code",
   "execution_count": 7,
   "metadata": {
    "scrolled": false
   },
   "outputs": [],
   "source": [
    "tflr = TFLogreg(X.shape[1], Yoh_.shape[1], param_delta=0.01, param_lambda=0.01)"
   ]
  },
  {
   "cell_type": "code",
   "execution_count": 8,
   "metadata": {
    "scrolled": false
   },
   "outputs": [
    {
     "name": "stdout",
     "output_type": "stream",
     "text": [
      "WARNING:tensorflow:From /home/dreyus95/Python/tf_environments/tf3/lib/python3.5/site-packages/tensorflow/python/util/tf_should_use.py:175: initialize_all_variables (from tensorflow.python.ops.variables) is deprecated and will be removed after 2017-03-02.\n",
      "Instructions for updating:\n",
      "Use `tf.global_variables_initializer` instead.\n",
      "   0. Loss: 6.67537117\n",
      "1000. Loss: 0.97955799\n",
      "2000. Loss: 0.96849620\n",
      "3000. Loss: 0.96399093\n",
      "4000. Loss: 0.96195590\n",
      "5000. Loss: 0.96092516\n",
      "6000. Loss: 0.96034324\n",
      "7000. Loss: 0.95998269\n",
      "8000. Loss: 0.95974201\n",
      "9000. Loss: 0.95957202\n",
      "10000. Loss: 0.95944661\n"
     ]
    }
   ],
   "source": [
    "tflr.train(X, Yoh_, 10000)"
   ]
  },
  {
   "cell_type": "markdown",
   "metadata": {},
   "source": [
    "- We can see the insecurity model has due to having a linearly unseparable dataset by looking at probabilities"
   ]
  },
  {
   "cell_type": "code",
   "execution_count": 9,
   "metadata": {
    "scrolled": true
   },
   "outputs": [
    {
     "data": {
      "text/plain": [
       "array([[ 0.13404585,  0.46274838,  0.40320575],\n",
       "       [ 0.26337862,  0.34270665,  0.39391482],\n",
       "       [ 0.25084856,  0.3592298 ,  0.38992161],\n",
       "       [ 0.2032222 ,  0.39850006,  0.3982777 ],\n",
       "       [ 0.29072362,  0.32699311,  0.38228327],\n",
       "       [ 0.20343444,  0.38597727,  0.41058835],\n",
       "       [ 0.36221349,  0.28273496,  0.35505149],\n",
       "       [ 0.17251594,  0.41673824,  0.41074586],\n",
       "       [ 0.12419385,  0.45765364,  0.41815248],\n",
       "       [ 0.39242673,  0.25723723,  0.3503361 ],\n",
       "       [ 0.30107856,  0.31707916,  0.38184226],\n",
       "       [ 0.23978473,  0.36106503,  0.39915022],\n",
       "       [ 0.11689639,  0.46529934,  0.41780436],\n",
       "       [ 0.38131863,  0.26929998,  0.34938136],\n",
       "       [ 0.49765512,  0.20581806,  0.29652691],\n",
       "       [ 0.38655302,  0.26304275,  0.35040423],\n",
       "       [ 0.34698051,  0.28647092,  0.36654854],\n",
       "       [ 0.25062397,  0.35761616,  0.3917599 ],\n",
       "       [ 0.38697365,  0.26887512,  0.3441512 ],\n",
       "       [ 0.24367078,  0.35698044,  0.39934883],\n",
       "       [ 0.35955578,  0.28158417,  0.35886002],\n",
       "       [ 0.22767091,  0.37301245,  0.39931667],\n",
       "       [ 0.43562981,  0.23282415,  0.33154607],\n",
       "       [ 0.20371252,  0.39534509,  0.40094239],\n",
       "       [ 0.1380944 ,  0.44460613,  0.41729951],\n",
       "       [ 0.50112104,  0.2009306 ,  0.2979483 ],\n",
       "       [ 0.27557668,  0.33462507,  0.38979825],\n",
       "       [ 0.08870301,  0.50444174,  0.40685523],\n",
       "       [ 0.16016027,  0.42403242,  0.41580731],\n",
       "       [ 0.17695612,  0.40986016,  0.41318372],\n",
       "       [ 0.19573465,  0.40177855,  0.40248683],\n",
       "       [ 0.47629163,  0.21592668,  0.30778176],\n",
       "       [ 0.1836511 ,  0.41095006,  0.40539882],\n",
       "       [ 0.24132353,  0.36259899,  0.39607742],\n",
       "       [ 0.29360911,  0.32008824,  0.38630271],\n",
       "       [ 0.48206651,  0.21123141,  0.30670208],\n",
       "       [ 0.09812118,  0.49350432,  0.40837449],\n",
       "       [ 0.10413133,  0.48816636,  0.40770233],\n",
       "       [ 0.26089805,  0.34796527,  0.39113671],\n",
       "       [ 0.22463053,  0.36464718,  0.41072232],\n",
       "       [ 0.44292331,  0.22843806,  0.32863858],\n",
       "       [ 0.64720517,  0.12758608,  0.22520874],\n",
       "       [ 0.2710675 ,  0.33878735,  0.39014515],\n",
       "       [ 0.23872606,  0.36454406,  0.39672989],\n",
       "       [ 0.20625405,  0.38672149,  0.40702444],\n",
       "       [ 0.41754168,  0.24680057,  0.33565775],\n",
       "       [ 0.27576596,  0.33249792,  0.39173606],\n",
       "       [ 0.26738575,  0.33808884,  0.39452538],\n",
       "       [ 0.12615395,  0.46696076,  0.4068853 ],\n",
       "       [ 0.50460982,  0.19771731,  0.29767299],\n",
       "       [ 0.20152244,  0.4194718 ,  0.37900573],\n",
       "       [ 0.1926239 ,  0.42259282,  0.38478324],\n",
       "       [ 0.10596269,  0.50393718,  0.39010009],\n",
       "       [ 0.0534016 ,  0.57536989,  0.37122846],\n",
       "       [ 0.05469866,  0.57440728,  0.37089404],\n",
       "       [ 0.20240827,  0.41443807,  0.38315368],\n",
       "       [ 0.04312757,  0.59482032,  0.36205205],\n",
       "       [ 0.174961  ,  0.43884659,  0.38619235],\n",
       "       [ 0.20133848,  0.4170416 ,  0.38161993],\n",
       "       [ 0.05978233,  0.56592089,  0.37429672],\n",
       "       [ 0.19363232,  0.42237091,  0.38399681],\n",
       "       [ 0.05916642,  0.56558377,  0.3752498 ],\n",
       "       [ 0.02743635,  0.62703991,  0.34552369],\n",
       "       [ 0.12736732,  0.48450392,  0.38812882],\n",
       "       [ 0.0826164 ,  0.53310317,  0.38428038],\n",
       "       [ 0.0239115 ,  0.63677543,  0.33931309],\n",
       "       [ 0.07035571,  0.55027455,  0.37936974],\n",
       "       [ 0.11046087,  0.49942032,  0.39011887],\n",
       "       [ 0.03443132,  0.60996401,  0.35560471],\n",
       "       [ 0.04917224,  0.58218431,  0.3686434 ],\n",
       "       [ 0.09263378,  0.52051842,  0.38684779],\n",
       "       [ 0.06077237,  0.56139308,  0.37783462],\n",
       "       [ 0.03004551,  0.61896008,  0.35099444],\n",
       "       [ 0.08453934,  0.53258783,  0.38287282],\n",
       "       [ 0.25533846,  0.37505612,  0.36960542],\n",
       "       [ 0.07872015,  0.53613836,  0.38514152],\n",
       "       [ 0.08151609,  0.53400797,  0.38447601],\n",
       "       [ 0.09657092,  0.51958364,  0.38384542],\n",
       "       [ 0.06830093,  0.55273288,  0.37896615],\n",
       "       [ 0.11655511,  0.49260449,  0.39084038],\n",
       "       [ 0.12165436,  0.488933  ,  0.38941261],\n",
       "       [ 0.07308362,  0.54450911,  0.38240731],\n",
       "       [ 0.04520189,  0.58923578,  0.36556238],\n",
       "       [ 0.1349861 ,  0.47499412,  0.39001974],\n",
       "       [ 0.0601275 ,  0.56540233,  0.3744702 ],\n",
       "       [ 0.03255244,  0.6159566 ,  0.35149103],\n",
       "       [ 0.04592559,  0.59131902,  0.36275539],\n",
       "       [ 0.11700009,  0.49503192,  0.38796794],\n",
       "       [ 0.10007749,  0.51411843,  0.38580412],\n",
       "       [ 0.12535195,  0.48771057,  0.38693744],\n",
       "       [ 0.06575015,  0.55506366,  0.37918615],\n",
       "       [ 0.06591978,  0.5555141 ,  0.37856615],\n",
       "       [ 0.08561069,  0.5317772 ,  0.38261211],\n",
       "       [ 0.04198562,  0.59302962,  0.36498472],\n",
       "       [ 0.0782853 ,  0.538692  ,  0.3830227 ],\n",
       "       [ 0.06836529,  0.5521127 ,  0.379522  ],\n",
       "       [ 0.07107074,  0.54677069,  0.38215858],\n",
       "       [ 0.07350928,  0.54432434,  0.38216639],\n",
       "       [ 0.07239107,  0.54683423,  0.38077468],\n",
       "       [ 0.04423769,  0.59379476,  0.36196756],\n",
       "       [ 0.58151788,  0.15970001,  0.25878215],\n",
       "       [ 0.5151723 ,  0.19213903,  0.29268876],\n",
       "       [ 0.50809848,  0.19443516,  0.29746637],\n",
       "       [ 0.53316629,  0.18207194,  0.28476173],\n",
       "       [ 0.48422799,  0.20804925,  0.30772275],\n",
       "       [ 0.54238832,  0.17707705,  0.28053465],\n",
       "       [ 0.52073288,  0.18797968,  0.29128742],\n",
       "       [ 0.50977153,  0.19425727,  0.29597124],\n",
       "       [ 0.50595695,  0.19772267,  0.29632044],\n",
       "       [ 0.5681982 ,  0.16359097,  0.26821083],\n",
       "       [ 0.54017031,  0.17946291,  0.28036678],\n",
       "       [ 0.53099793,  0.18308771,  0.28591433],\n",
       "       [ 0.50858521,  0.19648473,  0.2949301 ],\n",
       "       [ 0.48608962,  0.20672283,  0.30718747],\n",
       "       [ 0.48163256,  0.21027061,  0.3080968 ],\n",
       "       [ 0.53499496,  0.18158036,  0.28342462],\n",
       "       [ 0.48890474,  0.20657474,  0.30452046],\n",
       "       [ 0.53204662,  0.18346882,  0.2844846 ],\n",
       "       [ 0.45308965,  0.22590265,  0.3210077 ],\n",
       "       [ 0.55141908,  0.17460261,  0.27397829],\n",
       "       [ 0.48502359,  0.20675449,  0.30822191],\n",
       "       [ 0.48382801,  0.20878151,  0.30739054],\n",
       "       [ 0.55816704,  0.16953735,  0.27229565],\n",
       "       [ 0.52157539,  0.18803108,  0.29039344],\n",
       "       [ 0.54360735,  0.17731562,  0.27907705],\n",
       "       [ 0.53977793,  0.17992276,  0.28029931],\n",
       "       [ 0.50478572,  0.19709703,  0.29811731],\n",
       "       [ 0.5102405 ,  0.19552043,  0.2942391 ],\n",
       "       [ 0.57964647,  0.15860784,  0.26174575],\n",
       "       [ 0.53313333,  0.1825899 ,  0.28427675],\n",
       "       [ 0.54538137,  0.17793518,  0.27668345],\n",
       "       [ 0.48242137,  0.21070403,  0.3068746 ],\n",
       "       [ 0.5228861 ,  0.1869687 ,  0.29014525],\n",
       "       [ 0.53095251,  0.18377802,  0.28526941],\n",
       "       [ 0.51471716,  0.19134143,  0.29394144],\n",
       "       [ 0.46844843,  0.2168854 ,  0.31466615],\n",
       "       [ 0.48591167,  0.2069018 ,  0.30718645],\n",
       "       [ 0.5040096 ,  0.19716625,  0.29882419],\n",
       "       [ 0.50428247,  0.196942  ,  0.29877555],\n",
       "       [ 0.56627309,  0.16499187,  0.26873505],\n",
       "       [ 0.53214675,  0.18266393,  0.28518927],\n",
       "       [ 0.49008685,  0.20879965,  0.30111355],\n",
       "       [ 0.49583223,  0.20341584,  0.30075186],\n",
       "       [ 0.47191939,  0.21563654,  0.312444  ],\n",
       "       [ 0.49367416,  0.20268713,  0.30363864],\n",
       "       [ 0.50755215,  0.196089  ,  0.29635879],\n",
       "       [ 0.52892023,  0.18557572,  0.28550401],\n",
       "       [ 0.47630763,  0.21315981,  0.31053257],\n",
       "       [ 0.53788143,  0.18095782,  0.28116077],\n",
       "       [ 0.53599906,  0.18150339,  0.28249756],\n",
       "       [ 0.58481312,  0.1711835 ,  0.24400339],\n",
       "       [ 0.83443457,  0.05615711,  0.10940836],\n",
       "       [ 0.54174638,  0.19316415,  0.26508945],\n",
       "       [ 0.81903172,  0.06247266,  0.11849555],\n",
       "       [ 0.65843207,  0.13437141,  0.20719655],\n",
       "       [ 0.76241314,  0.08624475,  0.15134199],\n",
       "       [ 0.80054837,  0.07026045,  0.1291911 ],\n",
       "       [ 0.83899313,  0.0536975 ,  0.10730939],\n",
       "       [ 0.67879921,  0.12613501,  0.1950658 ],\n",
       "       [ 0.32878387,  0.31611991,  0.35509625],\n",
       "       [ 0.63200533,  0.14777383,  0.22022091],\n",
       "       [ 0.57151222,  0.17909454,  0.24939336],\n",
       "       [ 0.72854847,  0.10150352,  0.16994801],\n",
       "       [ 0.70019948,  0.11496472,  0.18483581],\n",
       "       [ 0.87913281,  0.0383735 ,  0.08249368],\n",
       "       [ 0.82159191,  0.06132014,  0.117088  ],\n",
       "       [ 0.66143221,  0.13276264,  0.20580515],\n",
       "       [ 0.58936018,  0.16856632,  0.24207354],\n",
       "       [ 0.49878371,  0.21647589,  0.28474048],\n",
       "       [ 0.6627413 ,  0.13193375,  0.20532498],\n",
       "       [ 0.70282263,  0.11405525,  0.18312214],\n",
       "       [ 0.71795994,  0.10637097,  0.17566906],\n",
       "       [ 0.59637636,  0.16612063,  0.23750302],\n",
       "       [ 0.74787444,  0.09322999,  0.1588956 ],\n",
       "       [ 0.88864321,  0.03497264,  0.0763842 ],\n",
       "       [ 0.82938349,  0.05844633,  0.11217017],\n",
       "       [ 0.87708938,  0.03928798,  0.08362266],\n",
       "       [ 0.8255437 ,  0.05976868,  0.11468761],\n",
       "       [ 0.76229364,  0.08789879,  0.14980754],\n",
       "       [ 0.68887639,  0.11928454,  0.1918391 ],\n",
       "       [ 0.6266709 ,  0.14917411,  0.22415496],\n",
       "       [ 0.84893453,  0.05035352,  0.10071196],\n",
       "       [ 0.8801384 ,  0.03816036,  0.08170123],\n",
       "       [ 0.72141933,  0.10555794,  0.17302263],\n",
       "       [ 0.75170082,  0.09162628,  0.15667291],\n",
       "       [ 0.72075844,  0.1051402 ,  0.17410138],\n",
       "       [ 0.74134165,  0.09580276,  0.16285563],\n",
       "       [ 0.690588  ,  0.11928189,  0.19013019],\n",
       "       [ 0.88349646,  0.03702542,  0.07947814],\n",
       "       [ 0.73153758,  0.09964231,  0.16882013],\n",
       "       [ 0.72699183,  0.10187437,  0.17113388],\n",
       "       [ 0.69970626,  0.114794  ,  0.18549979],\n",
       "       [ 0.81330174,  0.06484251,  0.1218557 ],\n",
       "       [ 0.79482043,  0.07269826,  0.13248134],\n",
       "       [ 0.89811778,  0.03143393,  0.07044833],\n",
       "       [ 0.76763743,  0.08404999,  0.14831254],\n",
       "       [ 0.49907634,  0.21635835,  0.28456524],\n",
       "       [ 0.65543729,  0.13664661,  0.20791614],\n",
       "       [ 0.4954856 ,  0.21764158,  0.2868728 ],\n",
       "       [ 0.55261827,  0.18698385,  0.26039794],\n",
       "       [ 0.45462736,  0.24999088,  0.29538175],\n",
       "       [ 0.36074641,  0.30731636,  0.33193725],\n",
       "       [ 0.21474108,  0.42277217,  0.36248672],\n",
       "       [ 0.27557001,  0.36683643,  0.35759354],\n",
       "       [ 0.31780937,  0.33634728,  0.34584334],\n",
       "       [ 0.14816965,  0.47099718,  0.38083315],\n",
       "       [ 0.3262229 ,  0.33292979,  0.34084731],\n",
       "       [ 0.17293318,  0.44778496,  0.37928191],\n",
       "       [ 0.18382053,  0.44448513,  0.37169436],\n",
       "       [ 0.35061538,  0.31016394,  0.33922067],\n",
       "       [ 0.33673453,  0.32211256,  0.34115294],\n",
       "       [ 0.1652451 ,  0.45820764,  0.37654725],\n",
       "       [ 0.39499596,  0.28112543,  0.32387865],\n",
       "       [ 0.25741211,  0.37441695,  0.36817095],\n",
       "       [ 0.16527481,  0.46191564,  0.37280959],\n",
       "       [ 0.22582117,  0.40946081,  0.36471802],\n",
       "       [ 0.25418866,  0.38313335,  0.36267808],\n",
       "       [ 0.41824919,  0.26781315,  0.31393769],\n",
       "       [ 0.30087382,  0.35048547,  0.34864062],\n",
       "       [ 0.21269761,  0.42301118,  0.36429119],\n",
       "       [ 0.38408858,  0.29077274,  0.32513869],\n",
       "       [ 0.24230957,  0.39402232,  0.3636682 ],\n",
       "       [ 0.15907677,  0.46682706,  0.37409618],\n",
       "       [ 0.15641564,  0.46946689,  0.37411749],\n",
       "       [ 0.28907505,  0.35264722,  0.35827774],\n",
       "       [ 0.22943825,  0.40933093,  0.36123082],\n",
       "       [ 0.194051  ,  0.43396869,  0.37198028],\n",
       "       [ 0.1908776 ,  0.4351362 ,  0.37398621],\n",
       "       [ 0.13898091,  0.48110089,  0.37991816],\n",
       "       [ 0.27544889,  0.3624391 ,  0.36211208],\n",
       "       [ 0.2946097 ,  0.34953278,  0.35585746],\n",
       "       [ 0.30687219,  0.34645444,  0.3466734 ],\n",
       "       [ 0.28699771,  0.36031738,  0.35268494],\n",
       "       [ 0.32738429,  0.33278996,  0.33982575],\n",
       "       [ 0.15384685,  0.4676556 ,  0.37849751],\n",
       "       [ 0.20129035,  0.4317688 ,  0.36694086],\n",
       "       [ 0.18785618,  0.44170529,  0.37043858],\n",
       "       [ 0.4517177 ,  0.25039765,  0.29788467],\n",
       "       [ 0.31264597,  0.34116164,  0.3461923 ],\n",
       "       [ 0.57143354,  0.18088777,  0.24767868],\n",
       "       [ 0.2408835 ,  0.40273702,  0.35637948],\n",
       "       [ 0.1609918 ,  0.46542561,  0.37358263],\n",
       "       [ 0.11877847,  0.50511998,  0.37610155],\n",
       "       [ 0.06897613,  0.58874875,  0.34227508],\n",
       "       [ 0.18179248,  0.44277015,  0.37543744],\n",
       "       [ 0.27945831,  0.36717391,  0.35336772],\n",
       "       [ 0.25718108,  0.38447469,  0.35834423],\n",
       "       [ 0.17075805,  0.45460165,  0.37464026],\n",
       "       [ 0.26059884,  0.37898463,  0.36041653],\n",
       "       [ 0.2713038 ,  0.37336323,  0.35533291],\n",
       "       [ 0.21600948,  0.35802189,  0.42596865],\n",
       "       [ 0.07377457,  0.51942015,  0.40680528],\n",
       "       [ 0.15235889,  0.4148964 ,  0.43274465],\n",
       "       [ 0.08216918,  0.49860385,  0.41922697],\n",
       "       [ 0.07744382,  0.4989382 ,  0.42361799],\n",
       "       [ 0.08283456,  0.50629246,  0.41087303],\n",
       "       [ 0.08090807,  0.50686359,  0.41222838],\n",
       "       [ 0.16491868,  0.41651344,  0.41856781],\n",
       "       [ 0.19117902,  0.38402495,  0.42479604],\n",
       "       [ 0.16709097,  0.39060771,  0.44230136],\n",
       "       [ 0.10720701,  0.47175533,  0.42103761],\n",
       "       [ 0.14794879,  0.42283604,  0.42921516],\n",
       "       [ 0.15495531,  0.41685057,  0.42819417],\n",
       "       [ 0.11928214,  0.46095771,  0.41976011],\n",
       "       [ 0.14365005,  0.43156949,  0.42478049],\n",
       "       [ 0.11259837,  0.46646199,  0.42093965],\n",
       "       [ 0.10233303,  0.4642472 ,  0.43341976],\n",
       "       [ 0.13214073,  0.43947265,  0.42838663],\n",
       "       [ 0.2173564 ,  0.35988334,  0.42276022],\n",
       "       [ 0.10714988,  0.46486264,  0.42798743],\n",
       "       [ 0.1131047 ,  0.46779186,  0.41910347],\n",
       "       [ 0.07840345,  0.50781667,  0.41377991],\n",
       "       [ 0.09893522,  0.47857323,  0.42249149],\n",
       "       [ 0.25201017,  0.32566518,  0.4223246 ],\n",
       "       [ 0.18726963,  0.3934412 ,  0.41928914],\n",
       "       [ 0.14350058,  0.43478328,  0.42171612],\n",
       "       [ 0.16418031,  0.41019231,  0.42562741],\n",
       "       [ 0.20107262,  0.37573102,  0.42319635],\n",
       "       [ 0.21224645,  0.36686355,  0.42089   ],\n",
       "       [ 0.12064233,  0.45092982,  0.42842776],\n",
       "       [ 0.18965277,  0.3851206 ,  0.42522663],\n",
       "       [ 0.17193034,  0.39944223,  0.4286274 ],\n",
       "       [ 0.15282905,  0.41844514,  0.42872587],\n",
       "       [ 0.11815411,  0.45432407,  0.42752182],\n",
       "       [ 0.14278524,  0.42214867,  0.43506607],\n",
       "       [ 0.11652856,  0.46023926,  0.4232322 ],\n",
       "       [ 0.07781155,  0.51540494,  0.40678352],\n",
       "       [ 0.24425782,  0.34032327,  0.41541886],\n",
       "       [ 0.19284934,  0.38156796,  0.42558262],\n",
       "       [ 0.16291781,  0.41089123,  0.42619088],\n",
       "       [ 0.11871727,  0.45177281,  0.42950988],\n",
       "       [ 0.14720848,  0.41910687,  0.43368465],\n",
       "       [ 0.20451668,  0.37695247,  0.41853085],\n",
       "       [ 0.12801279,  0.44646597,  0.42552128],\n",
       "       [ 0.07805285,  0.50921202,  0.4127351 ],\n",
       "       [ 0.14487237,  0.42309058,  0.43203706],\n",
       "       [ 0.19923994,  0.38023147,  0.42052865],\n",
       "       [ 0.1237352 ,  0.44445738,  0.43180734],\n",
       "       [ 0.12824214,  0.44194302,  0.42981482],\n",
       "       [ 0.18615212,  0.38699126,  0.42685664]], dtype=float32)"
      ]
     },
     "execution_count": 9,
     "metadata": {},
     "output_type": "execute_result"
    }
   ],
   "source": [
    "probs = tflr.eval(X)\n",
    "probs"
   ]
  },
  {
   "cell_type": "code",
   "execution_count": 10,
   "metadata": {
    "scrolled": false
   },
   "outputs": [
    {
     "name": "stdout",
     "output_type": "stream",
     "text": [
      "Accuracy: 0.410\n",
      "Precision: 0.337\n",
      "Recall: 0.410\n",
      "F1: 0.370 \n"
     ]
    }
   ],
   "source": [
    "tflr.eval_perf(np.argmax(probs, axis=1), np.argmax(Yoh_, axis=1))"
   ]
  },
  {
   "cell_type": "code",
   "execution_count": 11,
   "metadata": {
    "scrolled": false
   },
   "outputs": [
    {
     "data": {
      "image/png": "[encoded data removed]",
      "text/plain": [
       "<matplotlib.figure.Figure at 0x7f9b7d0c9c18>"
      ]
     },
     "metadata": {},
     "output_type": "display_data"
    }
   ],
   "source": [
    "colors = ['red', 'green', 'blue']\n",
    "plt.scatter(X[:, 0], X[:, 1], c=Y_.flatten(), cmap=ListedColormap(colors))\n",
    "plt.show()"
   ]
  },
  {
   "cell_type": "code",
   "execution_count": 12,
   "metadata": {
    "scrolled": false
   },
   "outputs": [
    {
     "data": {
      "image/png": "[encoded data removed]",
      "text/plain": [
       "<matplotlib.figure.Figure at 0x7f9b785c89e8>"
      ]
     },
     "metadata": {},
     "output_type": "display_data"
    }
   ],
   "source": [
    "data.plot_decision_boundary(X, lambda x: tflr.classify(x))\n",
    "# graph the data points\n",
    "data.graph_data(X, Y_, np.argmax(probs, axis=1))"
   ]
  },
  {
   "cell_type": "code",
   "execution_count": 13,
   "metadata": {
    "scrolled": false
   },
   "outputs": [],
   "source": [
    "SEED = 125\n",
    "np.random.seed(SEED)\n",
    "tf.set_random_seed(SEED)"
   ]
  },
  {
   "cell_type": "code",
   "execution_count": 14,
   "metadata": {
    "scrolled": false
   },
   "outputs": [],
   "source": [
    "X2, Y_2 = data.sample_gmm_2d(DISTRIBUTIONS, CLASSES, NUM_EXAMPLES)"
   ]
  },
  {
   "cell_type": "code",
   "execution_count": 15,
   "metadata": {
    "scrolled": false
   },
   "outputs": [],
   "source": [
    "Yoh_2 = Y_2.reshape(-1)\n",
    "Yoh_2 = np.eye(CLASSES)[Yoh_2]"
   ]
  },
  {
   "cell_type": "code",
   "execution_count": 16,
   "metadata": {
    "scrolled": false
   },
   "outputs": [],
   "source": [
    "tflr2 = TFLogreg(X2.shape[1], Yoh_2.shape[1], param_delta=0.01, param_lambda=0.01)"
   ]
  },
  {
   "cell_type": "code",
   "execution_count": 17,
   "metadata": {
    "scrolled": true
   },
   "outputs": [
    {
     "name": "stdout",
     "output_type": "stream",
     "text": [
      "WARNING:tensorflow:From /home/dreyus95/Python/tf_environments/tf3/lib/python3.5/site-packages/tensorflow/python/util/tf_should_use.py:175: initialize_all_variables (from tensorflow.python.ops.variables) is deprecated and will be removed after 2017-03-02.\n",
      "Instructions for updating:\n",
      "Use `tf.global_variables_initializer` instead.\n",
      "   0. Loss: 5.59248781\n",
      "1000. Loss: 0.63682121\n",
      "2000. Loss: 0.55702364\n",
      "3000. Loss: 0.50587779\n",
      "4000. Loss: 0.47076976\n",
      "5000. Loss: 0.44496199\n",
      "6000. Loss: 0.42492771\n",
      "7000. Loss: 0.40873480\n",
      "8000. Loss: 0.39525494\n",
      "9000. Loss: 0.38378635\n",
      "10000. Loss: 0.37386680\n",
      "11000. Loss: 0.36517680\n",
      "12000. Loss: 0.35748628\n",
      "13000. Loss: 0.35062364\n",
      "14000. Loss: 0.34445739\n",
      "15000. Loss: 0.33888426\n",
      "16000. Loss: 0.33382195\n",
      "17000. Loss: 0.32920307\n",
      "18000. Loss: 0.32497236\n",
      "19000. Loss: 0.32108352\n",
      "20000. Loss: 0.31749773\n",
      "21000. Loss: 0.31418180\n",
      "22000. Loss: 0.31110740\n",
      "23000. Loss: 0.30825001\n",
      "24000. Loss: 0.30558851\n",
      "25000. Loss: 0.30310416\n",
      "26000. Loss: 0.30078080\n",
      "27000. Loss: 0.29860401\n",
      "28000. Loss: 0.29656115\n",
      "29000. Loss: 0.29464096\n",
      "30000. Loss: 0.29283324\n",
      "31000. Loss: 0.29112905\n",
      "32000. Loss: 0.28952047\n",
      "33000. Loss: 0.28800008\n",
      "34000. Loss: 0.28656125\n",
      "35000. Loss: 0.28519815\n",
      "36000. Loss: 0.28390536\n",
      "37000. Loss: 0.28267804\n",
      "38000. Loss: 0.28151152\n",
      "39000. Loss: 0.28040197\n",
      "40000. Loss: 0.27934569\n",
      "41000. Loss: 0.27833897\n",
      "42000. Loss: 0.27737886\n",
      "43000. Loss: 0.27646261\n",
      "44000. Loss: 0.27558723\n",
      "45000. Loss: 0.27475059\n",
      "46000. Loss: 0.27395019\n",
      "47000. Loss: 0.27318403\n",
      "48000. Loss: 0.27245015\n",
      "49000. Loss: 0.27174670\n",
      "50000. Loss: 0.27107209\n"
     ]
    }
   ],
   "source": [
    "tflr2.train(X2, Yoh_2, 50000)"
   ]
  },
  {
   "cell_type": "code",
   "execution_count": 18,
   "metadata": {
    "scrolled": false
   },
   "outputs": [],
   "source": [
    "probs2 = tflr2.eval(X2)"
   ]
  },
  {
   "cell_type": "code",
   "execution_count": 19,
   "metadata": {
    "scrolled": false
   },
   "outputs": [
    {
     "data": {
      "image/png": "[encoded data removed]",
      "text/plain": [
       "<matplotlib.figure.Figure at 0x7f9b70f8ab38>"
      ]
     },
     "metadata": {},
     "output_type": "display_data"
    }
   ],
   "source": [
    "plt.scatter(X2[:, 0], X2[:, 1], c=Y_2.flatten(), cmap=ListedColormap(colors))\n",
    "plt.show()"
   ]
  },
  {
   "cell_type": "code",
   "execution_count": 20,
   "metadata": {
    "scrolled": false
   },
   "outputs": [
    {
     "data": {
      "image/png": "[encoded data removed]",
      "text/plain": [
       "<matplotlib.figure.Figure at 0x7f9b785b6dd8>"
      ]
     },
     "metadata": {},
     "output_type": "display_data"
    }
   ],
   "source": [
    "data.plot_decision_boundary(X2, lambda x: tflr2.classify(x))\n",
    "# graph the data points\n",
    "data.graph_data(X2, Y_2, np.argmax(probs2, axis=1))"
   ]
  },
  {
   "cell_type": "code",
   "execution_count": 21,
   "metadata": {
    "scrolled": false
   },
   "outputs": [
    {
     "name": "stdout",
     "output_type": "stream",
     "text": [
      "Accuracy: 0.903\n",
      "Precision: 0.901\n",
      "Recall: 0.903\n",
      "F1: 0.902 \n"
     ]
    }
   ],
   "source": [
    "tflr2.eval_perf(np.argmax(probs2, axis=1), np.argmax(Yoh_2, axis=1))"
   ]
  }
 ],
 "metadata": {
  "kernelspec": {
   "display_name": "Python 3",
   "language": "python",
   "name": "python3"
  },
  "language_info": {
   "codemirror_mode": {
    "name": "ipython",
    "version": 3
   },
   "file_extension": ".py",
   "mimetype": "text/x-python",
   "name": "python",
   "nbconvert_exporter": "python",
   "pygments_lexer": "ipython3",
   "version": "3.5.2"
  }
 },
 "nbformat": 4,
 "nbformat_minor": 2
}
