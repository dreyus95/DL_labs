{
 "cells": [
  {
   "cell_type": "code",
   "execution_count": 32,
   "metadata": {
    "scrolled": false
   },
   "outputs": [],
   "source": [
    "import tensorflow as tf\n",
    "import numpy as np\n",
    "from matplotlib.colors import ListedColormap\n",
    "import matplotlib.pyplot as plt\n",
    "from sklearn.metrics import f1_score, precision_score, recall_score, accuracy_score\n",
    "\n",
    "import data"
   ]
  },
  {
   "cell_type": "markdown",
   "metadata": {},
   "source": [
    "- The idea was to find two seeds:\n",
    "one that can produce such random gaussian 2D dataset which Logistic Regression <b>cannot separate linearly</b> into classes, and another seed that <b>can produce linearly separable</b> dataset"
   ]
  },
  {
   "cell_type": "code",
   "execution_count": 33,
   "metadata": {
    "scrolled": false
   },
   "outputs": [],
   "source": [
    "SEED = 100\n",
    "NUM_EXAMPLES = 50\n",
    "CLASSES = 3\n",
    "DISTRIBUTIONS = 6"
   ]
  },
  {
   "cell_type": "code",
   "execution_count": 34,
   "metadata": {
    "scrolled": false
   },
   "outputs": [],
   "source": [
    "class TFLogreg:\n",
    "    \n",
    "    \"\"\"\n",
    "        Class that represents a tensorflow implementation of Logistic Regression model.\n",
    "    \"\"\"\n",
    "\n",
    "    def __init__(self, D, C, param_delta=0.1, param_lambda=0.01):\n",
    "        \"\"\"Arguments:\n",
    "           - D: dimensions of each datapoint\n",
    "           - C: number of classes\n",
    "           - param_delta: training step\n",
    "           - param_lambda= regularization strength\n",
    "        \"\"\"\n",
    "        self.X = tf.placeholder(dtype=tf.float32, shape=[None, D])\n",
    "        self.Yoh_ = tf.placeholder(dtype=tf.float32, shape=[None, C])\n",
    "        self.W = tf.Variable(initial_value=tf.random_normal([D, C]))\n",
    "        self.b = tf.Variable(initial_value=tf.random_normal([1, C]))\n",
    "\n",
    "        self.probs = tf.nn.softmax(tf.matmul(self.X, self.W) + self.b)\n",
    "\n",
    "        self.cross_entropy = tf.reduce_mean(-tf.reduce_sum(self.Yoh_ * tf.log(self.probs), reduction_indices=[1]))\n",
    "        self.regularization = param_lambda * tf.nn.l2_loss(self.W)\n",
    "        self.loss = self.cross_entropy + self.regularization\n",
    "\n",
    "        self.train_step = tf.train.GradientDescentOptimizer(param_delta).minimize(self.loss)\n",
    "        \n",
    "        self.session = tf.InteractiveSession()\n",
    "\n",
    "    def train(self, X, Yoh_, param_niter):\n",
    "        \"\"\"Arguments:\n",
    "           - X: actual datapoints [NxD]\n",
    "           - Yoh_: one-hot encoded labels [NxC]\n",
    "           - param_niter: number of iterations\n",
    "        \"\"\"\n",
    "        self.session.run(tf.initialize_all_variables())\n",
    "\n",
    "        for i in range(param_niter+1):\n",
    "            tr, loss = self.session.run([self.train_step, self.loss], feed_dict={self.X: X, self.Yoh_: Yoh_})\n",
    "            if i % 1000 == 0:\n",
    "                print(\"{0:4}. Loss: {1:.8f}\".format(i, loss))\n",
    "\n",
    "    def eval(self, X):\n",
    "        \"\"\"Arguments:\n",
    "           - X: actual datapoints [NxD]\n",
    "           Returns: predicted class probabilites [NxC]\n",
    "        \"\"\"\n",
    "        probs = self.session.run(self.probs, feed_dict={self.X: X})\n",
    "        return probs\n",
    "\n",
    "    def classify(self, X):\n",
    "        return np.argmax(self.eval(X), axis=1)\n",
    "\n",
    "    def eval_perf(self, Y, Y_):\n",
    "        # needed to compute scores of our model\n",
    "        # 'weighted' takes into consideration labels imbalance\n",
    "        if max(int(max(Y_) + 1), int(max(Y) + 1)) == 2:\n",
    "            average = 'binary'\n",
    "        else:\n",
    "            average = 'weighted'\n",
    "\n",
    "        accuracy = accuracy_score(Y_, Y)\n",
    "        precision = precision_score(Y_, Y, average=average)\n",
    "        recall = recall_score(Y_, Y, average=average)\n",
    "        f1 = f1_score(Y_, Y, average=average)\n",
    "\n",
    "        print(\"Accuracy: {0:.3f}\\n\"\n",
    "              \"Precision: {1:.3f}\\n\"\n",
    "              \"Recall: {2:.3f}\\n\"\n",
    "              \"F1: {3:.3f} \".format(accuracy, precision, recall, f1))"
   ]
  },
  {
   "cell_type": "code",
   "execution_count": 35,
   "metadata": {
    "scrolled": false
   },
   "outputs": [],
   "source": [
    "np.random.seed(SEED)\n",
    "tf.set_random_seed(SEED)"
   ]
  },
  {
   "cell_type": "code",
   "execution_count": 36,
   "metadata": {
    "scrolled": false
   },
   "outputs": [],
   "source": [
    "X, Y_ = data.sample_gmm_2d(DISTRIBUTIONS, CLASSES, NUM_EXAMPLES)"
   ]
  },
  {
   "cell_type": "markdown",
   "metadata": {},
   "source": [
    "- We are working with one hotted vectors of labels\n",
    "- for example:\n",
    "\n",
    "    Y :\n",
    "        [2, 0, 1]\n",
    "    \n",
    "    Yoh_ :\n",
    "        [0, 0, 1]\n",
    "        [1, 0, 0] \n",
    "        [0, 1, 0]"
   ]
  },
  {
   "cell_type": "code",
   "execution_count": 37,
   "metadata": {
    "scrolled": false
   },
   "outputs": [],
   "source": [
    "Yoh_ = Y_.reshape(-1)\n",
    "Yoh_ = np.eye(CLASSES)[Yoh_]"
   ]
  },
  {
   "cell_type": "code",
   "execution_count": 38,
   "metadata": {
    "scrolled": false
   },
   "outputs": [],
   "source": [
    "tflr = TFLogreg(X.shape[1], Yoh_.shape[1], param_delta=0.01, param_lambda=0.01)"
   ]
  },
  {
   "cell_type": "code",
   "execution_count": 39,
   "metadata": {
    "scrolled": false
   },
   "outputs": [
    {
     "name": "stdout",
     "output_type": "stream",
     "text": [
      "WARNING:tensorflow:From /home/dreyus95/Python/tf_environments/tf3/lib/python3.5/site-packages/tensorflow/python/util/tf_should_use.py:175: initialize_all_variables (from tensorflow.python.ops.variables) is deprecated and will be removed after 2017-03-02.\n",
      "Instructions for updating:\n",
      "Use `tf.global_variables_initializer` instead.\n",
      "   0. Loss: 11.25698566\n",
      "1000. Loss: 1.01093400\n",
      "2000. Loss: 0.98401630\n",
      "3000. Loss: 0.97285116\n",
      "4000. Loss: 0.96751016\n",
      "5000. Loss: 0.96466035\n",
      "6000. Loss: 0.96299678\n",
      "7000. Loss: 0.96194851\n",
      "8000. Loss: 0.96124405\n",
      "9000. Loss: 0.96074498\n",
      "10000. Loss: 0.96037692\n",
      "11000. Loss: 0.96009666\n",
      "12000. Loss: 0.95987833\n",
      "13000. Loss: 0.95970577\n",
      "14000. Loss: 0.95956773\n",
      "15000. Loss: 0.95945662\n",
      "16000. Loss: 0.95936650\n",
      "17000. Loss: 0.95929331\n",
      "18000. Loss: 0.95923370\n",
      "19000. Loss: 0.95918500\n",
      "20000. Loss: 0.95914531\n",
      "21000. Loss: 0.95911270\n",
      "22000. Loss: 0.95908606\n",
      "23000. Loss: 0.95906442\n",
      "24000. Loss: 0.95904654\n",
      "25000. Loss: 0.95903206\n",
      "26000. Loss: 0.95902008\n",
      "27000. Loss: 0.95901036\n",
      "28000. Loss: 0.95900238\n",
      "29000. Loss: 0.95899582\n",
      "30000. Loss: 0.95899045\n",
      "31000. Loss: 0.95898604\n",
      "32000. Loss: 0.95898247\n",
      "33000. Loss: 0.95897955\n",
      "34000. Loss: 0.95897704\n",
      "35000. Loss: 0.95897514\n",
      "36000. Loss: 0.95897353\n",
      "37000. Loss: 0.95897222\n",
      "38000. Loss: 0.95897114\n",
      "39000. Loss: 0.95897019\n",
      "40000. Loss: 0.95896953\n",
      "41000. Loss: 0.95896894\n",
      "42000. Loss: 0.95896846\n",
      "43000. Loss: 0.95896804\n",
      "44000. Loss: 0.95896769\n",
      "45000. Loss: 0.95896745\n",
      "46000. Loss: 0.95896727\n",
      "47000. Loss: 0.95896709\n",
      "48000. Loss: 0.95896685\n",
      "49000. Loss: 0.95896679\n",
      "50000. Loss: 0.95896667\n"
     ]
    }
   ],
   "source": [
    "tflr.train(X, Yoh_, 50000)"
   ]
  },
  {
   "cell_type": "markdown",
   "metadata": {},
   "source": [
    "- We can see the insecurity model has due to having a linearly unseparable dataset by looking at probabilities"
   ]
  },
  {
   "cell_type": "code",
   "execution_count": 40,
   "metadata": {
    "scrolled": true
   },
   "outputs": [
    {
     "data": {
      "text/plain": [
       "array([[ 0.13097228,  0.46477461,  0.40425315],\n",
       "       [ 0.2598978 ,  0.34450281,  0.39559934],\n",
       "       [ 0.24776211,  0.36076227,  0.39147568],\n",
       "       [ 0.20003334,  0.40023711,  0.39972958],\n",
       "       [ 0.28768003,  0.32843539,  0.38388461],\n",
       "       [ 0.19961762,  0.38823143,  0.41215092],\n",
       "       [ 0.36012143,  0.28352058,  0.35635802],\n",
       "       [ 0.16893731,  0.41896242,  0.41210029],\n",
       "       [ 0.12069064,  0.46025193,  0.4190574 ],\n",
       "       [ 0.3900423 ,  0.25821024,  0.35174748],\n",
       "       [ 0.29791331,  0.31859228,  0.38349441],\n",
       "       [ 0.23624603,  0.36296383,  0.40079021],\n",
       "       [ 0.11346558,  0.46791965,  0.4186148 ],\n",
       "       [ 0.37931034,  0.27004051,  0.35064915],\n",
       "       [ 0.49760494,  0.20553309,  0.29686201],\n",
       "       [ 0.38431671,  0.26392549,  0.35175779],\n",
       "       [ 0.34420368,  0.28769329,  0.36810303],\n",
       "       [ 0.24742457,  0.35923371,  0.39334178],\n",
       "       [ 0.3853249 ,  0.26939419,  0.34528092],\n",
       "       [ 0.24007866,  0.35890788,  0.4010134 ],\n",
       "       [ 0.3571811 ,  0.28254932,  0.36026964],\n",
       "       [ 0.22424001,  0.37486482,  0.40089521],\n",
       "       [ 0.43386385,  0.23344927,  0.33268693],\n",
       "       [ 0.20038374,  0.39719722,  0.40241909],\n",
       "       [ 0.13450792,  0.44712564,  0.41836652],\n",
       "       [ 0.50074714,  0.20083702,  0.29841593],\n",
       "       [ 0.2722134 ,  0.33631319,  0.39147344],\n",
       "       [ 0.08580097,  0.50691164,  0.40728742],\n",
       "       [ 0.15646093,  0.42645621,  0.41708288],\n",
       "       [ 0.17323816,  0.41217971,  0.41458216],\n",
       "       [ 0.19238213,  0.40368274,  0.40393513],\n",
       "       [ 0.47574478,  0.21589182,  0.30836335],\n",
       "       [ 0.18023771,  0.41296336,  0.40679896],\n",
       "       [ 0.2379529 ,  0.36436674,  0.39768034],\n",
       "       [ 0.29023287,  0.32175452,  0.38801268],\n",
       "       [ 0.48142096,  0.21126243,  0.30731666],\n",
       "       [ 0.09510329,  0.49593732,  0.40895942],\n",
       "       [ 0.10108569,  0.49052939,  0.40838489],\n",
       "       [ 0.25762728,  0.34961492,  0.39275774],\n",
       "       [ 0.2205921 ,  0.36697766,  0.41243023],\n",
       "       [ 0.44122553,  0.22902869,  0.32974574],\n",
       "       [ 0.6487329 ,  0.1267647 ,  0.22450243],\n",
       "       [ 0.26773947,  0.3404589 ,  0.39180166],\n",
       "       [ 0.23534195,  0.36632878,  0.39832923],\n",
       "       [ 0.2025937 ,  0.38883567,  0.40857065],\n",
       "       [ 0.41591129,  0.24733311,  0.33675557],\n",
       "       [ 0.2722683 ,  0.33427978,  0.3934519 ],\n",
       "       [ 0.26381385,  0.33994082,  0.3962453 ],\n",
       "       [ 0.12299605,  0.46915764,  0.40784624],\n",
       "       [ 0.50411731,  0.19769569,  0.29818696],\n",
       "       [ 0.19934271,  0.42034462,  0.38031271],\n",
       "       [ 0.19016467,  0.42372912,  0.38610619],\n",
       "       [ 0.10339378,  0.50568283,  0.39092338],\n",
       "       [ 0.0514687 ,  0.5772903 ,  0.37124094],\n",
       "       [ 0.0527598 ,  0.57628798,  0.37095222],\n",
       "       [ 0.20000836,  0.41550237,  0.38448927],\n",
       "       [ 0.04142161,  0.59673804,  0.36184031],\n",
       "       [ 0.17246507,  0.44006389,  0.38747108],\n",
       "       [ 0.19902171,  0.41803509,  0.38294318],\n",
       "       [ 0.05774998,  0.56779599,  0.37445399],\n",
       "       [ 0.19121037,  0.42347172,  0.38531789],\n",
       "       [ 0.05712292,  0.56750047,  0.37537655],\n",
       "       [ 0.02612248,  0.62907648,  0.34480101],\n",
       "       [ 0.12482755,  0.48600608,  0.38916636],\n",
       "       [ 0.08026684,  0.53491455,  0.38481861],\n",
       "       [ 0.02271274,  0.63882267,  0.33846456],\n",
       "       [ 0.06816595,  0.5521124 ,  0.37972164],\n",
       "       [ 0.10788117,  0.50112629,  0.39099252],\n",
       "       [ 0.03291057,  0.61198604,  0.35510337],\n",
       "       [ 0.04731623,  0.58412999,  0.3685537 ],\n",
       "       [ 0.09018794,  0.52229005,  0.38752204],\n",
       "       [ 0.05867345,  0.56335658,  0.37797007],\n",
       "       [ 0.02863904,  0.62102979,  0.35033119],\n",
       "       [ 0.08221476,  0.53432685,  0.38345832],\n",
       "       [ 0.25352201,  0.37560469,  0.3708733 ],\n",
       "       [ 0.07636934,  0.53803176,  0.3855989 ],\n",
       "       [ 0.07916675,  0.53584075,  0.3849926 ],\n",
       "       [ 0.09419233,  0.52120751,  0.38460013],\n",
       "       [ 0.06613044,  0.55459303,  0.37927657],\n",
       "       [ 0.11394145,  0.4942863 ,  0.39177227],\n",
       "       [ 0.11907786,  0.49052379,  0.39039838],\n",
       "       [ 0.07081913,  0.54639906,  0.3827818 ],\n",
       "       [ 0.04342869,  0.59119624,  0.36537501],\n",
       "       [ 0.13237336,  0.47652024,  0.39110634],\n",
       "       [ 0.05808977,  0.5672757 ,  0.37463453],\n",
       "       [ 0.0311003 ,  0.6179353 ,  0.3509644 ],\n",
       "       [ 0.04418113,  0.59317714,  0.36264172],\n",
       "       [ 0.11447522,  0.49660549,  0.38891923],\n",
       "       [ 0.09764025,  0.51577199,  0.38658783],\n",
       "       [ 0.12285367,  0.48918197,  0.38796437],\n",
       "       [ 0.06359158,  0.5569756 ,  0.37943286],\n",
       "       [ 0.06377133,  0.55740368,  0.37882504],\n",
       "       [ 0.08328874,  0.53349334,  0.3832179 ],\n",
       "       [ 0.04025789,  0.59506631,  0.36467579],\n",
       "       [ 0.07598186,  0.54052311,  0.38349506],\n",
       "       [ 0.06618398,  0.55398917,  0.37982684],\n",
       "       [ 0.0688228 ,  0.5486849 ,  0.38249233],\n",
       "       [ 0.07124727,  0.54619992,  0.38255274],\n",
       "       [ 0.07016285,  0.54868335,  0.38115385],\n",
       "       [ 0.04252068,  0.59567755,  0.36180177],\n",
       "       [ 0.58229816,  0.15912399,  0.25857785],\n",
       "       [ 0.51483059,  0.19205005,  0.29311934],\n",
       "       [ 0.50747597,  0.19449081,  0.29803333],\n",
       "       [ 0.53298908,  0.18192187,  0.28508899],\n",
       "       [ 0.48337346,  0.20820196,  0.30842456],\n",
       "       [ 0.54230601,  0.17689091,  0.28080305],\n",
       "       [ 0.52031028,  0.18794395,  0.29174581],\n",
       "       [ 0.50926131,  0.19425336,  0.29648542],\n",
       "       [ 0.50557387,  0.19764204,  0.29678413],\n",
       "       [ 0.56840861,  0.16329315,  0.26829833],\n",
       "       [ 0.54022419,  0.17919883,  0.28057694],\n",
       "       [ 0.53077662,  0.18295814,  0.28626522],\n",
       "       [ 0.50825942,  0.19637625,  0.29536435],\n",
       "       [ 0.48522305,  0.20688474,  0.30789217],\n",
       "       [ 0.48083821,  0.21038586,  0.30877593],\n",
       "       [ 0.53490323,  0.18138675,  0.28370994],\n",
       "       [ 0.48824319,  0.2066249 ,  0.30513185],\n",
       "       [ 0.53196156,  0.18326651,  0.28477195],\n",
       "       [ 0.45188051,  0.22622073,  0.32189879],\n",
       "       [ 0.55175215,  0.17420709,  0.27404076],\n",
       "       [ 0.48407677,  0.20696007,  0.30896318],\n",
       "       [ 0.48302934,  0.20890215,  0.30806851],\n",
       "       [ 0.55836809,  0.16922633,  0.27240565],\n",
       "       [ 0.5212279 ,  0.18795551,  0.29081658],\n",
       "       [ 0.5436579 ,  0.17705956,  0.27928251],\n",
       "       [ 0.5398609 ,  0.17964211,  0.28049701],\n",
       "       [ 0.50423002,  0.19711091,  0.29865906],\n",
       "       [ 0.50992745,  0.1954076 ,  0.29466507],\n",
       "       [ 0.58011073,  0.15819684,  0.26169243],\n",
       "       [ 0.53302181,  0.18240397,  0.28457418],\n",
       "       [ 0.54566294,  0.17755605,  0.27678102],\n",
       "       [ 0.48174101,  0.21075545,  0.30750355],\n",
       "       [ 0.52250808,  0.18691185,  0.29058009],\n",
       "       [ 0.53081828,  0.18360087,  0.28558093],\n",
       "       [ 0.51423705,  0.19132814,  0.29443473],\n",
       "       [ 0.46739784,  0.21712974,  0.31547233],\n",
       "       [ 0.48505247,  0.20705937,  0.30788821],\n",
       "       [ 0.50340021,  0.19720884,  0.29939097],\n",
       "       [ 0.50366712,  0.19698828,  0.29934463],\n",
       "       [ 0.56651908,  0.16467161,  0.26880929],\n",
       "       [ 0.53196406,  0.18251526,  0.28552076],\n",
       "       [ 0.48978931,  0.20864359,  0.30156702],\n",
       "       [ 0.49533936,  0.203381  ,  0.30127966],\n",
       "       [ 0.47099435,  0.21581349,  0.31319222],\n",
       "       [ 0.49291998,  0.20279606,  0.30428392],\n",
       "       [ 0.50709319,  0.1960533 ,  0.29685354],\n",
       "       [ 0.52885467,  0.18535724,  0.28578812],\n",
       "       [ 0.47543612,  0.21331182,  0.31125206],\n",
       "       [ 0.53794527,  0.18068412,  0.28137055],\n",
       "       [ 0.53597993,  0.18127185,  0.28274825],\n",
       "       [ 0.58754957,  0.16950005,  0.24295038],\n",
       "       [ 0.83875579,  0.05435082,  0.10689341],\n",
       "       [ 0.54377967,  0.19175832,  0.26446208],\n",
       "       [ 0.82342327,  0.06059349,  0.11598326],\n",
       "       [ 0.66205841,  0.13242412,  0.20551749],\n",
       "       [ 0.76673943,  0.08424757,  0.14901295],\n",
       "       [ 0.80499542,  0.06830405,  0.12670051],\n",
       "       [ 0.84315693,  0.05198864,  0.10485442],\n",
       "       [ 0.68288583,  0.12399073,  0.19312339],\n",
       "       [ 0.32729757,  0.31647661,  0.35622579],\n",
       "       [ 0.63541263,  0.14585979,  0.21872763],\n",
       "       [ 0.57420933,  0.17738724,  0.24840343],\n",
       "       [ 0.73275369,  0.09946617,  0.16778018],\n",
       "       [ 0.70428467,  0.1128989 ,  0.18281651],\n",
       "       [ 0.88301051,  0.03687875,  0.08011072],\n",
       "       [ 0.82595426,  0.05946329,  0.11458242],\n",
       "       [ 0.6650632 ,  0.13082345,  0.20411329],\n",
       "       [ 0.59211731,  0.16688652,  0.24099612],\n",
       "       [ 0.50015199,  0.21534146,  0.28450662],\n",
       "       [ 0.66635281,  0.13001068,  0.2036366 ],\n",
       "       [ 0.70698333,  0.11195463,  0.18106207],\n",
       "       [ 0.72210646,  0.10433152,  0.17356208],\n",
       "       [ 0.59939826,  0.16430679,  0.23629493],\n",
       "       [ 0.75225413,  0.09115597,  0.1565899 ],\n",
       "       [ 0.89243376,  0.03353124,  0.0740349 ],\n",
       "       [ 0.83377975,  0.05658713,  0.10963308],\n",
       "       [ 0.88102323,  0.0377603 ,  0.08121653],\n",
       "       [ 0.82990539,  0.05792101,  0.11217365],\n",
       "       [ 0.76692593,  0.08572438,  0.14734969],\n",
       "       [ 0.69269717,  0.11733232,  0.18997048],\n",
       "       [ 0.62981862,  0.14739446,  0.22278692],\n",
       "       [ 0.85316575,  0.04862436,  0.09820991],\n",
       "       [ 0.88404125,  0.03665215,  0.07930658],\n",
       "       [ 0.72572744,  0.10343659,  0.17083596],\n",
       "       [ 0.75611472,  0.08954497,  0.15434036],\n",
       "       [ 0.72493207,  0.10309459,  0.17197333],\n",
       "       [ 0.74562716,  0.09376171,  0.16061118],\n",
       "       [ 0.69456202,  0.11724669,  0.18819132],\n",
       "       [ 0.88738579,  0.03552659,  0.07708757],\n",
       "       [ 0.73566675,  0.09765856,  0.16667472],\n",
       "       [ 0.73112667,  0.09987222,  0.1690011 ],\n",
       "       [ 0.70371723,  0.11276957,  0.18351321],\n",
       "       [ 0.81770962,  0.06294059,  0.11934989],\n",
       "       [ 0.79927456,  0.0707225 ,  0.13000293],\n",
       "       [ 0.90175653,  0.03007834,  0.0681652 ],\n",
       "       [ 0.77199495,  0.08205096,  0.14595406],\n",
       "       [ 0.50045478,  0.21521853,  0.2843267 ],\n",
       "       [ 0.65916765,  0.13462713,  0.20620531],\n",
       "       [ 0.49671957,  0.21658063,  0.28669983],\n",
       "       [ 0.5547561 ,  0.18555067,  0.25969324],\n",
       "       [ 0.45627987,  0.24852496,  0.29519513],\n",
       "       [ 0.36078811,  0.30665633,  0.33255547],\n",
       "       [ 0.21346608,  0.42284539,  0.36368859],\n",
       "       [ 0.2744545 ,  0.36685228,  0.35869321],\n",
       "       [ 0.31723028,  0.33603269,  0.34673706],\n",
       "       [ 0.14590357,  0.47208571,  0.3820107 ],\n",
       "       [ 0.32596362,  0.33239788,  0.34163857],\n",
       "       [ 0.170755  ,  0.44870734,  0.38053769],\n",
       "       [ 0.18201454,  0.44503832,  0.37294716],\n",
       "       [ 0.35015973,  0.30983156,  0.34000868],\n",
       "       [ 0.33631548,  0.32172287,  0.34196165],\n",
       "       [ 0.16318247,  0.45903653,  0.37778106],\n",
       "       [ 0.39514837,  0.28047988,  0.3243717 ],\n",
       "       [ 0.25567812,  0.37490112,  0.36942077],\n",
       "       [ 0.16337843,  0.46258098,  0.37404063],\n",
       "       [ 0.22441389,  0.40965784,  0.36592826],\n",
       "       [ 0.25283614,  0.38331038,  0.36385351],\n",
       "       [ 0.41887009,  0.26691684,  0.31421307],\n",
       "       [ 0.30023861,  0.35017672,  0.34958461],\n",
       "       [ 0.21131794,  0.42317516,  0.36550695],\n",
       "       [ 0.38434815,  0.29002419,  0.32562768],\n",
       "       [ 0.24093519,  0.39420542,  0.36485934],\n",
       "       [ 0.15710877,  0.46757677,  0.37531441],\n",
       "       [ 0.1544401 ,  0.47023085,  0.37532905],\n",
       "       [ 0.2878074 ,  0.35279879,  0.35939384],\n",
       "       [ 0.22823873,  0.40935367,  0.36240765],\n",
       "       [ 0.19224189,  0.43451682,  0.37324125],\n",
       "       [ 0.18896408,  0.43578222,  0.37525374],\n",
       "       [ 0.13673839,  0.4822064 ,  0.38105524],\n",
       "       [ 0.27401173,  0.36270466,  0.3632836 ],\n",
       "       [ 0.2934745 ,  0.34959185,  0.35693368],\n",
       "       [ 0.3063381 ,  0.34608206,  0.34757987],\n",
       "       [ 0.28616366,  0.36013335,  0.3537029 ],\n",
       "       [ 0.32719788,  0.33220696,  0.34059513],\n",
       "       [ 0.1516829 ,  0.46861815,  0.37969893],\n",
       "       [ 0.19975381,  0.43206814,  0.3681781 ],\n",
       "       [ 0.18611899,  0.44219121,  0.3716898 ],\n",
       "       [ 0.45317122,  0.24905388,  0.29777488],\n",
       "       [ 0.31209385,  0.34081575,  0.34709039],\n",
       "       [ 0.57438117,  0.17902651,  0.24659237],\n",
       "       [ 0.23997813,  0.40252659,  0.35749531],\n",
       "       [ 0.15905073,  0.466144  ,  0.3748053 ],\n",
       "       [ 0.11663312,  0.50623488,  0.377132  ],\n",
       "       [ 0.06753054,  0.58940136,  0.34306815],\n",
       "       [ 0.17980132,  0.443499  ,  0.37669969],\n",
       "       [ 0.27862415,  0.3669759 ,  0.35439998],\n",
       "       [ 0.25610682,  0.38443029,  0.35946289],\n",
       "       [ 0.16879041,  0.45532641,  0.37588313],\n",
       "       [ 0.25936934,  0.37907004,  0.36156055],\n",
       "       [ 0.27037454,  0.37322542,  0.35640001],\n",
       "       [ 0.21126044,  0.3609294 ,  0.42781016],\n",
       "       [ 0.0710272 ,  0.52205688,  0.40691599],\n",
       "       [ 0.1480802 ,  0.41793269,  0.4339872 ],\n",
       "       [ 0.07906848,  0.50152093,  0.41941062],\n",
       "       [ 0.07432212,  0.50203359,  0.4236443 ],\n",
       "       [ 0.07990173,  0.50894803,  0.41115025],\n",
       "       [ 0.07796855,  0.50958127,  0.41245016],\n",
       "       [ 0.1610691 ,  0.41903734,  0.41989359],\n",
       "       [ 0.18679805,  0.38680911,  0.42639288],\n",
       "       [ 0.16225542,  0.39397717,  0.44376746],\n",
       "       [ 0.10377567,  0.47453508,  0.42168933],\n",
       "       [ 0.14384848,  0.42575368,  0.43039784],\n",
       "       [ 0.15081939,  0.41972706,  0.42945355],\n",
       "       [ 0.11577214,  0.46363202,  0.42059585],\n",
       "       [ 0.13975255,  0.43433908,  0.42590839],\n",
       "       [ 0.10911624,  0.46920839,  0.42167538],\n",
       "       [ 0.09863668,  0.46744448,  0.43391886],\n",
       "       [ 0.12823534,  0.4423905 ,  0.42937416],\n",
       "       [ 0.2127575 ,  0.36267149,  0.42457101],\n",
       "       [ 0.10353285,  0.46786478,  0.42860231],\n",
       "       [ 0.10966998,  0.47047511,  0.41985488],\n",
       "       [ 0.07546269,  0.51060885,  0.41392851],\n",
       "       [ 0.09555522,  0.48145202,  0.42299277],\n",
       "       [ 0.2469151 ,  0.32861653,  0.42446837],\n",
       "       [ 0.18318543,  0.39600763,  0.42080694],\n",
       "       [ 0.13971376,  0.43744564,  0.42284065],\n",
       "       [ 0.16005044,  0.41297531,  0.42697418],\n",
       "       [ 0.19665392,  0.37847945,  0.42486665],\n",
       "       [ 0.20780991,  0.36955851,  0.42263153],\n",
       "       [ 0.11685916,  0.45388529,  0.42925552],\n",
       "       [ 0.18526918,  0.38791764,  0.42681324],\n",
       "       [ 0.16759489,  0.40233788,  0.43006724],\n",
       "       [ 0.14869532,  0.42134151,  0.42996311],\n",
       "       [ 0.11442502,  0.45725968,  0.42831525],\n",
       "       [ 0.13853492,  0.42527118,  0.43619385],\n",
       "       [ 0.11294194,  0.46304151,  0.42401657],\n",
       "       [ 0.07501857,  0.51799119,  0.40699032],\n",
       "       [ 0.23969838,  0.34294689,  0.41735467],\n",
       "       [ 0.18841234,  0.3843857 ,  0.42720193],\n",
       "       [ 0.1587781 ,  0.41369453,  0.42752734],\n",
       "       [ 0.11492356,  0.45477083,  0.43030566],\n",
       "       [ 0.14295487,  0.42217848,  0.4348667 ],\n",
       "       [ 0.20028991,  0.37952888,  0.42018119],\n",
       "       [ 0.12424209,  0.44929951,  0.42645839],\n",
       "       [ 0.07513742,  0.51197654,  0.41288599],\n",
       "       [ 0.14070429,  0.42610848,  0.43318725],\n",
       "       [ 0.19497243,  0.38287145,  0.4221561 ],\n",
       "       [ 0.11981497,  0.44751242,  0.43267256],\n",
       "       [ 0.12433279,  0.44491911,  0.43074811],\n",
       "       [ 0.18173377,  0.38984227,  0.42842406]], dtype=float32)"
      ]
     },
     "execution_count": 40,
     "metadata": {},
     "output_type": "execute_result"
    }
   ],
   "source": [
    "probs = tflr.eval(X)\n",
    "probs"
   ]
  },
  {
   "cell_type": "code",
   "execution_count": 41,
   "metadata": {
    "scrolled": false
   },
   "outputs": [
    {
     "name": "stdout",
     "output_type": "stream",
     "text": [
      "Accuracy: 0.403\n",
      "Precision: 0.335\n",
      "Recall: 0.403\n",
      "F1: 0.366 \n"
     ]
    }
   ],
   "source": [
    "tflr.eval_perf(np.argmax(probs, axis=1), np.argmax(Yoh_, axis=1))"
   ]
  },
  {
   "cell_type": "code",
   "execution_count": 42,
   "metadata": {
    "scrolled": false
   },
   "outputs": [
    {
     "data": {
      "image/png": "[encoded data removed]",
      "text/plain": [
       "<matplotlib.figure.Figure at 0x7fc655e48e10>"
      ]
     },
     "metadata": {},
     "output_type": "display_data"
    }
   ],
   "source": [
    "colors = ['red', 'green', 'blue']\n",
    "plt.scatter(X[:, 0], X[:, 1], c=Y_.flatten(), cmap=ListedColormap(colors))\n",
    "plt.show()"
   ]
  },
  {
   "cell_type": "code",
   "execution_count": 43,
   "metadata": {
    "scrolled": false
   },
   "outputs": [
    {
     "data": {
      "image/png": "[encoded data removed]",
      "text/plain": [
       "<matplotlib.figure.Figure at 0x7fc656f4bfd0>"
      ]
     },
     "metadata": {},
     "output_type": "display_data"
    }
   ],
   "source": [
    "data.plot_decision_boundary(X, lambda x: tflr.classify(x))\n",
    "# graph the data points\n",
    "data.graph_data(X, Y_, np.argmax(probs, axis=1))"
   ]
  },
  {
   "cell_type": "code",
   "execution_count": 44,
   "metadata": {
    "scrolled": false
   },
   "outputs": [],
   "source": [
    "SEED = 125\n",
    "np.random.seed(SEED)\n",
    "tf.set_random_seed(SEED)"
   ]
  },
  {
   "cell_type": "code",
   "execution_count": 45,
   "metadata": {
    "scrolled": false
   },
   "outputs": [],
   "source": [
    "X2, Y_2 = data.sample_gmm_2d(DISTRIBUTIONS, CLASSES, NUM_EXAMPLES)"
   ]
  },
  {
   "cell_type": "code",
   "execution_count": 46,
   "metadata": {
    "scrolled": false
   },
   "outputs": [],
   "source": [
    "Yoh_2 = Y_2.reshape(-1)\n",
    "Yoh_2 = np.eye(CLASSES)[Yoh_2]"
   ]
  },
  {
   "cell_type": "code",
   "execution_count": 47,
   "metadata": {
    "scrolled": false
   },
   "outputs": [],
   "source": [
    "tflr2 = TFLogreg(X2.shape[1], Yoh_2.shape[1], param_delta=0.01, param_lambda=0.01)"
   ]
  },
  {
   "cell_type": "code",
   "execution_count": 48,
   "metadata": {
    "scrolled": true
   },
   "outputs": [
    {
     "name": "stdout",
     "output_type": "stream",
     "text": [
      "WARNING:tensorflow:From /home/dreyus95/Python/tf_environments/tf3/lib/python3.5/site-packages/tensorflow/python/util/tf_should_use.py:175: initialize_all_variables (from tensorflow.python.ops.variables) is deprecated and will be removed after 2017-03-02.\n",
      "Instructions for updating:\n",
      "Use `tf.global_variables_initializer` instead.\n",
      "   0. Loss: 10.23495960\n",
      "1000. Loss: 0.45281634\n",
      "2000. Loss: 0.43041617\n",
      "3000. Loss: 0.41278026\n",
      "4000. Loss: 0.39837182\n",
      "5000. Loss: 0.38627756\n",
      "6000. Loss: 0.37591767\n",
      "7000. Loss: 0.36690533\n",
      "8000. Loss: 0.35897031\n",
      "9000. Loss: 0.35191664\n",
      "10000. Loss: 0.34559721\n",
      "11000. Loss: 0.33989888\n",
      "12000. Loss: 0.33473206\n",
      "13000. Loss: 0.33002487\n",
      "14000. Loss: 0.32571864\n",
      "15000. Loss: 0.32176462\n",
      "16000. Loss: 0.31812194\n",
      "17000. Loss: 0.31475610\n",
      "18000. Loss: 0.31163761\n",
      "19000. Loss: 0.30874097\n",
      "20000. Loss: 0.30604440\n",
      "21000. Loss: 0.30352861\n",
      "22000. Loss: 0.30117691\n",
      "23000. Loss: 0.29897457\n",
      "24000. Loss: 0.29690832\n",
      "25000. Loss: 0.29496694\n",
      "26000. Loss: 0.29313987\n",
      "27000. Loss: 0.29141802\n",
      "28000. Loss: 0.28979304\n",
      "29000. Loss: 0.28825760\n",
      "30000. Loss: 0.28680491\n",
      "31000. Loss: 0.28542891\n",
      "32000. Loss: 0.28412420\n",
      "33000. Loss: 0.28288585\n",
      "34000. Loss: 0.28170940\n",
      "35000. Loss: 0.28059033\n",
      "36000. Loss: 0.27952492\n",
      "37000. Loss: 0.27850991\n",
      "38000. Loss: 0.27754202\n",
      "39000. Loss: 0.27661812\n",
      "40000. Loss: 0.27573568\n",
      "41000. Loss: 0.27489293\n",
      "42000. Loss: 0.27408618\n",
      "43000. Loss: 0.27331424\n",
      "44000. Loss: 0.27257508\n",
      "45000. Loss: 0.27186644\n",
      "46000. Loss: 0.27118695\n",
      "47000. Loss: 0.27053517\n",
      "48000. Loss: 0.26990891\n",
      "49000. Loss: 0.26930773\n",
      "50000. Loss: 0.26873001\n"
     ]
    }
   ],
   "source": [
    "tflr2.train(X2, Yoh_2, 50000)"
   ]
  },
  {
   "cell_type": "code",
   "execution_count": 49,
   "metadata": {
    "scrolled": false
   },
   "outputs": [],
   "source": [
    "probs2 = tflr2.eval(X2)"
   ]
  },
  {
   "cell_type": "code",
   "execution_count": 50,
   "metadata": {
    "scrolled": false
   },
   "outputs": [
    {
     "data": {
      "image/png": "[encoded data removed]",
      "text/plain": [
       "<matplotlib.figure.Figure at 0x7fc654c2b940>"
      ]
     },
     "metadata": {},
     "output_type": "display_data"
    }
   ],
   "source": [
    "plt.scatter(X2[:, 0], X2[:, 1], c=Y_2.flatten(), cmap=ListedColormap(colors))\n",
    "plt.show()"
   ]
  },
  {
   "cell_type": "code",
   "execution_count": 51,
   "metadata": {
    "scrolled": false
   },
   "outputs": [
    {
     "data": {
      "image/png": "[encoded data removed]",
      "text/plain": [
       "<matplotlib.figure.Figure at 0x7fc654d12390>"
      ]
     },
     "metadata": {},
     "output_type": "display_data"
    }
   ],
   "source": [
    "data.plot_decision_boundary(X2, lambda x: tflr2.classify(x))\n",
    "# graph the data points\n",
    "data.graph_data(X2, Y_2, np.argmax(probs2, axis=1))"
   ]
  },
  {
   "cell_type": "code",
   "execution_count": 52,
   "metadata": {
    "scrolled": false
   },
   "outputs": [
    {
     "name": "stdout",
     "output_type": "stream",
     "text": [
      "Accuracy: 0.900\n",
      "Precision: 0.898\n",
      "Recall: 0.900\n",
      "F1: 0.899 \n"
     ]
    }
   ],
   "source": [
    "tflr2.eval_perf(np.argmax(probs2, axis=1), np.argmax(Yoh_2, axis=1))"
   ]
  }
 ],
 "metadata": {
  "kernelspec": {
   "display_name": "Python 3",
   "language": "python",
   "name": "python3"
  },
  "language_info": {
   "codemirror_mode": {
    "name": "ipython",
    "version": 3
   },
   "file_extension": ".py",
   "mimetype": "text/x-python",
   "name": "python",
   "nbconvert_exporter": "python",
   "pygments_lexer": "ipython3",
   "version": "3.5.2"
  }
 },
 "nbformat": 4,
 "nbformat_minor": 2
}
