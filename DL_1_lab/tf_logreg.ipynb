{
 "cells": [
  {
   "cell_type": "code",
   "execution_count": 2,
   "metadata": {},
   "outputs": [],
   "source": [
    "import tensorflow as tf\n",
    "import numpy as np\n",
    "from matplotlib.colors import ListedColormap\n",
    "import matplotlib.pyplot as plt\n",
    "\n",
    "import data"
   ]
  },
  {
   "cell_type": "code",
   "execution_count": 3,
   "metadata": {},
   "outputs": [],
   "source": [
    "SEED = 100\n",
    "NUM_EXAMPLES = 50\n",
    "CLASSES = 3\n",
    "DISTRIBUTIONS = 6"
   ]
  },
  {
   "cell_type": "code",
   "execution_count": 4,
   "metadata": {},
   "outputs": [],
   "source": [
    "class TFLogreg:\n",
    "    \n",
    "    \"\"\"\n",
    "        Class that represents a tensorflow implementation of Logistic Regression model.\n",
    "    \"\"\"\n",
    "\n",
    "    def __init__(self, D, C, param_delta=0.1, param_lambda=0.01):\n",
    "        \"\"\"Arguments:\n",
    "           - D: dimensions of each datapoint\n",
    "           - C: number of classes\n",
    "           - param_delta: training step\n",
    "           - param_lambda= regularization strength\n",
    "        \"\"\"\n",
    "        # definicija podataka i parametara:\n",
    "        # definirati self.X, self.Yoh_, self.W, self.b\n",
    "        self.X = tf.placeholder(dtype=tf.float32, shape=[None, D])\n",
    "        self.Yoh_ = tf.placeholder(dtype=tf.float32, shape=[None, C])\n",
    "        self.W = tf.Variable(initial_value=tf.random_normal([D, C]))\n",
    "        self.b = tf.Variable(initial_value=tf.random_normal([1, C]))\n",
    "\n",
    "        # formulacija modela: izračunati self.probs\n",
    "        #   koristiti: tf.matmul, tf.nn.softmax\n",
    "        self.probs = tf.nn.softmax(tf.matmul(self.X, self.W) + self.b)\n",
    "\n",
    "        # formulacija gubitka: self.loss\n",
    "        #   koristiti: tf.log, tf.reduce_sum, tf.reduce_mean\n",
    "        self.cross_entropy = tf.reduce_mean(-tf.reduce_sum(self.Yoh_ * tf.log(self.probs), reduction_indices=[1]))\n",
    "        self.regularization = param_lambda * tf.nn.l2_loss(self.W)\n",
    "        self.loss = self.cross_entropy + self.regularization\n",
    "\n",
    "        # formulacija operacije učenja: self.train_step\n",
    "        #   koristiti: tf.train.GradientDescentOptimizer,\n",
    "        #              tf.train.GradientDescentOptimizer.minimize\n",
    "        self.train_step = tf.train.GradientDescentOptimizer(param_delta).minimize(self.loss)\n",
    "\n",
    "        # instanciranje izvedbenog konteksta: self.session\n",
    "        #   koristiti: tf.Session\n",
    "        # better than tf.Session(), installs itself as default, we can use obj.eval()\n",
    "        self.session = tf.InteractiveSession()\n",
    "\n",
    "    def train(self, X, Yoh_, param_niter):\n",
    "        \"\"\"Arguments:\n",
    "           - X: actual datapoints [NxD]\n",
    "           - Yoh_: one-hot encoded labels [NxC]\n",
    "           - param_niter: number of iterations\n",
    "        \"\"\"\n",
    "        # incijalizacija parametara\n",
    "        #   koristiti: tf.initialize_all_variables\n",
    "        self.session.run(tf.initialize_all_variables())\n",
    "\n",
    "        # optimizacijska petlja\n",
    "        #   koristiti: tf.Session.run\n",
    "        for i in range(param_niter+1):\n",
    "            tr, loss = self.session.run([self.train_step, self.loss], feed_dict={self.X: X, self.Yoh_: Yoh_})\n",
    "            if i % 1000 == 0:\n",
    "                print(\"{0:4}. Loss: {1:.8f}\".format(i, loss))\n",
    "\n",
    "    def eval(self, X):\n",
    "        \"\"\"Arguments:\n",
    "           - X: actual datapoints [NxD]\n",
    "           Returns: predicted class probabilites [NxC]\n",
    "        \"\"\"\n",
    "        #   koristiti: tf.Session.run\n",
    "        # ispiši performansu (preciznost i odziv po razredima)\n",
    "        probs = self.session.run(self.probs, feed_dict={self.X: X})\n",
    "        return probs\n",
    "\n",
    "    def classify(self, X):\n",
    "        return np.argmax(self.eval(X), axis=1)\n",
    "\n",
    "    def eval_perf(self, Y, Y_):\n",
    "        predicted = tf.argmax(Y, axis=1)\n",
    "        correct = tf.argmax(Y_, axis=1)\n",
    "\n",
    "        TP = tf.count_nonzero(predicted * correct, dtype=tf.float32)\n",
    "        TN = tf.count_nonzero((predicted - 1) * (correct - 1), dtype=tf.float32)\n",
    "        FP = tf.count_nonzero(predicted * (correct - 1), dtype=tf.float32)\n",
    "        FN = tf.count_nonzero((predicted - 1) * correct, dtype=tf.float32)\n",
    "\n",
    "        accuracy = (TP + TN) / (TP + TN + FP + FN)\n",
    "        precision = TP / (TP + FP)\n",
    "        recall = TP / (TP + FN)\n",
    "        f1 = 2 * precision * recall / (precision + recall)\n",
    "\n",
    "        acc, prec, rec, f_1 = self.session.run([accuracy, precision, recall, f1], feed_dict={self.X: X})\n",
    "\n",
    "        print(\"Accuracy: {0:.3f}\\n\"\n",
    "              \"Precision: {1:.3f}\\n\"\n",
    "              \"Recall: {2:.3f}\\n\"\n",
    "              \"F1: {3:.3f} \".format(acc, prec, rec, f_1))"
   ]
  },
  {
   "cell_type": "code",
   "execution_count": 6,
   "metadata": {},
   "outputs": [],
   "source": [
    "np.random.seed(SEED)\n",
    "tf.set_random_seed(SEED)"
   ]
  },
  {
   "cell_type": "code",
   "execution_count": 7,
   "metadata": {},
   "outputs": [],
   "source": [
    "X, Y_ = data.sample_gmm_2d(DISTRIBUTIONS, CLASSES, NUM_EXAMPLES)"
   ]
  },
  {
   "cell_type": "code",
   "execution_count": 9,
   "metadata": {},
   "outputs": [],
   "source": [
    "Yoh_ = Y_.reshape(-1)\n",
    "Yoh_ = np.eye(CLASSES)[Yoh_]"
   ]
  },
  {
   "cell_type": "code",
   "execution_count": 10,
   "metadata": {},
   "outputs": [],
   "source": [
    "tflr = TFLogreg(X.shape[1], Yoh_.shape[1], param_delta=0.01, param_lambda=0.01)"
   ]
  },
  {
   "cell_type": "code",
   "execution_count": 11,
   "metadata": {},
   "outputs": [
    {
     "name": "stdout",
     "output_type": "stream",
     "text": [
      "WARNING:tensorflow:From /home/dreyus95/Python/tf_environments/tf3/lib/python3.5/site-packages/tensorflow/python/util/tf_should_use.py:175: initialize_all_variables (from tensorflow.python.ops.variables) is deprecated and will be removed after 2017-03-02.\n",
      "Instructions for updating:\n",
      "Use `tf.global_variables_initializer` instead.\n",
      "   0. Loss: 6.67537117\n",
      "1000. Loss: 0.97955811\n",
      "2000. Loss: 0.96849614\n",
      "3000. Loss: 0.96399093\n",
      "4000. Loss: 0.96195590\n",
      "5000. Loss: 0.96092510\n",
      "6000. Loss: 0.96034324\n",
      "7000. Loss: 0.95998263\n",
      "8000. Loss: 0.95974195\n",
      "9000. Loss: 0.95957202\n",
      "10000. Loss: 0.95944655\n"
     ]
    }
   ],
   "source": [
    "# nauči parametre:\n",
    "tflr.train(X, Yoh_, 10000)"
   ]
  },
  {
   "cell_type": "code",
   "execution_count": 12,
   "metadata": {
    "scrolled": true
   },
   "outputs": [
    {
     "data": {
      "text/plain": [
       "array([[ 0.13404585,  0.46274838,  0.40320575],\n",
       "       [ 0.26337862,  0.34270662,  0.39391482],\n",
       "       [ 0.25084862,  0.35922983,  0.38992161],\n",
       "       [ 0.2032222 ,  0.39850006,  0.3982777 ],\n",
       "       [ 0.29072362,  0.32699308,  0.38228324],\n",
       "       [ 0.20343445,  0.38597724,  0.41058838],\n",
       "       [ 0.36221355,  0.28273496,  0.35505152],\n",
       "       [ 0.17251596,  0.41673818,  0.4107458 ],\n",
       "       [ 0.12419388,  0.45765364,  0.41815251],\n",
       "       [ 0.39242682,  0.25723717,  0.35033607],\n",
       "       [ 0.30107859,  0.31707913,  0.38184223],\n",
       "       [ 0.23978475,  0.361065  ,  0.39915025],\n",
       "       [ 0.11689641,  0.46529928,  0.41780433],\n",
       "       [ 0.38131863,  0.26929998,  0.34938136],\n",
       "       [ 0.49765512,  0.20581807,  0.29652685],\n",
       "       [ 0.38655305,  0.26304269,  0.3504042 ],\n",
       "       [ 0.34698054,  0.28647092,  0.36654851],\n",
       "       [ 0.25062397,  0.35761616,  0.3917599 ],\n",
       "       [ 0.38697371,  0.26887512,  0.3441512 ],\n",
       "       [ 0.24367078,  0.35698044,  0.39934883],\n",
       "       [ 0.35955581,  0.28158417,  0.35886005],\n",
       "       [ 0.22767091,  0.37301242,  0.39931667],\n",
       "       [ 0.4356299 ,  0.23282412,  0.33154601],\n",
       "       [ 0.20371255,  0.39534512,  0.40094239],\n",
       "       [ 0.1380944 ,  0.4446061 ,  0.41729951],\n",
       "       [ 0.5011211 ,  0.20093058,  0.29794827],\n",
       "       [ 0.27557668,  0.33462507,  0.38979825],\n",
       "       [ 0.08870303,  0.50444174,  0.40685526],\n",
       "       [ 0.16016029,  0.42403239,  0.41580731],\n",
       "       [ 0.17695615,  0.40986013,  0.41318372],\n",
       "       [ 0.19573466,  0.40177855,  0.40248683],\n",
       "       [ 0.47629163,  0.21592665,  0.30778173],\n",
       "       [ 0.1836511 ,  0.41095006,  0.40539882],\n",
       "       [ 0.24132361,  0.36259899,  0.39607742],\n",
       "       [ 0.29360911,  0.32008821,  0.38630268],\n",
       "       [ 0.48206657,  0.21123138,  0.30670208],\n",
       "       [ 0.09812119,  0.49350432,  0.40837452],\n",
       "       [ 0.10413133,  0.4881663 ,  0.40770233],\n",
       "       [ 0.26089805,  0.34796527,  0.39113671],\n",
       "       [ 0.22463056,  0.36464718,  0.41072232],\n",
       "       [ 0.44292343,  0.22843805,  0.32863852],\n",
       "       [ 0.64720523,  0.12758607,  0.2252087 ],\n",
       "       [ 0.27106753,  0.33878732,  0.39014515],\n",
       "       [ 0.23872609,  0.36454406,  0.39672989],\n",
       "       [ 0.20625409,  0.38672146,  0.40702444],\n",
       "       [ 0.41754168,  0.24680051,  0.33565772],\n",
       "       [ 0.27576602,  0.33249792,  0.39173606],\n",
       "       [ 0.26738578,  0.33808881,  0.39452535],\n",
       "       [ 0.12615398,  0.46696076,  0.4068853 ],\n",
       "       [ 0.50460982,  0.19771731,  0.29767296],\n",
       "       [ 0.20152241,  0.41947183,  0.3790057 ],\n",
       "       [ 0.19262388,  0.42259288,  0.38478321],\n",
       "       [ 0.10596269,  0.50393718,  0.39010009],\n",
       "       [ 0.0534016 ,  0.57536995,  0.37122843],\n",
       "       [ 0.05469866,  0.57440728,  0.37089404],\n",
       "       [ 0.20240827,  0.41443807,  0.38315368],\n",
       "       [ 0.04312757,  0.59482038,  0.36205202],\n",
       "       [ 0.17496099,  0.43884665,  0.38619235],\n",
       "       [ 0.20133847,  0.41704166,  0.38161987],\n",
       "       [ 0.05978233,  0.56592089,  0.37429675],\n",
       "       [ 0.19363232,  0.42237085,  0.38399675],\n",
       "       [ 0.05916641,  0.56558383,  0.37524983],\n",
       "       [ 0.02743635,  0.62703991,  0.34552369],\n",
       "       [ 0.12736732,  0.48450392,  0.38812873],\n",
       "       [ 0.0826164 ,  0.53310317,  0.38428038],\n",
       "       [ 0.02391149,  0.63677543,  0.33931309],\n",
       "       [ 0.07035571,  0.55027449,  0.37936974],\n",
       "       [ 0.11046086,  0.49942032,  0.39011884],\n",
       "       [ 0.03443132,  0.60996401,  0.35560471],\n",
       "       [ 0.04917224,  0.58218431,  0.36864334],\n",
       "       [ 0.09263378,  0.52051848,  0.38684779],\n",
       "       [ 0.06077237,  0.56139308,  0.37783462],\n",
       "       [ 0.0300455 ,  0.61896002,  0.35099444],\n",
       "       [ 0.08453933,  0.53258783,  0.38287282],\n",
       "       [ 0.25533846,  0.37505612,  0.36960542],\n",
       "       [ 0.07872015,  0.53613836,  0.38514152],\n",
       "       [ 0.08151609,  0.53400797,  0.38447601],\n",
       "       [ 0.09657092,  0.5195837 ,  0.38384545],\n",
       "       [ 0.06830092,  0.55273294,  0.37896612],\n",
       "       [ 0.1165551 ,  0.49260452,  0.39084038],\n",
       "       [ 0.12165438,  0.488933  ,  0.38941261],\n",
       "       [ 0.07308362,  0.54450911,  0.38240731],\n",
       "       [ 0.04520188,  0.58923572,  0.36556241],\n",
       "       [ 0.1349861 ,  0.47499418,  0.39001977],\n",
       "       [ 0.0601275 ,  0.56540233,  0.3744702 ],\n",
       "       [ 0.03255244,  0.61595649,  0.35149106],\n",
       "       [ 0.04592559,  0.59131902,  0.36275539],\n",
       "       [ 0.11700009,  0.49503192,  0.38796794],\n",
       "       [ 0.10007749,  0.51411843,  0.38580412],\n",
       "       [ 0.12535195,  0.48771057,  0.38693744],\n",
       "       [ 0.06575015,  0.55506366,  0.37918615],\n",
       "       [ 0.06591977,  0.55551416,  0.37856612],\n",
       "       [ 0.08561069,  0.5317772 ,  0.38261208],\n",
       "       [ 0.04198562,  0.59302962,  0.36498472],\n",
       "       [ 0.0782853 ,  0.538692  ,  0.3830227 ],\n",
       "       [ 0.06836528,  0.55211276,  0.37952197],\n",
       "       [ 0.07107074,  0.54677069,  0.38215858],\n",
       "       [ 0.07350927,  0.54432434,  0.38216639],\n",
       "       [ 0.07239107,  0.54683423,  0.38077462],\n",
       "       [ 0.04423769,  0.59379476,  0.36196756],\n",
       "       [ 0.58151788,  0.15970001,  0.25878212],\n",
       "       [ 0.5151723 ,  0.192139  ,  0.29268873],\n",
       "       [ 0.50809848,  0.19443515,  0.29746634],\n",
       "       [ 0.53316635,  0.18207197,  0.2847617 ],\n",
       "       [ 0.48422804,  0.20804922,  0.30772275],\n",
       "       [ 0.54238838,  0.17707705,  0.28053463],\n",
       "       [ 0.52073294,  0.18797968,  0.29128742],\n",
       "       [ 0.50977153,  0.19425721,  0.29597116],\n",
       "       [ 0.50595701,  0.19772264,  0.29632038],\n",
       "       [ 0.5681982 ,  0.16359097,  0.26821083],\n",
       "       [ 0.54017037,  0.17946289,  0.28036678],\n",
       "       [ 0.53099793,  0.18308768,  0.2859143 ],\n",
       "       [ 0.50858521,  0.19648471,  0.29493001],\n",
       "       [ 0.48608968,  0.20672283,  0.30718747],\n",
       "       [ 0.48163256,  0.21027061,  0.3080968 ],\n",
       "       [ 0.53499502,  0.18158035,  0.28342465],\n",
       "       [ 0.4889048 ,  0.20657475,  0.30452049],\n",
       "       [ 0.53204662,  0.18346882,  0.28448457],\n",
       "       [ 0.45308971,  0.22590262,  0.32100767],\n",
       "       [ 0.55141914,  0.17460261,  0.27397829],\n",
       "       [ 0.48502365,  0.20675452,  0.30822191],\n",
       "       [ 0.48382801,  0.20878151,  0.30739051],\n",
       "       [ 0.5581671 ,  0.16953732,  0.27229559],\n",
       "       [ 0.52157551,  0.18803108,  0.29039344],\n",
       "       [ 0.54360741,  0.17731562,  0.27907699],\n",
       "       [ 0.53977793,  0.17992276,  0.28029928],\n",
       "       [ 0.50478572,  0.19709703,  0.29811728],\n",
       "       [ 0.51024055,  0.1955204 ,  0.29423904],\n",
       "       [ 0.57964647,  0.15860784,  0.26174575],\n",
       "       [ 0.53313339,  0.1825899 ,  0.28427672],\n",
       "       [ 0.54538137,  0.17793518,  0.27668345],\n",
       "       [ 0.48242143,  0.210704  ,  0.3068746 ],\n",
       "       [ 0.52288622,  0.18696865,  0.29014519],\n",
       "       [ 0.53095263,  0.183778  ,  0.28526935],\n",
       "       [ 0.51471716,  0.19134139,  0.29394141],\n",
       "       [ 0.46844846,  0.21688537,  0.31466618],\n",
       "       [ 0.48591173,  0.20690177,  0.30718648],\n",
       "       [ 0.5040096 ,  0.19716625,  0.29882416],\n",
       "       [ 0.50428247,  0.19694199,  0.29877555],\n",
       "       [ 0.56627309,  0.16499187,  0.26873505],\n",
       "       [ 0.53214681,  0.18266392,  0.28518927],\n",
       "       [ 0.49008685,  0.2087996 ,  0.30111352],\n",
       "       [ 0.49583223,  0.20341584,  0.30075186],\n",
       "       [ 0.47191939,  0.21563654,  0.312444  ],\n",
       "       [ 0.49367422,  0.20268716,  0.30363861],\n",
       "       [ 0.50755221,  0.19608898,  0.29635879],\n",
       "       [ 0.52892029,  0.18557569,  0.28550395],\n",
       "       [ 0.47630763,  0.2131598 ,  0.31053257],\n",
       "       [ 0.53788143,  0.18095779,  0.28116074],\n",
       "       [ 0.53599912,  0.18150339,  0.28249756],\n",
       "       [ 0.58481318,  0.1711835 ,  0.24400336],\n",
       "       [ 0.83443457,  0.05615711,  0.10940833],\n",
       "       [ 0.54174644,  0.19316417,  0.26508939],\n",
       "       [ 0.81903172,  0.06247269,  0.11849558],\n",
       "       [ 0.65843207,  0.13437138,  0.20719655],\n",
       "       [ 0.76241326,  0.08624476,  0.15134197],\n",
       "       [ 0.80054837,  0.07026045,  0.12919107],\n",
       "       [ 0.83899301,  0.05369752,  0.1073094 ],\n",
       "       [ 0.67879921,  0.12613504,  0.1950658 ],\n",
       "       [ 0.32878387,  0.31611988,  0.35509622],\n",
       "       [ 0.63200533,  0.14777385,  0.22022091],\n",
       "       [ 0.57151222,  0.17909454,  0.24939333],\n",
       "       [ 0.72854847,  0.10150352,  0.16994801],\n",
       "       [ 0.70019954,  0.11496475,  0.18483579],\n",
       "       [ 0.87913281,  0.03837352,  0.08249368],\n",
       "       [ 0.82159191,  0.06132014,  0.11708796],\n",
       "       [ 0.66143227,  0.13276266,  0.20580511],\n",
       "       [ 0.58936012,  0.16856636,  0.24207355],\n",
       "       [ 0.49878365,  0.2164759 ,  0.28474045],\n",
       "       [ 0.66274118,  0.13193379,  0.20532502],\n",
       "       [ 0.70282263,  0.11405528,  0.18312213],\n",
       "       [ 0.71796   ,  0.10637099,  0.17566906],\n",
       "       [ 0.59637636,  0.16612065,  0.23750302],\n",
       "       [ 0.74787444,  0.09322999,  0.15889558],\n",
       "       [ 0.88864321,  0.03497264,  0.07638417],\n",
       "       [ 0.82938349,  0.05844634,  0.1121701 ],\n",
       "       [ 0.87708938,  0.03928799,  0.08362268],\n",
       "       [ 0.8255437 ,  0.05976868,  0.1146876 ],\n",
       "       [ 0.76229364,  0.08789882,  0.14980754],\n",
       "       [ 0.68887633,  0.11928459,  0.19183916],\n",
       "       [ 0.6266709 ,  0.14917411,  0.22415495],\n",
       "       [ 0.84893453,  0.05035352,  0.10071193],\n",
       "       [ 0.8801384 ,  0.03816035,  0.08170118],\n",
       "       [ 0.72141933,  0.10555796,  0.17302261],\n",
       "       [ 0.75170082,  0.0916263 ,  0.15667291],\n",
       "       [ 0.72075844,  0.10514023,  0.17410134],\n",
       "       [ 0.74134165,  0.09580276,  0.16285558],\n",
       "       [ 0.690588  ,  0.11928189,  0.19013014],\n",
       "       [ 0.88349634,  0.03702544,  0.07947813],\n",
       "       [ 0.73153752,  0.09964233,  0.16882014],\n",
       "       [ 0.72699183,  0.10187437,  0.17113383],\n",
       "       [ 0.69970632,  0.11479402,  0.18549977],\n",
       "       [ 0.81330174,  0.06484251,  0.12185569],\n",
       "       [ 0.79482043,  0.07269826,  0.13248131],\n",
       "       [ 0.89811778,  0.03143392,  0.0704483 ],\n",
       "       [ 0.76763749,  0.08405   ,  0.14831251],\n",
       "       [ 0.49907634,  0.21635838,  0.28456527],\n",
       "       [ 0.65543729,  0.13664666,  0.2079161 ],\n",
       "       [ 0.4954856 ,  0.21764159,  0.2868728 ],\n",
       "       [ 0.55261827,  0.18698385,  0.26039791],\n",
       "       [ 0.45462734,  0.24999093,  0.29538172],\n",
       "       [ 0.36074641,  0.30731636,  0.33193719],\n",
       "       [ 0.21474108,  0.42277217,  0.36248669],\n",
       "       [ 0.27556995,  0.36683646,  0.35759348],\n",
       "       [ 0.31780934,  0.33634734,  0.34584337],\n",
       "       [ 0.14816962,  0.47099724,  0.38083318],\n",
       "       [ 0.3262229 ,  0.33292979,  0.34084731],\n",
       "       [ 0.17293315,  0.44778499,  0.37928188],\n",
       "       [ 0.18382049,  0.44448513,  0.37169436],\n",
       "       [ 0.35061538,  0.31016394,  0.33922064],\n",
       "       [ 0.3367345 ,  0.32211259,  0.34115291],\n",
       "       [ 0.16524507,  0.4582077 ,  0.37654722],\n",
       "       [ 0.39499596,  0.28112543,  0.32387862],\n",
       "       [ 0.25741211,  0.37441695,  0.36817095],\n",
       "       [ 0.16527477,  0.46191564,  0.37280956],\n",
       "       [ 0.22582112,  0.40946087,  0.36471799],\n",
       "       [ 0.2541886 ,  0.38313338,  0.36267805],\n",
       "       [ 0.41824919,  0.26781321,  0.31393769],\n",
       "       [ 0.30087382,  0.35048547,  0.34864065],\n",
       "       [ 0.21269755,  0.42301118,  0.36429116],\n",
       "       [ 0.38408858,  0.2907728 ,  0.32513869],\n",
       "       [ 0.24230951,  0.39402235,  0.36366811],\n",
       "       [ 0.15907675,  0.46682712,  0.37409618],\n",
       "       [ 0.15641563,  0.46946692,  0.37411746],\n",
       "       [ 0.28907502,  0.35264724,  0.35827771],\n",
       "       [ 0.22943822,  0.40933096,  0.36123085],\n",
       "       [ 0.194051  ,  0.43396875,  0.37198028],\n",
       "       [ 0.19087759,  0.43513626,  0.37398621],\n",
       "       [ 0.13898091,  0.48110095,  0.37991819],\n",
       "       [ 0.27544886,  0.3624391 ,  0.36211205],\n",
       "       [ 0.29460967,  0.34953287,  0.35585743],\n",
       "       [ 0.30687219,  0.34645447,  0.34667337],\n",
       "       [ 0.28699768,  0.36031738,  0.35268494],\n",
       "       [ 0.32738423,  0.33279005,  0.33982575],\n",
       "       [ 0.1538468 ,  0.4676556 ,  0.37849751],\n",
       "       [ 0.20129032,  0.43176883,  0.36694086],\n",
       "       [ 0.18785617,  0.44170529,  0.37043858],\n",
       "       [ 0.4517177 ,  0.25039768,  0.29788464],\n",
       "       [ 0.31264603,  0.3411617 ,  0.34619227],\n",
       "       [ 0.57143354,  0.18088779,  0.24767868],\n",
       "       [ 0.24088348,  0.40273708,  0.35637948],\n",
       "       [ 0.16099179,  0.46542561,  0.37358263],\n",
       "       [ 0.11877844,  0.50512004,  0.37610155],\n",
       "       [ 0.06897612,  0.58874887,  0.34227502],\n",
       "       [ 0.18179248,  0.44277015,  0.37543738],\n",
       "       [ 0.27945828,  0.36717397,  0.35336775],\n",
       "       [ 0.25718108,  0.38447469,  0.35834423],\n",
       "       [ 0.17075805,  0.45460171,  0.37464023],\n",
       "       [ 0.26059884,  0.37898463,  0.36041653],\n",
       "       [ 0.27130386,  0.37336329,  0.35533294],\n",
       "       [ 0.2160095 ,  0.35802189,  0.42596868],\n",
       "       [ 0.07377457,  0.51942015,  0.40680537],\n",
       "       [ 0.15235893,  0.4148964 ,  0.43274471],\n",
       "       [ 0.0821692 ,  0.49860379,  0.41922697],\n",
       "       [ 0.07744382,  0.49893814,  0.42361805],\n",
       "       [ 0.08283457,  0.5062924 ,  0.410873  ],\n",
       "       [ 0.08090807,  0.50686353,  0.41222838],\n",
       "       [ 0.16491871,  0.41651347,  0.41856787],\n",
       "       [ 0.19117905,  0.38402495,  0.42479604],\n",
       "       [ 0.16709101,  0.39060766,  0.44230136],\n",
       "       [ 0.10720704,  0.47175533,  0.4210377 ],\n",
       "       [ 0.1479488 ,  0.42283598,  0.42921516],\n",
       "       [ 0.15495534,  0.41685051,  0.42819417],\n",
       "       [ 0.11928216,  0.46095771,  0.41976014],\n",
       "       [ 0.14365008,  0.43156946,  0.42478049],\n",
       "       [ 0.11259838,  0.46646193,  0.42093965],\n",
       "       [ 0.10233307,  0.46424714,  0.43341979],\n",
       "       [ 0.13214073,  0.43947259,  0.42838666],\n",
       "       [ 0.21735646,  0.35988334,  0.42276022],\n",
       "       [ 0.10714993,  0.46486264,  0.42798749],\n",
       "       [ 0.11310471,  0.4677918 ,  0.41910344],\n",
       "       [ 0.07840347,  0.50781667,  0.41377994],\n",
       "       [ 0.09893523,  0.47857323,  0.42249152],\n",
       "       [ 0.2520102 ,  0.32566515,  0.42232463],\n",
       "       [ 0.18726966,  0.3934412 ,  0.41928914],\n",
       "       [ 0.1435006 ,  0.43478319,  0.42171612],\n",
       "       [ 0.16418032,  0.41019225,  0.42562741],\n",
       "       [ 0.20107266,  0.37573102,  0.42319635],\n",
       "       [ 0.21224648,  0.36686352,  0.42088997],\n",
       "       [ 0.12064236,  0.45092982,  0.42842779],\n",
       "       [ 0.18965283,  0.38512051,  0.42522666],\n",
       "       [ 0.17193036,  0.3994422 ,  0.42862737],\n",
       "       [ 0.15282907,  0.41844505,  0.42872587],\n",
       "       [ 0.11815412,  0.45432404,  0.42752182],\n",
       "       [ 0.14278527,  0.42214862,  0.4350661 ],\n",
       "       [ 0.11652859,  0.4602392 ,  0.42323223],\n",
       "       [ 0.07781155,  0.51540494,  0.40678355],\n",
       "       [ 0.24425787,  0.34032321,  0.41541886],\n",
       "       [ 0.19284935,  0.38156796,  0.42558262],\n",
       "       [ 0.16291784,  0.41089123,  0.42619094],\n",
       "       [ 0.1187173 ,  0.45177281,  0.42950997],\n",
       "       [ 0.1472085 ,  0.41910678,  0.43368465],\n",
       "       [ 0.20451674,  0.37695241,  0.41853085],\n",
       "       [ 0.12801281,  0.44646591,  0.42552125],\n",
       "       [ 0.07805287,  0.50921202,  0.41273513],\n",
       "       [ 0.14487238,  0.42309052,  0.43203706],\n",
       "       [ 0.19923998,  0.38023141,  0.42052865],\n",
       "       [ 0.1237352 ,  0.44445735,  0.4318074 ],\n",
       "       [ 0.12824215,  0.44194299,  0.42981485],\n",
       "       [ 0.18615215,  0.3869912 ,  0.42685664]], dtype=float32)"
      ]
     },
     "execution_count": 12,
     "metadata": {},
     "output_type": "execute_result"
    }
   ],
   "source": [
    "# dohvati vjerojatnosti na skupu za učenje\n",
    "probs = tflr.eval(X)\n",
    "probs"
   ]
  },
  {
   "cell_type": "code",
   "execution_count": 13,
   "metadata": {},
   "outputs": [
    {
     "name": "stdout",
     "output_type": "stream",
     "text": [
      "Accuracy: 0.613\n",
      "Precision: 0.623\n",
      "Recall: 0.609\n",
      "F1: 0.616 \n"
     ]
    }
   ],
   "source": [
    "tflr.eval_perf(probs, Yoh_)"
   ]
  },
  {
   "cell_type": "code",
   "execution_count": 8,
   "metadata": {},
   "outputs": [
    {
     "data": {
      "image/png": "[encoded data removed]",
      "text/plain": [
       "<matplotlib.figure.Figure at 0x7f56f70c9828>"
      ]
     },
     "metadata": {},
     "output_type": "display_data"
    }
   ],
   "source": [
    "colors = ['red', 'green', 'blue']\n",
    "plt.scatter(X[:, 0], X[:, 1], c=Y_.flatten(), cmap=ListedColormap(colors))\n",
    "plt.show()"
   ]
  },
  {
   "cell_type": "code",
   "execution_count": 14,
   "metadata": {},
   "outputs": [
    {
     "data": {
      "image/png": "[encoded data removed]",
      "text/plain": [
       "<matplotlib.figure.Figure at 0x7f56fd00fba8>"
      ]
     },
     "metadata": {},
     "output_type": "display_data"
    }
   ],
   "source": [
    "data.plot_decision_boundary(X, lambda x: tflr.classify(x))\n",
    "# graph the data points\n",
    "data.graph_data(X, Y_, np.argmax(probs, axis=1))"
   ]
  },
  {
   "cell_type": "code",
   "execution_count": 97,
   "metadata": {},
   "outputs": [],
   "source": [
    "SEED = 125\n",
    "np.random.seed(SEED)\n",
    "tf.set_random_seed(SEED)"
   ]
  },
  {
   "cell_type": "code",
   "execution_count": 98,
   "metadata": {},
   "outputs": [],
   "source": [
    "X2, Y_2 = data.sample_gmm_2d(DISTRIBUTIONS, CLASSES, NUM_EXAMPLES)"
   ]
  },
  {
   "cell_type": "code",
   "execution_count": 99,
   "metadata": {},
   "outputs": [],
   "source": [
    "Yoh_2 = Y_2.reshape(-1)\n",
    "Yoh_2 = np.eye(CLASSES)[Yoh_2]"
   ]
  },
  {
   "cell_type": "code",
   "execution_count": 100,
   "metadata": {},
   "outputs": [],
   "source": [
    "tflr2 = TFLogreg(X2.shape[1], Yoh_2.shape[1], param_delta=0.01, param_lambda=0.01)"
   ]
  },
  {
   "cell_type": "code",
   "execution_count": 101,
   "metadata": {
    "scrolled": true
   },
   "outputs": [
    {
     "name": "stdout",
     "output_type": "stream",
     "text": [
      "WARNING:tensorflow:From /home/dreyus95/Python/tf_environments/tf3/lib/python3.5/site-packages/tensorflow/python/util/tf_should_use.py:175: initialize_all_variables (from tensorflow.python.ops.variables) is deprecated and will be removed after 2017-03-02.\n",
      "Instructions for updating:\n",
      "Use `tf.global_variables_initializer` instead.\n",
      "   0. Loss: 4.08024073\n",
      "1000. Loss: 0.48734772\n",
      "2000. Loss: 0.45736790\n",
      "3000. Loss: 0.43448767\n",
      "4000. Loss: 0.41630250\n",
      "5000. Loss: 0.40140697\n",
      "6000. Loss: 0.38890517\n",
      "7000. Loss: 0.37820920\n",
      "8000. Loss: 0.36891946\n",
      "9000. Loss: 0.36075431\n",
      "10000. Loss: 0.35350800\n",
      "11000. Loss: 0.34702590\n",
      "12000. Loss: 0.34118885\n",
      "13000. Loss: 0.33590287\n",
      "14000. Loss: 0.33109239\n",
      "15000. Loss: 0.32669595\n",
      "16000. Loss: 0.32266259\n",
      "17000. Loss: 0.31894970\n",
      "18000. Loss: 0.31552151\n",
      "19000. Loss: 0.31234717\n",
      "20000. Loss: 0.30940038\n",
      "21000. Loss: 0.30665854\n",
      "22000. Loss: 0.30410188\n",
      "23000. Loss: 0.30171290\n",
      "24000. Loss: 0.29947668\n",
      "25000. Loss: 0.29737949\n",
      "26000. Loss: 0.29540965\n",
      "27000. Loss: 0.29355672\n",
      "28000. Loss: 0.29181084\n",
      "29000. Loss: 0.29016376\n",
      "30000. Loss: 0.28860793\n",
      "31000. Loss: 0.28713626\n",
      "32000. Loss: 0.28574270\n",
      "33000. Loss: 0.28442180\n",
      "34000. Loss: 0.28316841\n",
      "35000. Loss: 0.28197744\n",
      "36000. Loss: 0.28084531\n",
      "37000. Loss: 0.27976763\n",
      "38000. Loss: 0.27874112\n",
      "39000. Loss: 0.27776244\n",
      "40000. Loss: 0.27682853\n",
      "41000. Loss: 0.27593681\n",
      "42000. Loss: 0.27508467\n",
      "43000. Loss: 0.27426979\n",
      "44000. Loss: 0.27349007\n",
      "45000. Loss: 0.27274331\n",
      "46000. Loss: 0.27202785\n",
      "47000. Loss: 0.27134135\n",
      "48000. Loss: 0.27068338\n",
      "49000. Loss: 0.27005166\n",
      "50000. Loss: 0.26944444\n"
     ]
    }
   ],
   "source": [
    "# nauči parametre:\n",
    "tflr2.train(X2, Yoh_2, 50000)"
   ]
  },
  {
   "cell_type": "code",
   "execution_count": 102,
   "metadata": {},
   "outputs": [],
   "source": [
    "probs2 = tflr2.eval(X2)"
   ]
  },
  {
   "cell_type": "code",
   "execution_count": 103,
   "metadata": {},
   "outputs": [
    {
     "data": {
      "image/png": "[encoded data removed]",
      "text/plain": [
       "<matplotlib.figure.Figure at 0x7f56f4da6e10>"
      ]
     },
     "metadata": {},
     "output_type": "display_data"
    }
   ],
   "source": [
    "plt.scatter(X2[:, 0], X2[:, 1], c=Y_2.flatten(), cmap=ListedColormap(colors))\n",
    "plt.show()"
   ]
  },
  {
   "cell_type": "code",
   "execution_count": 104,
   "metadata": {},
   "outputs": [
    {
     "data": {
      "image/png": "[encoded data removed]",
      "text/plain": [
       "<matplotlib.figure.Figure at 0x7f56ec36b160>"
      ]
     },
     "metadata": {},
     "output_type": "display_data"
    }
   ],
   "source": [
    "data.plot_decision_boundary(X2, lambda x: tflr2.classify(x))\n",
    "# graph the data points\n",
    "data.graph_data(X2, Y_2, np.argmax(probs2, axis=1))"
   ]
  },
  {
   "cell_type": "code",
   "execution_count": null,
   "metadata": {},
   "outputs": [],
   "source": []
  }
 ],
 "metadata": {
  "kernelspec": {
   "display_name": "Python 3",
   "language": "python",
   "name": "python3"
  },
  "language_info": {
   "codemirror_mode": {
    "name": "ipython",
    "version": 3
   },
   "file_extension": ".py",
   "mimetype": "text/x-python",
   "name": "python",
   "nbconvert_exporter": "python",
   "pygments_lexer": "ipython3",
   "version": "3.5.2"
  }
 },
 "nbformat": 4,
 "nbformat_minor": 2
}
