{
 "cells": [
  {
   "cell_type": "code",
   "execution_count": 1,
   "metadata": {
    "scrolled": false
   },
   "outputs": [],
   "source": [
    "import tensorflow as tf\n",
    "import numpy as np\n",
    "from matplotlib.colors import ListedColormap\n",
    "import matplotlib.pyplot as plt\n",
    "from sklearn.metrics import f1_score, precision_score, recall_score, accuracy_score\n",
    "\n",
    "import data"
   ]
  },
  {
   "cell_type": "markdown",
   "metadata": {},
   "source": [
    "- The idea was to find two seeds:\n",
    "one that can produce such random gaussian 2D dataset which Logistic Regression <b>cannot separate linearly</b> into classes, and another seed that <b>can produce linearly separable</b> dataset"
   ]
  },
  {
   "cell_type": "code",
   "execution_count": 2,
   "metadata": {
    "scrolled": false
   },
   "outputs": [],
   "source": [
    "SEED = 100\n",
    "NUM_EXAMPLES = 50\n",
    "CLASSES = 3\n",
    "DISTRIBUTIONS = 6"
   ]
  },
  {
   "cell_type": "code",
   "execution_count": 3,
   "metadata": {
    "scrolled": false
   },
   "outputs": [],
   "source": [
    "class TFLogreg:\n",
    "    \n",
    "    \"\"\"\n",
    "        Class that represents a tensorflow implementation of Logistic Regression model.\n",
    "    \"\"\"\n",
    "\n",
    "    def __init__(self, D, C, param_delta=0.1, param_lambda=0.01):\n",
    "        \"\"\"Arguments:\n",
    "           - D: dimensions of each datapoint\n",
    "           - C: number of classes\n",
    "           - param_delta: training step\n",
    "           - param_lambda= regularization strength\n",
    "        \"\"\"\n",
    "        self.X = tf.placeholder(dtype=tf.float32, shape=[None, D])\n",
    "        self.Yoh_ = tf.placeholder(dtype=tf.float32, shape=[None, C])\n",
    "        self.W = tf.Variable(initial_value=tf.random_normal([D, C]))\n",
    "        self.b = tf.Variable(initial_value=tf.random_normal([1, C]))\n",
    "\n",
    "        self.probs = tf.nn.softmax(tf.matmul(self.X, self.W) + self.b)\n",
    "\n",
    "        self.cross_entropy = tf.reduce_mean(-tf.reduce_sum(self.Yoh_ * tf.log(self.probs), reduction_indices=[1]))\n",
    "        self.regularization = param_lambda * tf.nn.l2_loss(self.W)\n",
    "        self.loss = self.cross_entropy + self.regularization\n",
    "\n",
    "        self.train_step = tf.train.GradientDescentOptimizer(param_delta).minimize(self.loss)\n",
    "        \n",
    "        self.session = tf.InteractiveSession()\n",
    "\n",
    "    def train(self, X, Yoh_, param_niter):\n",
    "        \"\"\"Arguments:\n",
    "           - X: actual datapoints [NxD]\n",
    "           - Yoh_: one-hot encoded labels [NxC]\n",
    "           - param_niter: number of iterations\n",
    "        \"\"\"\n",
    "        self.session.run(tf.initialize_all_variables())\n",
    "\n",
    "        for i in range(param_niter+1):\n",
    "            tr, loss = self.session.run([self.train_step, self.loss], feed_dict={self.X: X, self.Yoh_: Yoh_})\n",
    "            if i % 1000 == 0:\n",
    "                print(\"{0:4}. Loss: {1:.8f}\".format(i, loss))\n",
    "\n",
    "    def eval(self, X):\n",
    "        \"\"\"Arguments:\n",
    "           - X: actual datapoints [NxD]\n",
    "           Returns: predicted class probabilites [NxC]\n",
    "        \"\"\"\n",
    "        probs = self.session.run(self.probs, feed_dict={self.X: X})\n",
    "        return probs\n",
    "\n",
    "    def classify(self, X):\n",
    "        return np.argmax(self.eval(X), axis=1)\n",
    "\n",
    "    def eval_perf(self, Y, Y_):\n",
    "        # needed to compute scores of our model\n",
    "        # 'weighted' takes into consideration labels imbalance\n",
    "        if max(int(max(Y_) + 1), int(max(Y) + 1)) == 2:\n",
    "            average = 'binary'\n",
    "        else:\n",
    "            average = 'weighted'\n",
    "\n",
    "        accuracy = accuracy_score(Y_, Y)\n",
    "        precision = precision_score(Y_, Y, average=average)\n",
    "        recall = recall_score(Y_, Y, average=average)\n",
    "        f1 = f1_score(Y_, Y, average=average)\n",
    "\n",
    "        print(\"Accuracy: {0:.3f}\\n\"\n",
    "              \"Precision: {1:.3f}\\n\"\n",
    "              \"Recall: {2:.3f}\\n\"\n",
    "              \"F1: {3:.3f} \".format(accuracy, precision, recall, f1))"
   ]
  },
  {
   "cell_type": "code",
   "execution_count": 4,
   "metadata": {
    "scrolled": false
   },
   "outputs": [],
   "source": [
    "np.random.seed(SEED)\n",
    "tf.set_random_seed(SEED)"
   ]
  },
  {
   "cell_type": "code",
   "execution_count": 5,
   "metadata": {
    "scrolled": false
   },
   "outputs": [],
   "source": [
    "X, Y_ = data.sample_gmm_2d(DISTRIBUTIONS, CLASSES, NUM_EXAMPLES)"
   ]
  },
  {
   "cell_type": "markdown",
   "metadata": {},
   "source": [
    "- We are working with one hotted vectors of labels\n",
    "- for example:\n",
    "\n",
    "    Y :\n",
    "        [2, 0, 1]\n",
    "    \n",
    "    Yoh_ :\n",
    "        [0, 0, 1]\n",
    "        [1, 0, 0] \n",
    "        [0, 1, 0]"
   ]
  },
  {
   "cell_type": "code",
   "execution_count": 6,
   "metadata": {
    "scrolled": false
   },
   "outputs": [],
   "source": [
    "Yoh_ = Y_.reshape(-1)\n",
    "Yoh_ = np.eye(CLASSES)[Yoh_]"
   ]
  },
  {
   "cell_type": "code",
   "execution_count": 7,
   "metadata": {
    "scrolled": false
   },
   "outputs": [],
   "source": [
    "tflr = TFLogreg(X.shape[1], Yoh_.shape[1], param_delta=0.01, param_lambda=0.01)"
   ]
  },
  {
   "cell_type": "code",
   "execution_count": 8,
   "metadata": {
    "scrolled": false
   },
   "outputs": [
    {
     "name": "stdout",
     "output_type": "stream",
     "text": [
      "WARNING:tensorflow:From /home/dreyus95/Python/tf_environments/tf3/lib/python3.5/site-packages/tensorflow/python/util/tf_should_use.py:175: initialize_all_variables (from tensorflow.python.ops.variables) is deprecated and will be removed after 2017-03-02.\n",
      "Instructions for updating:\n",
      "Use `tf.global_variables_initializer` instead.\n",
      "   0. Loss: 6.67537117\n",
      "1000. Loss: 0.97955811\n",
      "2000. Loss: 0.96849614\n",
      "3000. Loss: 0.96399099\n",
      "4000. Loss: 0.96195596\n",
      "5000. Loss: 0.96092516\n",
      "6000. Loss: 0.96034312\n",
      "7000. Loss: 0.95998269\n",
      "8000. Loss: 0.95974195\n",
      "9000. Loss: 0.95957202\n",
      "10000. Loss: 0.95944661\n",
      "11000. Loss: 0.95935112\n",
      "12000. Loss: 0.95927668\n",
      "13000. Loss: 0.95921803\n",
      "14000. Loss: 0.95917088\n",
      "15000. Loss: 0.95913303\n",
      "16000. Loss: 0.95910245\n",
      "17000. Loss: 0.95907754\n",
      "18000. Loss: 0.95905721\n",
      "19000. Loss: 0.95904064\n",
      "20000. Loss: 0.95902711\n",
      "21000. Loss: 0.95901608\n",
      "22000. Loss: 0.95900708\n",
      "23000. Loss: 0.95899957\n",
      "24000. Loss: 0.95899355\n",
      "25000. Loss: 0.95898855\n",
      "26000. Loss: 0.95898449\n",
      "27000. Loss: 0.95898128\n",
      "28000. Loss: 0.95897859\n",
      "29000. Loss: 0.95897633\n",
      "30000. Loss: 0.95897448\n",
      "31000. Loss: 0.95897299\n",
      "32000. Loss: 0.95897168\n",
      "33000. Loss: 0.95897079\n",
      "34000. Loss: 0.95896983\n",
      "35000. Loss: 0.95896930\n",
      "36000. Loss: 0.95896876\n",
      "37000. Loss: 0.95896816\n",
      "38000. Loss: 0.95896792\n",
      "39000. Loss: 0.95896757\n",
      "40000. Loss: 0.95896739\n",
      "41000. Loss: 0.95896721\n",
      "42000. Loss: 0.95896697\n",
      "43000. Loss: 0.95896685\n",
      "44000. Loss: 0.95896685\n",
      "45000. Loss: 0.95896667\n",
      "46000. Loss: 0.95896655\n",
      "47000. Loss: 0.95896649\n",
      "48000. Loss: 0.95896643\n",
      "49000. Loss: 0.95896637\n",
      "50000. Loss: 0.95896637\n"
     ]
    }
   ],
   "source": [
    "tflr.train(X, Yoh_, 50000)"
   ]
  },
  {
   "cell_type": "markdown",
   "metadata": {},
   "source": [
    "- We can see the insecurity model has due to having a linearly unseparable dataset by looking at probabilities"
   ]
  },
  {
   "cell_type": "code",
   "execution_count": 9,
   "metadata": {
    "scrolled": true
   },
   "outputs": [
    {
     "data": {
      "text/plain": [
       "array([[ 0.13096824,  0.46477476,  0.40425697],\n",
       "       [ 0.25989312,  0.34450376,  0.39560315],\n",
       "       [ 0.2477579 ,  0.36076325,  0.39147884],\n",
       "       [ 0.20002906,  0.40023795,  0.39973298],\n",
       "       [ 0.28767586,  0.3284364 ,  0.38388771],\n",
       "       [ 0.19961253,  0.38823199,  0.41215545],\n",
       "       [ 0.36011845,  0.2835215 ,  0.35636002],\n",
       "       [ 0.1689326 ,  0.41896281,  0.41210464],\n",
       "       [ 0.12068614,  0.46025139,  0.4190625 ],\n",
       "       [ 0.39003894,  0.25821111,  0.35174999],\n",
       "       [ 0.29790896,  0.31859329,  0.38349774],\n",
       "       [ 0.23624127,  0.36296466,  0.40079409],\n",
       "       [ 0.11346117,  0.46791893,  0.41861996],\n",
       "       [ 0.37930748,  0.27004141,  0.35065114],\n",
       "       [ 0.4976047 ,  0.20553342,  0.29686198],\n",
       "       [ 0.38431358,  0.26392636,  0.35176006],\n",
       "       [ 0.34419984,  0.28769422,  0.36810592],\n",
       "       [ 0.24742024,  0.35923469,  0.39334509],\n",
       "       [ 0.38532251,  0.26939505,  0.34528244],\n",
       "       [ 0.24007383,  0.35890871,  0.4010174 ],\n",
       "       [ 0.35717779,  0.28255028,  0.36027202],\n",
       "       [ 0.22423542,  0.37486565,  0.40089896],\n",
       "       [ 0.43386132,  0.23344994,  0.33268869],\n",
       "       [ 0.20037928,  0.39719796,  0.40242273],\n",
       "       [ 0.13450326,  0.44712535,  0.41837144],\n",
       "       [ 0.50074649,  0.2008373 ,  0.29841617],\n",
       "       [ 0.27220884,  0.33631411,  0.39147702],\n",
       "       [ 0.08579728,  0.50691044,  0.40729231],\n",
       "       [ 0.15645608,  0.4264563 ,  0.41708761],\n",
       "       [ 0.17323323,  0.41218004,  0.41458675],\n",
       "       [ 0.19237766,  0.40368342,  0.40393886],\n",
       "       [ 0.47574386,  0.21589229,  0.30836383],\n",
       "       [ 0.18023318,  0.41296396,  0.40680289],\n",
       "       [ 0.2379484 ,  0.36436766,  0.39768398],\n",
       "       [ 0.29022825,  0.32175544,  0.38801628],\n",
       "       [ 0.48141986,  0.21126288,  0.30731726],\n",
       "       [ 0.09509943,  0.49593642,  0.40896416],\n",
       "       [ 0.10108177,  0.49052876,  0.40838948],\n",
       "       [ 0.25762284,  0.34961593,  0.39276123],\n",
       "       [ 0.2205867 ,  0.36697826,  0.412435  ],\n",
       "       [ 0.44122306,  0.22902937,  0.32974753],\n",
       "       [ 0.64873487,  0.1267643 ,  0.22450081],\n",
       "       [ 0.26773494,  0.34045985,  0.3918052 ],\n",
       "       [ 0.23533738,  0.3663297 ,  0.39833289],\n",
       "       [ 0.2025888 ,  0.38883635,  0.40857488],\n",
       "       [ 0.41590893,  0.2473339 ,  0.33675715],\n",
       "       [ 0.2722635 ,  0.3342807 ,  0.39345574],\n",
       "       [ 0.26380906,  0.33994174,  0.39624926],\n",
       "       [ 0.12299195,  0.46915755,  0.40785047],\n",
       "       [ 0.50411654,  0.19769606,  0.29818743],\n",
       "       [ 0.19933967,  0.4203459 ,  0.38031438],\n",
       "       [ 0.19016127,  0.42373034,  0.3861084 ],\n",
       "       [ 0.10339043,  0.50568289,  0.39092666],\n",
       "       [ 0.05146628,  0.57728881,  0.37124488],\n",
       "       [ 0.05275736,  0.57628661,  0.370956  ],\n",
       "       [ 0.20000502,  0.41550359,  0.38449135],\n",
       "       [ 0.04141948,  0.59673607,  0.36184436],\n",
       "       [ 0.17246166,  0.44006497,  0.38747337],\n",
       "       [ 0.19901851,  0.41803637,  0.38294512],\n",
       "       [ 0.05774743,  0.5677948 ,  0.37445781],\n",
       "       [ 0.19120704,  0.42347291,  0.38532004],\n",
       "       [ 0.05712035,  0.56749922,  0.37538043],\n",
       "       [ 0.02612089,  0.6290735 ,  0.34480569],\n",
       "       [ 0.12482416,  0.48600671,  0.38916916],\n",
       "       [ 0.08026381,  0.53491408,  0.38482207],\n",
       "       [ 0.02271129,  0.6388194 ,  0.33846936],\n",
       "       [ 0.06816316,  0.55211169,  0.37972525],\n",
       "       [ 0.10787779,  0.50112647,  0.39099571],\n",
       "       [ 0.03290871,  0.61198348,  0.35510781],\n",
       "       [ 0.04731392,  0.58412832,  0.36855778],\n",
       "       [ 0.09018477,  0.52228987,  0.38752541],\n",
       "       [ 0.05867081,  0.56335527,  0.37797397],\n",
       "       [ 0.02863733,  0.62102681,  0.35033584],\n",
       "       [ 0.08221176,  0.53432661,  0.38346168],\n",
       "       [ 0.25351936,  0.37560603,  0.37087452],\n",
       "       [ 0.07636634,  0.5380311 ,  0.38560256],\n",
       "       [ 0.07916372,  0.53584027,  0.38499612],\n",
       "       [ 0.09418923,  0.52120763,  0.38460317],\n",
       "       [ 0.06612768,  0.55459213,  0.37928021],\n",
       "       [ 0.11393803,  0.4942866 ,  0.3917754 ],\n",
       "       [ 0.11907447,  0.49052423,  0.3904013 ],\n",
       "       [ 0.07081625,  0.54639828,  0.38278553],\n",
       "       [ 0.04342649,  0.59119433,  0.36537915],\n",
       "       [ 0.13236989,  0.47652096,  0.39110923],\n",
       "       [ 0.05808719,  0.56727451,  0.37463829],\n",
       "       [ 0.03109852,  0.61793268,  0.35096875],\n",
       "       [ 0.04417896,  0.59317541,  0.3626456 ],\n",
       "       [ 0.1144719 ,  0.49660593,  0.38892218],\n",
       "       [ 0.09763709,  0.51577204,  0.38659084],\n",
       "       [ 0.12285035,  0.48918256,  0.38796708],\n",
       "       [ 0.06358884,  0.55697453,  0.37943658],\n",
       "       [ 0.0637686 ,  0.55740267,  0.37882876],\n",
       "       [ 0.08328575,  0.5334931 ,  0.38322115],\n",
       "       [ 0.04025576,  0.5950641 ,  0.36468011],\n",
       "       [ 0.07597889,  0.54052252,  0.38349858],\n",
       "       [ 0.0661812 ,  0.55398822,  0.37983054],\n",
       "       [ 0.06881993,  0.548684  ,  0.38249612],\n",
       "       [ 0.0712444 ,  0.5461992 ,  0.38255641],\n",
       "       [ 0.07015999,  0.54868257,  0.38115743],\n",
       "       [ 0.04251853,  0.59567571,  0.36180568],\n",
       "       [ 0.58229917,  0.1591239 ,  0.25857702],\n",
       "       [ 0.51482999,  0.19205035,  0.2931197 ],\n",
       "       [ 0.5074749 ,  0.19449116,  0.29803395],\n",
       "       [ 0.53298879,  0.18192211,  0.28508916],\n",
       "       [ 0.48337212,  0.20820247,  0.30842546],\n",
       "       [ 0.54230577,  0.17689107,  0.28080314],\n",
       "       [ 0.52030957,  0.18794423,  0.29174623],\n",
       "       [ 0.50926042,  0.19425368,  0.2964859 ],\n",
       "       [ 0.50557315,  0.19764236,  0.29678449],\n",
       "       [ 0.56840873,  0.16329318,  0.26829806],\n",
       "       [ 0.54022419,  0.17919898,  0.28057683],\n",
       "       [ 0.53077626,  0.18295836,  0.2862654 ],\n",
       "       [ 0.50825888,  0.19637659,  0.29536462],\n",
       "       [ 0.48522177,  0.2068852 ,  0.30789304],\n",
       "       [ 0.48083693,  0.21038634,  0.30877668],\n",
       "       [ 0.53490299,  0.18138698,  0.28371009],\n",
       "       [ 0.48824218,  0.20662534,  0.30513257],\n",
       "       [ 0.53196126,  0.18326671,  0.28477198],\n",
       "       [ 0.45187873,  0.22622134,  0.32189998],\n",
       "       [ 0.55175251,  0.17420715,  0.27404028],\n",
       "       [ 0.48407537,  0.20696051,  0.30896413],\n",
       "       [ 0.48302811,  0.20890266,  0.30806932],\n",
       "       [ 0.55836815,  0.16922636,  0.27240542],\n",
       "       [ 0.52122736,  0.18795578,  0.2908169 ],\n",
       "       [ 0.54365784,  0.17705972,  0.27928248],\n",
       "       [ 0.53986084,  0.17964227,  0.28049693],\n",
       "       [ 0.50422907,  0.19711126,  0.29865962],\n",
       "       [ 0.5099268 ,  0.19540787,  0.29466531],\n",
       "       [ 0.58011127,  0.15819682,  0.26169193],\n",
       "       [ 0.53302151,  0.18240415,  0.2845743 ],\n",
       "       [ 0.54566318,  0.17755614,  0.27678066],\n",
       "       [ 0.48173988,  0.21075588,  0.30750415],\n",
       "       [ 0.52250737,  0.18691213,  0.29058042],\n",
       "       [ 0.53081793,  0.18360107,  0.28558096],\n",
       "       [ 0.51423627,  0.19132848,  0.29443523],\n",
       "       [ 0.46739635,  0.21713027,  0.31547344],\n",
       "       [ 0.48505113,  0.2070598 ,  0.30788904],\n",
       "       [ 0.50339925,  0.19720919,  0.29939157],\n",
       "       [ 0.50366604,  0.19698864,  0.29934525],\n",
       "       [ 0.56651932,  0.16467167,  0.26880902],\n",
       "       [ 0.53196365,  0.18251544,  0.28552088],\n",
       "       [ 0.48978874,  0.208644  ,  0.30156723],\n",
       "       [ 0.49533844,  0.20338137,  0.30128011],\n",
       "       [ 0.47099295,  0.21581396,  0.31319305],\n",
       "       [ 0.49291876,  0.2027965 ,  0.30428469],\n",
       "       [ 0.50709236,  0.19605365,  0.29685399],\n",
       "       [ 0.52885437,  0.18535747,  0.28578812],\n",
       "       [ 0.47543475,  0.2133123 ,  0.31125289],\n",
       "       [ 0.53794527,  0.18068428,  0.28137043],\n",
       "       [ 0.53597975,  0.18127203,  0.28274825],\n",
       "       [ 0.58755308,  0.16949956,  0.2429474 ],\n",
       "       [ 0.83876175,  0.0543495 ,  0.10688874],\n",
       "       [ 0.54378217,  0.1917581 ,  0.2644597 ],\n",
       "       [ 0.82342923,  0.06059213,  0.11597854],\n",
       "       [ 0.66206318,  0.13242318,  0.20551361],\n",
       "       [ 0.76674533,  0.08424626,  0.14900835],\n",
       "       [ 0.80500156,  0.06830271,  0.12669577],\n",
       "       [ 0.84316272,  0.05198738,  0.10484992],\n",
       "       [ 0.68289131,  0.12398961,  0.19311909],\n",
       "       [ 0.32729539,  0.31647775,  0.35622689],\n",
       "       [ 0.63541704,  0.14585897,  0.21872394],\n",
       "       [ 0.57421273,  0.17738678,  0.24840045],\n",
       "       [ 0.7327593 ,  0.09946493,  0.16777574],\n",
       "       [ 0.70429009,  0.1128977 ,  0.18281212],\n",
       "       [ 0.88301593,  0.03687758,  0.08010647],\n",
       "       [ 0.82596028,  0.05946196,  0.11457773],\n",
       "       [ 0.66506803,  0.13082251,  0.20410946],\n",
       "       [ 0.59212083,  0.166886  ,  0.24099313],\n",
       "       [ 0.5001536 ,  0.21534154,  0.28450489],\n",
       "       [ 0.66635752,  0.13000971,  0.20363276],\n",
       "       [ 0.70698887,  0.11195344,  0.18105772],\n",
       "       [ 0.722112  ,  0.10433032,  0.1735577 ],\n",
       "       [ 0.59940213,  0.16430618,  0.23629166],\n",
       "       [ 0.75226015,  0.09115465,  0.15658525],\n",
       "       [ 0.89243919,  0.03353012,  0.07403073],\n",
       "       [ 0.83378589,  0.05658578,  0.10962837],\n",
       "       [ 0.88102871,  0.03775913,  0.08121223],\n",
       "       [ 0.82991147,  0.05791967,  0.11216895],\n",
       "       [ 0.76693225,  0.08572301,  0.14734481],\n",
       "       [ 0.69270229,  0.11733127,  0.18996648],\n",
       "       [ 0.62982273,  0.14739375,  0.22278358],\n",
       "       [ 0.85317159,  0.04862305,  0.09820534],\n",
       "       [ 0.88404673,  0.03665098,  0.07930228],\n",
       "       [ 0.72573322,  0.10343534,  0.17083141],\n",
       "       [ 0.75612062,  0.08954364,  0.15433569],\n",
       "       [ 0.72493774,  0.10309339,  0.17196888],\n",
       "       [ 0.74563295,  0.09376045,  0.16060661],\n",
       "       [ 0.69456726,  0.11724559,  0.18818711],\n",
       "       [ 0.88739127,  0.03552542,  0.07708331],\n",
       "       [ 0.7356723 ,  0.09765733,  0.16667028],\n",
       "       [ 0.73113227,  0.09987102,  0.16899674],\n",
       "       [ 0.70372254,  0.11276845,  0.18350895],\n",
       "       [ 0.81771559,  0.06293923,  0.11934516],\n",
       "       [ 0.79928058,  0.07072116,  0.12999821],\n",
       "       [ 0.90176153,  0.03007727,  0.06816116],\n",
       "       [ 0.77200097,  0.08204967,  0.14594944],\n",
       "       [ 0.50045639,  0.21521863,  0.28432497],\n",
       "       [ 0.65917248,  0.13462615,  0.20620133],\n",
       "       [ 0.49672097,  0.21658078,  0.28669822],\n",
       "       [ 0.55475873,  0.18555047,  0.25969088],\n",
       "       [ 0.45628178,  0.24852528,  0.29519299],\n",
       "       [ 0.36078787,  0.30665734,  0.33255479],\n",
       "       [ 0.21346405,  0.42284703,  0.36368892],\n",
       "       [ 0.27445269,  0.36685368,  0.35869357],\n",
       "       [ 0.31722918,  0.33603391,  0.34673691],\n",
       "       [ 0.14590047,  0.47208682,  0.3820127 ],\n",
       "       [ 0.32596293,  0.33239904,  0.34163806],\n",
       "       [ 0.17075197,  0.44870865,  0.38053945],\n",
       "       [ 0.18201195,  0.44503981,  0.37294823],\n",
       "       [ 0.35015884,  0.30983266,  0.34000862],\n",
       "       [ 0.33631462,  0.32172403,  0.34196141],\n",
       "       [ 0.16317958,  0.45903784,  0.37778258],\n",
       "       [ 0.39514831,  0.28048068,  0.32437104],\n",
       "       [ 0.25567558,  0.37490249,  0.36942193],\n",
       "       [ 0.16337575,  0.46258241,  0.37404191],\n",
       "       [ 0.22441174,  0.40965942,  0.36592886],\n",
       "       [ 0.25283402,  0.38331184,  0.36385408],\n",
       "       [ 0.41887057,  0.26691747,  0.31421193],\n",
       "       [ 0.30023745,  0.35017806,  0.34958452],\n",
       "       [ 0.21131583,  0.4231768 ,  0.36550745],\n",
       "       [ 0.38434818,  0.29002503,  0.32562685],\n",
       "       [ 0.24093309,  0.39420694,  0.36485991],\n",
       "       [ 0.15710598,  0.4675782 ,  0.37531585],\n",
       "       [ 0.15443732,  0.47023222,  0.37533048],\n",
       "       [ 0.28780538,  0.3528001 ,  0.35939449],\n",
       "       [ 0.22823681,  0.40935525,  0.36240789],\n",
       "       [ 0.19223927,  0.43451837,  0.37324241],\n",
       "       [ 0.18896133,  0.43578365,  0.37525499],\n",
       "       [ 0.13673531,  0.48220745,  0.38105726],\n",
       "       [ 0.27400959,  0.36270604,  0.36328441],\n",
       "       [ 0.29347268,  0.34959313,  0.35693416],\n",
       "       [ 0.306337  ,  0.34608337,  0.34757963],\n",
       "       [ 0.28616223,  0.36013478,  0.35370302],\n",
       "       [ 0.32719725,  0.33220816,  0.34059456],\n",
       "       [ 0.15167993,  0.46861941,  0.37970075],\n",
       "       [ 0.1997515 ,  0.43206975,  0.36817876],\n",
       "       [ 0.18611644,  0.44219276,  0.37169078],\n",
       "       [ 0.45317277,  0.24905425,  0.29777297],\n",
       "       [ 0.31209278,  0.34081706,  0.34709021],\n",
       "       [ 0.57438493,  0.17902598,  0.24658909],\n",
       "       [ 0.23997656,  0.4025282 ,  0.35749522],\n",
       "       [ 0.15904801,  0.4661454 ,  0.37480664],\n",
       "       [ 0.11663023,  0.50623578,  0.37713397],\n",
       "       [ 0.06752858,  0.58940214,  0.34306931],\n",
       "       [ 0.1797985 ,  0.4435004 ,  0.37670106],\n",
       "       [ 0.27862269,  0.3669773 ,  0.35440001],\n",
       "       [ 0.25610507,  0.38443181,  0.35946316],\n",
       "       [ 0.16878763,  0.45532787,  0.37588456],\n",
       "       [ 0.25936747,  0.37907153,  0.36156106],\n",
       "       [ 0.27037293,  0.37322688,  0.35640013],\n",
       "       [ 0.21125413,  0.36092955,  0.42781627],\n",
       "       [ 0.07102374,  0.52205497,  0.4069213 ],\n",
       "       [ 0.14807464,  0.41793206,  0.43399331],\n",
       "       [ 0.07906456,  0.50151891,  0.41941649],\n",
       "       [ 0.0743182 ,  0.50203115,  0.42365065],\n",
       "       [ 0.07989803,  0.50894642,  0.41115555],\n",
       "       [ 0.07796484,  0.50957954,  0.41245568],\n",
       "       [ 0.16106406,  0.41903737,  0.4198986 ],\n",
       "       [ 0.18679228,  0.38680914,  0.42639852],\n",
       "       [ 0.1622491 ,  0.39397642,  0.44377443],\n",
       "       [ 0.10377127,  0.47453395,  0.42169479],\n",
       "       [ 0.14384316,  0.42575318,  0.43040368],\n",
       "       [ 0.150814  ,  0.41972667,  0.4294593 ],\n",
       "       [ 0.11576764,  0.4636313 ,  0.42060107],\n",
       "       [ 0.1397475 ,  0.43433863,  0.4259139 ],\n",
       "       [ 0.10911178,  0.46920744,  0.42168078],\n",
       "       [ 0.09863198,  0.46744266,  0.43392533],\n",
       "       [ 0.12823032,  0.44238973,  0.42938   ],\n",
       "       [ 0.2127514 ,  0.36267179,  0.42457688],\n",
       "       [ 0.10352825,  0.46786338,  0.42860836],\n",
       "       [ 0.10966557,  0.47047427,  0.41986018],\n",
       "       [ 0.075459  ,  0.51060688,  0.41393411],\n",
       "       [ 0.09555092,  0.48145059,  0.42299849],\n",
       "       [ 0.24690829,  0.32861692,  0.42447487],\n",
       "       [ 0.18318005,  0.39600784,  0.4208121 ],\n",
       "       [ 0.13970883,  0.43744531,  0.42284587],\n",
       "       [ 0.16004504,  0.41297513,  0.42697978],\n",
       "       [ 0.19664808,  0.37847963,  0.42487225],\n",
       "       [ 0.20780401,  0.36955881,  0.4226371 ],\n",
       "       [ 0.11685429,  0.45388424,  0.42926142],\n",
       "       [ 0.18526337,  0.3879177 ,  0.42681894],\n",
       "       [ 0.16758922,  0.40233767,  0.43007308],\n",
       "       [ 0.14868997,  0.42134112,  0.42996895],\n",
       "       [ 0.11442024,  0.45725864,  0.42832112],\n",
       "       [ 0.1385294 ,  0.42527038,  0.4362002 ],\n",
       "       [ 0.11293734,  0.46304059,  0.42402208],\n",
       "       [ 0.07501505,  0.51798946,  0.40699548],\n",
       "       [ 0.23969232,  0.34294742,  0.41736031],\n",
       "       [ 0.18840653,  0.38438576,  0.42720771],\n",
       "       [ 0.15877271,  0.41369435,  0.42753297],\n",
       "       [ 0.11491868,  0.45476964,  0.43031162],\n",
       "       [ 0.14294936,  0.42217782,  0.43487293],\n",
       "       [ 0.20028433,  0.37952927,  0.42018649],\n",
       "       [ 0.12423722,  0.44929874,  0.42646402],\n",
       "       [ 0.07513376,  0.51197469,  0.4128916 ],\n",
       "       [ 0.14069888,  0.42610776,  0.4331933 ],\n",
       "       [ 0.19496681,  0.38287172,  0.42216149],\n",
       "       [ 0.11980994,  0.44751137,  0.4326787 ],\n",
       "       [ 0.12432776,  0.44491822,  0.43075407],\n",
       "       [ 0.18172793,  0.38984218,  0.42842981]], dtype=float32)"
      ]
     },
     "execution_count": 9,
     "metadata": {},
     "output_type": "execute_result"
    }
   ],
   "source": [
    "probs = tflr.eval(X)\n",
    "probs"
   ]
  },
  {
   "cell_type": "code",
   "execution_count": 10,
   "metadata": {
    "scrolled": false
   },
   "outputs": [
    {
     "name": "stdout",
     "output_type": "stream",
     "text": [
      "Accuracy: 0.403\n",
      "Precision: 0.335\n",
      "Recall: 0.403\n",
      "F1: 0.366 \n"
     ]
    }
   ],
   "source": [
    "tflr.eval_perf(np.argmax(probs, axis=1), np.argmax(Yoh_, axis=1))"
   ]
  },
  {
   "cell_type": "code",
   "execution_count": 11,
   "metadata": {
    "scrolled": false
   },
   "outputs": [
    {
     "data": {
      "image/png": "[encoded data removed]",
      "text/plain": [
       "<matplotlib.figure.Figure at 0x7fac15f48ba8>"
      ]
     },
     "metadata": {},
     "output_type": "display_data"
    }
   ],
   "source": [
    "colors = ['red', 'green', 'blue']\n",
    "plt.scatter(X[:, 0], X[:, 1], c=Y_.flatten(), cmap=ListedColormap(colors))\n",
    "plt.show()"
   ]
  },
  {
   "cell_type": "code",
   "execution_count": 12,
   "metadata": {
    "scrolled": false
   },
   "outputs": [
    {
     "data": {
      "image/png": "[encoded data removed]",
      "text/plain": [
       "<matplotlib.figure.Figure at 0x7fac143ce208>"
      ]
     },
     "metadata": {},
     "output_type": "display_data"
    }
   ],
   "source": [
    "data.plot_decision_boundary(X, lambda x: tflr.classify(x))\n",
    "# graph the data points\n",
    "data.graph_data(X, Y_, np.argmax(probs, axis=1))"
   ]
  },
  {
   "cell_type": "code",
   "execution_count": 13,
   "metadata": {
    "scrolled": false
   },
   "outputs": [],
   "source": [
    "SEED = 125\n",
    "np.random.seed(SEED)\n",
    "tf.set_random_seed(SEED)"
   ]
  },
  {
   "cell_type": "code",
   "execution_count": 14,
   "metadata": {
    "scrolled": false
   },
   "outputs": [],
   "source": [
    "X2, Y_2 = data.sample_gmm_2d(DISTRIBUTIONS, CLASSES, NUM_EXAMPLES)"
   ]
  },
  {
   "cell_type": "code",
   "execution_count": 15,
   "metadata": {
    "scrolled": false
   },
   "outputs": [],
   "source": [
    "Yoh_2 = Y_2.reshape(-1)\n",
    "Yoh_2 = np.eye(CLASSES)[Yoh_2]"
   ]
  },
  {
   "cell_type": "code",
   "execution_count": 16,
   "metadata": {
    "scrolled": false
   },
   "outputs": [],
   "source": [
    "tflr2 = TFLogreg(X2.shape[1], Yoh_2.shape[1], param_delta=0.01, param_lambda=0.01)"
   ]
  },
  {
   "cell_type": "code",
   "execution_count": 17,
   "metadata": {
    "scrolled": true
   },
   "outputs": [
    {
     "name": "stdout",
     "output_type": "stream",
     "text": [
      "WARNING:tensorflow:From /home/dreyus95/Python/tf_environments/tf3/lib/python3.5/site-packages/tensorflow/python/util/tf_should_use.py:175: initialize_all_variables (from tensorflow.python.ops.variables) is deprecated and will be removed after 2017-03-02.\n",
      "Instructions for updating:\n",
      "Use `tf.global_variables_initializer` instead.\n",
      "   0. Loss: 5.59248781\n",
      "1000. Loss: 0.63682121\n",
      "2000. Loss: 0.55702358\n",
      "3000. Loss: 0.50587779\n",
      "4000. Loss: 0.47076976\n",
      "5000. Loss: 0.44496199\n",
      "6000. Loss: 0.42492777\n",
      "7000. Loss: 0.40873477\n",
      "8000. Loss: 0.39525494\n",
      "9000. Loss: 0.38378635\n",
      "10000. Loss: 0.37386680\n",
      "11000. Loss: 0.36517680\n",
      "12000. Loss: 0.35748622\n",
      "13000. Loss: 0.35062361\n",
      "14000. Loss: 0.34445736\n",
      "15000. Loss: 0.33888426\n",
      "16000. Loss: 0.33382195\n",
      "17000. Loss: 0.32920307\n",
      "18000. Loss: 0.32497236\n",
      "19000. Loss: 0.32108352\n",
      "20000. Loss: 0.31749770\n",
      "21000. Loss: 0.31418183\n",
      "22000. Loss: 0.31110743\n",
      "23000. Loss: 0.30824998\n",
      "24000. Loss: 0.30558845\n",
      "25000. Loss: 0.30310416\n",
      "26000. Loss: 0.30078080\n",
      "27000. Loss: 0.29860401\n",
      "28000. Loss: 0.29656115\n",
      "29000. Loss: 0.29464093\n",
      "30000. Loss: 0.29283324\n",
      "31000. Loss: 0.29112905\n",
      "32000. Loss: 0.28952044\n",
      "33000. Loss: 0.28800008\n",
      "34000. Loss: 0.28656125\n",
      "35000. Loss: 0.28519818\n",
      "36000. Loss: 0.28390539\n",
      "37000. Loss: 0.28267804\n",
      "38000. Loss: 0.28151152\n",
      "39000. Loss: 0.28040197\n",
      "40000. Loss: 0.27934566\n",
      "41000. Loss: 0.27833897\n",
      "42000. Loss: 0.27737886\n",
      "43000. Loss: 0.27646261\n",
      "44000. Loss: 0.27558720\n",
      "45000. Loss: 0.27475056\n",
      "46000. Loss: 0.27395019\n",
      "47000. Loss: 0.27318403\n",
      "48000. Loss: 0.27245015\n",
      "49000. Loss: 0.27174670\n",
      "50000. Loss: 0.27107212\n"
     ]
    }
   ],
   "source": [
    "tflr2.train(X2, Yoh_2, 50000)"
   ]
  },
  {
   "cell_type": "code",
   "execution_count": 18,
   "metadata": {
    "scrolled": false
   },
   "outputs": [],
   "source": [
    "probs2 = tflr2.eval(X2)"
   ]
  },
  {
   "cell_type": "code",
   "execution_count": 19,
   "metadata": {
    "scrolled": false
   },
   "outputs": [
    {
     "data": {
      "image/png": "[encoded data removed]",
      "text/plain": [
       "<matplotlib.figure.Figure at 0x7fac14249780>"
      ]
     },
     "metadata": {},
     "output_type": "display_data"
    }
   ],
   "source": [
    "plt.scatter(X2[:, 0], X2[:, 1], c=Y_2.flatten(), cmap=ListedColormap(colors))\n",
    "plt.show()"
   ]
  },
  {
   "cell_type": "code",
   "execution_count": 20,
   "metadata": {
    "scrolled": false
   },
   "outputs": [
    {
     "data": {
      "image/png": "[encoded data removed]",
      "text/plain": [
       "<matplotlib.figure.Figure at 0x7fac141c4860>"
      ]
     },
     "metadata": {},
     "output_type": "display_data"
    }
   ],
   "source": [
    "data.plot_decision_boundary(X2, lambda x: tflr2.classify(x))\n",
    "# graph the data points\n",
    "data.graph_data(X2, Y_2, np.argmax(probs2, axis=1))"
   ]
  },
  {
   "cell_type": "code",
   "execution_count": 21,
   "metadata": {
    "scrolled": false
   },
   "outputs": [
    {
     "name": "stdout",
     "output_type": "stream",
     "text": [
      "Accuracy: 0.903\n",
      "Precision: 0.901\n",
      "Recall: 0.903\n",
      "F1: 0.902 \n"
     ]
    }
   ],
   "source": [
    "tflr2.eval_perf(np.argmax(probs2, axis=1), np.argmax(Yoh_2, axis=1))"
   ]
  }
 ],
 "metadata": {
  "kernelspec": {
   "display_name": "Python 3",
   "language": "python",
   "name": "python3"
  },
  "language_info": {
   "codemirror_mode": {
    "name": "ipython",
    "version": 3
   },
   "file_extension": ".py",
   "mimetype": "text/x-python",
   "name": "python",
   "nbconvert_exporter": "python",
   "pygments_lexer": "ipython3",
   "version": "3.5.2"
  }
 },
 "nbformat": 4,
 "nbformat_minor": 2
}
