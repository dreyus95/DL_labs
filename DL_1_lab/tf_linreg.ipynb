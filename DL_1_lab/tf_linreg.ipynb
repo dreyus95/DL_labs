{
 "cells": [
  {
   "cell_type": "code",
   "execution_count": 1,
   "metadata": {},
   "outputs": [],
   "source": [
    "import tensorflow as tf\n",
    "import numpy as np\n",
    "from numpy.random import normal\n",
    "from scipy import stats as stats\n",
    "import matplotlib.pyplot as plt"
   ]
  },
  {
   "cell_type": "code",
   "execution_count": 2,
   "metadata": {},
   "outputs": [],
   "source": [
    "f = lambda x: 2*x + 1\n",
    "\n",
    "np.random.seed(42)\n",
    "Xs = np.random.uniform(-10, 10, 50)\n",
    "Ys = f(Xs) + normal(0, 5e-2, len(Xs))\n",
    "Xs, Ys = Xs.reshape(-1, 1), Ys.reshape(-1, 1)\n",
    "n_samples = len(Xs)"
   ]
  },
  {
   "cell_type": "code",
   "execution_count": 3,
   "metadata": {},
   "outputs": [],
   "source": [
    "X  = tf.placeholder(tf.float32, [None, 1])\n",
    "Y_ = tf.placeholder(tf.float32, [None, 1])\n",
    "a = tf.Variable(0.0)\n",
    "b = tf.Variable(0.0)\n",
    "\n",
    "\n",
    "Y = a*X + b\n",
    "loss  = (1./(2*n_samples)) * (Y-Y_)**2 \n",
    "\n",
    "trainer = tf.train.GradientDescentOptimizer(0.01)\n",
    "train_op = trainer.minimize(loss)\n",
    "grads_and_vars = trainer.compute_gradients(loss, [a, b])\n",
    "optimize = trainer.apply_gradients(grads_and_vars)\n",
    "grads_and_vars = tf.Print(grads_and_vars, [grads_and_vars], 'Status:')\n",
    "\n"
   ]
  },
  {
   "cell_type": "code",
   "execution_count": 4,
   "metadata": {},
   "outputs": [
    {
     "name": "stdout",
     "output_type": "stream",
     "text": [
      "Values a,b for iteration 0: 0.00000 , 0.00000\n",
      "Values a,b for iteration 1000: 1.16937 , 0.71795\n",
      "Values a,b for iteration 2000: 1.71507 , 1.04871\n",
      "Values a,b for iteration 3000: 1.85563 , 1.12897\n",
      "Values a,b for iteration 4000: 1.89336 , 1.14601\n",
      "Values a,b for iteration 5000: 1.90494 , 1.14707\n"
     ]
    },
    {
     "data": {
      "image/png": "[encoded data removed]",
      "text/plain": [
       "<matplotlib.figure.Figure at 0x7f5f80353748>"
      ]
     },
     "metadata": {},
     "output_type": "display_data"
    }
   ],
   "source": [
    "with tf.Session() as sess:\n",
    "    sess.run(tf.global_variables_initializer())\n",
    "\n",
    "    X_data = np.array([1,2]).reshape((-1, 1))\n",
    "    Y_data = np.array([3,5]).reshape((-1, 1))\n",
    "    plt.scatter(X_data, Y_data, marker='o')\n",
    "    for i in range(5001):\n",
    "        val_loss, _, val_a,val_b = sess.run([loss, train_op, a,b], \n",
    "                                      feed_dict={X: X_data, Y_: Y_data})\n",
    "        if i % 1000 == 0:\n",
    "            print(\"Values a,b for iteration {0}: {1:.5f} , {2:.5f}\".format(i, val_a, val_b))\n",
    "            plt.plot(X_data, val_a*X_data + val_b, '-')\n",
    "\n",
    "    plt.show()"
   ]
  },
  {
   "cell_type": "code",
   "execution_count": 5,
   "metadata": {},
   "outputs": [
    {
     "name": "stdout",
     "output_type": "stream",
     "text": [
      "a: 0.66667\tb: -0.01163\t loss: 66.06854\n",
      "Computed grads and vals: \n",
      " [[-66.6672821    0.        ]\n",
      " [  1.16319108   0.        ]]\n",
      "Calculated gradients: [[-66.66728973]] 1.1631910800933838\n",
      "\n",
      "a: 1.94742\tb: 0.04371\t loss: 0.46759\n",
      "Computed grads and vals: \n",
      " [[-1.08853042  1.93652976]\n",
      " [-0.89646614  0.03474205]]\n",
      "Calculated gradients: [[-1.08853042]] -0.8964660167694092\n",
      "\n",
      "a: 1.97060\tb: 0.13136\t loss: 0.37178\n",
      "Computed grads and vals: \n",
      " [[-0.04456513  1.97015464]\n",
      " [-0.84465766  0.12291657]]\n",
      "Calculated gradients: [[-0.044565]] -0.8446576595306396\n",
      "\n",
      "a: 1.97356\tb: 0.21152\t loss: 0.30645\n",
      "Computed grads and vals: \n",
      " [[-0.02546893  1.97330141]\n",
      " [-0.76713163  0.20384601]]\n",
      "Calculated gradients: [[-0.02546882]] -0.7671316266059875\n",
      "\n",
      "a: 1.97595\tb: 0.28428\t loss: 0.25264\n",
      "Computed grads and vals: \n",
      " [[-0.02288158  1.97572279]\n",
      " [-0.69628191  0.27731451]]\n",
      "Calculated gradients: [[-0.02288154]] -0.6962818503379822\n",
      "\n",
      "a: 1.97812\tb: 0.35032\t loss: 0.20830\n",
      "Computed grads and vals: \n",
      " [[-0.02076271  1.97791374]\n",
      " [-0.63196868  0.34399718]]\n",
      "Calculated gradients: [[-0.02076277]] -0.6319687366485596\n",
      "\n",
      "a: 1.98009\tb: 0.41026\t loss: 0.17178\n",
      "Computed grads and vals: \n",
      " [[-0.01884735  1.97990215]\n",
      " [-0.57359582  0.40452057]]\n",
      "Calculated gradients: [[-0.01884734]] -0.5735958218574524\n",
      "\n",
      "a: 1.98188\tb: 0.46466\t loss: 0.14169\n",
      "Computed grads and vals: \n",
      " [[-0.01710394  1.98170698]\n",
      " [-0.52061474  0.45945364]]\n",
      "Calculated gradients: [[-0.01710395]] -0.520614743232727\n",
      "\n",
      "a: 1.98350\tb: 0.51404\t loss: 0.11691\n",
      "Computed grads and vals: \n",
      " [[-0.0155207   1.98334515]\n",
      " [-0.47252718  0.50931269]]\n",
      "Calculated gradients: [[-0.01552067]] -0.4725271463394165\n",
      "\n",
      "a: 1.98497\tb: 0.55886\t loss: 0.09649\n",
      "Computed grads and vals: \n",
      " [[-0.01409043  1.98483181]\n",
      " [-0.42888132  0.55456644]]\n",
      "Calculated gradients: [[-0.01409045]] -0.42888131737709045\n",
      "\n"
     ]
    },
    {
     "data": {
      "image/png": "[encoded data removed]",
      "text/plain": [
       "<matplotlib.figure.Figure at 0x7f5f103887f0>"
      ]
     },
     "metadata": {},
     "output_type": "display_data"
    }
   ],
   "source": [
    "# calculating gradients for a and b\n",
    "d_a = (1/n_samples) * tf.matmul(Y-Y_,  X, transpose_a=True)\n",
    "d_b = (1/n_samples) * tf.reduce_sum(Y-Y_)\n",
    "\n",
    "\n",
    "with tf.Session() as sess:\n",
    "    sess.run(tf.global_variables_initializer())\n",
    "    plt.scatter(Xs, Ys, marker='o')\n",
    "\n",
    "    for i in range(100):\n",
    "        val_loss, val_grads, da, db = sess.run([loss, grads_and_vars, d_a, d_b], feed_dict={X: Xs, Y_: Ys})\n",
    "        sess.run(train_op, feed_dict={X: Xs, Y_: Ys})\n",
    "        val_a, val_b= sess.run([a, b], feed_dict={X: Xs, Y_: Ys})\n",
    "        \n",
    "        if i% 10 == 0: \n",
    "            print(\"a: {0:.5f}\\tb: {1:.5f}\\t loss: {2:.5f}\".format(val_a, val_b, val_loss.sum()))\n",
    "            print(\"Computed grads and vals: \\n {0}\".format(val_grads))\n",
    "            print(\"Calculated gradients: {0} {1}\\n\".format(da, db))\n",
    "\n",
    "    plt.plot(Xs, val_a*Xs + val_b, '-')\n",
    "    plt.show()"
   ]
  },
  {
   "cell_type": "code",
   "execution_count": null,
   "metadata": {},
   "outputs": [],
   "source": []
  }
 ],
 "metadata": {
  "kernelspec": {
   "display_name": "Python 3",
   "language": "python",
   "name": "python3"
  },
  "language_info": {
   "codemirror_mode": {
    "name": "ipython",
    "version": 3
   },
   "file_extension": ".py",
   "mimetype": "text/x-python",
   "name": "python",
   "nbconvert_exporter": "python",
   "pygments_lexer": "ipython3",
   "version": "3.5.2"
  }
 },
 "nbformat": 4,
 "nbformat_minor": 2
}
