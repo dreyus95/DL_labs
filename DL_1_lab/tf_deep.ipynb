{
 "cells": [
  {
   "cell_type": "code",
   "execution_count": 20,
   "metadata": {
    "scrolled": true
   },
   "outputs": [],
   "source": [
    "import tensorflow as tf\n",
    "import numpy as np\n",
    "import data\n",
    "import matplotlib.pyplot as plt\n",
    "from matplotlib.colors import  ListedColormap\n",
    "from sklearn.metrics import f1_score, precision_score, recall_score, accuracy_score"
   ]
  },
  {
   "cell_type": "code",
   "execution_count": 21,
   "metadata": {
    "scrolled": true
   },
   "outputs": [],
   "source": [
    "NUM_EXAMPLES = 10\n",
    "CLASSES = 3\n",
    "DISTRIBUTIONS = 6\n",
    "SEED = 106"
   ]
  },
  {
   "cell_type": "code",
   "execution_count": 22,
   "metadata": {
    "scrolled": true
   },
   "outputs": [],
   "source": [
    "class TFDeep:\n",
    "    \"\"\"\n",
    "        Class that represents a deep neural network implementation in tensorflow.\n",
    "    \"\"\"\n",
    "\n",
    "    def __init__(self, shapes, param_delta=0.1, param_lambda=0.01):\n",
    "        \"\"\"Arguments:\n",
    "           - D: dimensions of each datapoint\n",
    "           - C: number of classes\n",
    "           - param_delta: training step\n",
    "        \"\"\"\n",
    "        self.X = tf.placeholder(dtype=tf.float32, shape=[None, shapes[0]])\n",
    "        self.Yoh_ = tf.placeholder(dtype=tf.float32, shape=[None, shapes[-1]])\n",
    "\n",
    "        self.weights = []\n",
    "        self.biases = []\n",
    "        self.hs = []\n",
    "\n",
    "        for index, shape in enumerate(shapes[1:]):\n",
    "            self.weights.append(tf.Variable(initial_value=tf.random_normal([shapes[index], shape])))\n",
    "            self.biases.append(tf.Variable(initial_value=tf.random_normal([1, shape])))\n",
    "\n",
    "        # NN input\n",
    "        # self.hs.append(tf.nn.sigmoid(tf.matmul(self.X, self.weights[0]) + self.biases[0]))\n",
    "        self.hs.append(tf.nn.relu(tf.matmul(self.X, self.weights[0]) + self.biases[0]))\n",
    "\n",
    "        # NN inner connections\n",
    "        for i in range(1, len(shapes[1:-1])):\n",
    "            self.hs.append(tf.nn.relu(tf.matmul(self.hs[-1], self.weights[i]) + self.biases[i]))\n",
    "            # self.hs.append(tf.nn.sigmoid(tf.matmul(self.hs[-1], self.weights[i]) + self.biases[i]))\n",
    "\n",
    "        # NN output\n",
    "        if len(shapes[1:-1]) == 0:\n",
    "            # regular logistic regression\n",
    "            output = tf.matmul(self.X, self.weights[-1]) + self.biases[-1]\n",
    "        else:\n",
    "            # neural network last layer output\n",
    "            output = tf.matmul(self.hs[-1], self.weights[-1]) + self.biases[-1]\n",
    "\n",
    "        self.probs = tf.nn.softmax(output)\n",
    "\n",
    "        self.cross_entropy = tf.reduce_mean(-tf.reduce_sum(self.Yoh_ * tf.log(self.probs), axis=1))\n",
    "        self.regularization = [param_lambda * tf.nn.l2_loss(weights) for weights in self.weights]\n",
    "        self.loss = self.cross_entropy + tf.add_n(self.regularization)\n",
    "\n",
    "        self.train_step = tf.train.GradientDescentOptimizer(param_delta).minimize(self.loss)\n",
    "\n",
    "        self.session = tf.InteractiveSession()\n",
    "\n",
    "    def train(self, X, Yoh_, param_niter):\n",
    "        \"\"\"Arguments:\n",
    "           - X: actual datapoints [NxD]\n",
    "           - Yoh_: one-hot encoded labels [NxC]\n",
    "           - param_niter: number of iterations\n",
    "        \"\"\"\n",
    "        self.session.run(tf.initialize_all_variables())\n",
    "\n",
    "        for i in range(param_niter+1):\n",
    "            tr = self.session.run([self.train_step], feed_dict={self.X: X, self.Yoh_: Yoh_})\n",
    "            if i % 1000 == 0:\n",
    "                loss = self.session.run(self.loss, feed_dict={self.X: X, self.Yoh_: Yoh_})\n",
    "                print(\"{0:4}. Loss: {1:.8f}\".format(i, loss))\n",
    "\n",
    "    def eval(self, X):\n",
    "        \"\"\"Arguments:\n",
    "           - X: actual datapoints [NxD]\n",
    "           Returns: predicted class probabilites [NxC]\n",
    "        \"\"\"\n",
    "        probs = self.session.run(self.probs, feed_dict={self.X: X})\n",
    "        return probs\n",
    "\n",
    "    def classify(self, X):\n",
    "        return np.argmax(self.eval(X), axis=1)\n",
    "\n",
    "    def eval_perf(self, Y, Y_):\n",
    "        # needed to compute scores of our model\n",
    "        # 'weighted' takes into consideration labels imbalance\n",
    "        if max(int(max(Y_) + 1), int(max(Y) + 1)) == 2:\n",
    "            average = 'binary'\n",
    "        else:\n",
    "            average = 'weighted'\n",
    "\n",
    "        accuracy = accuracy_score(Y_, Y)\n",
    "        precision = precision_score(Y_, Y, average=average)\n",
    "        recall = recall_score(Y_, Y, average=average)\n",
    "        f1 = f1_score(Y_, Y, average=average)\n",
    "\n",
    "        print(\"Accuracy: {0:.3f}\\n\"\n",
    "              \"Precision: {1:.3f}\\n\"\n",
    "              \"Recall: {2:.3f}\\n\"\n",
    "              \"F1: {3:.3f} \".format(accuracy, precision, recall, f1))"
   ]
  },
  {
   "cell_type": "code",
   "execution_count": 23,
   "metadata": {
    "scrolled": true
   },
   "outputs": [],
   "source": [
    "np.random.seed(SEED)\n",
    "tf.set_random_seed(SEED)\n",
    "X, Y_ = data.sample_gmm_2d(DISTRIBUTIONS, CLASSES, NUM_EXAMPLES)"
   ]
  },
  {
   "cell_type": "code",
   "execution_count": 24,
   "metadata": {
    "scrolled": true
   },
   "outputs": [],
   "source": [
    "Yoh_ = Y_.reshape(-1)\n",
    "Yoh_ = np.eye(CLASSES)[Yoh_]"
   ]
  },
  {
   "cell_type": "code",
   "execution_count": 25,
   "metadata": {
    "scrolled": true
   },
   "outputs": [],
   "source": [
    "shape = [2, 10, 15,CLASSES]\n",
    "\n",
    "tfdeep = TFDeep(shape, param_delta=0.01, param_lambda=0.01)"
   ]
  },
  {
   "cell_type": "code",
   "execution_count": 26,
   "metadata": {
    "scrolled": false
   },
   "outputs": [
    {
     "name": "stdout",
     "output_type": "stream",
     "text": [
      "WARNING:tensorflow:From /home/dreyus95/Python/tf_environments/tf3/lib/python3.5/site-packages/tensorflow/python/util/tf_should_use.py:175: initialize_all_variables (from tensorflow.python.ops.variables) is deprecated and will be removed after 2017-03-02.\n",
      "Instructions for updating:\n",
      "Use `tf.global_variables_initializer` instead.\n",
      "   0. Loss: 7.51456070\n",
      "1000. Loss: 1.20879865\n",
      "2000. Loss: 1.04534745\n",
      "3000. Loss: 0.92257541\n",
      "4000. Loss: 0.81510556\n",
      "5000. Loss: 0.73217344\n",
      "6000. Loss: 0.65721190\n",
      "7000. Loss: 0.60149956\n",
      "8000. Loss: 0.55563235\n",
      "9000. Loss: 0.51674169\n",
      "10000. Loss: 0.47805291\n",
      "11000. Loss: 0.45004666\n",
      "12000. Loss: 0.42210463\n",
      "13000. Loss: 0.40302104\n",
      "14000. Loss: 0.38772094\n",
      "15000. Loss: 0.37528145\n",
      "16000. Loss: 0.36506099\n",
      "17000. Loss: 0.35665274\n",
      "18000. Loss: 0.34964567\n",
      "19000. Loss: 0.34382984\n",
      "20000. Loss: 0.33898646\n",
      "21000. Loss: 0.33485371\n",
      "22000. Loss: 0.33129174\n",
      "23000. Loss: 0.32825494\n",
      "24000. Loss: 0.32571483\n",
      "25000. Loss: 0.32367811\n",
      "26000. Loss: 0.32187286\n",
      "27000. Loss: 0.32030869\n",
      "28000. Loss: 0.31896037\n",
      "29000. Loss: 0.31780997\n",
      "30000. Loss: 0.31679118\n",
      "31000. Loss: 0.31578761\n",
      "32000. Loss: 0.31506813\n",
      "33000. Loss: 0.31443822\n",
      "34000. Loss: 0.31388080\n",
      "35000. Loss: 0.31334853\n",
      "36000. Loss: 0.31292933\n",
      "37000. Loss: 0.31251010\n",
      "38000. Loss: 0.31218639\n",
      "39000. Loss: 0.31189084\n",
      "40000. Loss: 0.31153861\n",
      "41000. Loss: 0.31128043\n",
      "42000. Loss: 0.31100529\n",
      "43000. Loss: 0.31078750\n",
      "44000. Loss: 0.31053698\n",
      "45000. Loss: 0.31032148\n",
      "46000. Loss: 0.31009620\n",
      "47000. Loss: 0.30988660\n",
      "48000. Loss: 0.30969691\n",
      "49000. Loss: 0.30948046\n",
      "50000. Loss: 0.30926770\n",
      "51000. Loss: 0.30905041\n",
      "52000. Loss: 0.30886111\n",
      "53000. Loss: 0.30859831\n",
      "54000. Loss: 0.30838037\n",
      "55000. Loss: 0.30812860\n",
      "56000. Loss: 0.30794477\n",
      "57000. Loss: 0.30760646\n",
      "58000. Loss: 0.30689463\n",
      "59000. Loss: 0.30632335\n",
      "60000. Loss: 0.30595303\n",
      "61000. Loss: 0.30561697\n",
      "62000. Loss: 0.30533165\n",
      "63000. Loss: 0.30505365\n",
      "64000. Loss: 0.30479631\n",
      "65000. Loss: 0.30455834\n",
      "66000. Loss: 0.30435291\n",
      "67000. Loss: 0.30410478\n",
      "68000. Loss: 0.30392626\n",
      "69000. Loss: 0.30373406\n",
      "70000. Loss: 0.30356443\n",
      "71000. Loss: 0.30336851\n",
      "72000. Loss: 0.30317801\n",
      "73000. Loss: 0.30302641\n",
      "74000. Loss: 0.30284858\n",
      "75000. Loss: 0.30257154\n",
      "76000. Loss: 0.30246261\n",
      "77000. Loss: 0.30223987\n",
      "78000. Loss: 0.30218932\n",
      "79000. Loss: 0.30192453\n",
      "80000. Loss: 0.30185434\n",
      "81000. Loss: 0.30169445\n",
      "82000. Loss: 0.30144358\n",
      "83000. Loss: 0.30128834\n",
      "84000. Loss: 0.30116576\n",
      "85000. Loss: 0.30099934\n",
      "86000. Loss: 0.30086094\n",
      "87000. Loss: 0.30070499\n",
      "88000. Loss: 0.30055016\n",
      "89000. Loss: 0.30037290\n",
      "90000. Loss: 0.30022076\n",
      "91000. Loss: 0.30009633\n",
      "92000. Loss: 0.30000493\n",
      "93000. Loss: 0.29979712\n",
      "94000. Loss: 0.29969400\n",
      "95000. Loss: 0.29950652\n",
      "96000. Loss: 0.29895169\n",
      "97000. Loss: 0.29811120\n",
      "98000. Loss: 0.29797840\n",
      "99000. Loss: 0.29783177\n",
      "100000. Loss: 0.29767343\n"
     ]
    }
   ],
   "source": [
    "tfdeep.train(X, Yoh_, 100000)"
   ]
  },
  {
   "cell_type": "code",
   "execution_count": 27,
   "metadata": {
    "scrolled": true
   },
   "outputs": [
    {
     "name": "stdout",
     "output_type": "stream",
     "text": [
      "Predicted:\n",
      " [2 2 2 2 2 2 2 2 2 2 1 1 1 1 1 1 1 1 1 1 0 2 0 2 2 2 0 2 0 2 0 0 0 0 0 0 0\n",
      " 0 0 0 0 0 0 0 0 2 0 0 0 0 1 1 1 1 1 1 1 1 1 1]\n",
      "True:\n",
      " [2 2 2 2 2 2 2 2 2 2 1 1 1 1 1 1 1 1 1 1 2 2 2 2 2 2 2 2 2 2 0 0 0 0 0 0 0\n",
      " 0 0 0 0 0 0 0 0 0 0 0 0 0 1 1 1 1 1 1 1 1 1 1]\n"
     ]
    }
   ],
   "source": [
    "probs = tfdeep.eval(X)\n",
    "print(\"Predicted:\\n\", np.argmax(probs, axis=1))\n",
    "print(\"True:\\n\",Y_.flatten())"
   ]
  },
  {
   "cell_type": "code",
   "execution_count": 28,
   "metadata": {
    "scrolled": true
   },
   "outputs": [
    {
     "name": "stdout",
     "output_type": "stream",
     "text": [
      "Accuracy: 0.917\n",
      "Precision: 0.922\n",
      "Recall: 0.917\n",
      "F1: 0.916 \n"
     ]
    }
   ],
   "source": [
    "tfdeep.eval_perf(np.argmax(probs, axis=1), np.argmax(Yoh_, axis=1))"
   ]
  },
  {
   "cell_type": "code",
   "execution_count": 29,
   "metadata": {
    "scrolled": false
   },
   "outputs": [
    {
     "data": {
      "image/png": "[encoded data removed]",
      "text/plain": [
       "<matplotlib.figure.Figure at 0x7fac70738cf8>"
      ]
     },
     "metadata": {},
     "output_type": "display_data"
    }
   ],
   "source": [
    "colors = ['red', 'green', 'blue']\n",
    "plt.scatter(X[:, 0], X[:, 1], c=Y_.flatten(), cmap=ListedColormap(colors))\n",
    "plt.show()"
   ]
  },
  {
   "cell_type": "code",
   "execution_count": 30,
   "metadata": {
    "scrolled": true
   },
   "outputs": [
    {
     "data": {
      "image/png": "[encoded data removed]",
      "text/plain": [
       "<matplotlib.figure.Figure at 0x7fac70639d68>"
      ]
     },
     "metadata": {},
     "output_type": "display_data"
    }
   ],
   "source": [
    "data.plot_decision_boundary(X, lambda x: tfdeep.classify(x))\n",
    "# graph the data points\n",
    "data.graph_data(X, Y_, np.argmax(probs, axis=1))"
   ]
  },
  {
   "cell_type": "code",
   "execution_count": 31,
   "metadata": {
    "scrolled": true
   },
   "outputs": [],
   "source": [
    "SEED = 105\n",
    "np.random.seed(SEED)\n",
    "tf.set_random_seed(SEED)\n",
    "X2, Y_2 = data.sample_gmm_2d(DISTRIBUTIONS, CLASSES, NUM_EXAMPLES)"
   ]
  },
  {
   "cell_type": "code",
   "execution_count": 32,
   "metadata": {
    "scrolled": true
   },
   "outputs": [],
   "source": [
    "Yoh_2 = Y_2.reshape(-1)\n",
    "Yoh_2 = np.eye(CLASSES)[Yoh_2]"
   ]
  },
  {
   "cell_type": "code",
   "execution_count": 33,
   "metadata": {
    "scrolled": true
   },
   "outputs": [],
   "source": [
    "tfdeep2 = TFDeep(shape, param_delta=0.03, param_lambda=0.01)"
   ]
  },
  {
   "cell_type": "code",
   "execution_count": 34,
   "metadata": {
    "scrolled": true
   },
   "outputs": [
    {
     "name": "stdout",
     "output_type": "stream",
     "text": [
      "WARNING:tensorflow:From /home/dreyus95/Python/tf_environments/tf3/lib/python3.5/site-packages/tensorflow/python/util/tf_should_use.py:175: initialize_all_variables (from tensorflow.python.ops.variables) is deprecated and will be removed after 2017-03-02.\n",
      "Instructions for updating:\n",
      "Use `tf.global_variables_initializer` instead.\n",
      "   0. Loss: 4.87134075\n",
      "1000. Loss: nan\n",
      "2000. Loss: nan\n",
      "3000. Loss: nan\n",
      "4000. Loss: nan\n",
      "5000. Loss: nan\n",
      "6000. Loss: nan\n",
      "7000. Loss: nan\n",
      "8000. Loss: nan\n",
      "9000. Loss: nan\n",
      "10000. Loss: nan\n",
      "11000. Loss: nan\n",
      "12000. Loss: nan\n",
      "13000. Loss: nan\n",
      "14000. Loss: nan\n",
      "15000. Loss: nan\n",
      "16000. Loss: nan\n",
      "17000. Loss: nan\n",
      "18000. Loss: nan\n",
      "19000. Loss: nan\n",
      "20000. Loss: nan\n",
      "21000. Loss: nan\n",
      "22000. Loss: nan\n",
      "23000. Loss: nan\n",
      "24000. Loss: nan\n",
      "25000. Loss: nan\n",
      "26000. Loss: nan\n",
      "27000. Loss: nan\n",
      "28000. Loss: nan\n",
      "29000. Loss: nan\n",
      "30000. Loss: nan\n",
      "31000. Loss: nan\n",
      "32000. Loss: nan\n",
      "33000. Loss: nan\n",
      "34000. Loss: nan\n",
      "35000. Loss: nan\n",
      "36000. Loss: nan\n",
      "37000. Loss: nan\n",
      "38000. Loss: nan\n",
      "39000. Loss: nan\n",
      "40000. Loss: nan\n",
      "41000. Loss: nan\n",
      "42000. Loss: nan\n",
      "43000. Loss: nan\n",
      "44000. Loss: nan\n",
      "45000. Loss: nan\n",
      "46000. Loss: nan\n",
      "47000. Loss: nan\n",
      "48000. Loss: nan\n",
      "49000. Loss: nan\n",
      "50000. Loss: nan\n",
      "51000. Loss: nan\n",
      "52000. Loss: nan\n",
      "53000. Loss: nan\n",
      "54000. Loss: nan\n",
      "55000. Loss: nan\n",
      "56000. Loss: nan\n",
      "57000. Loss: nan\n",
      "58000. Loss: nan\n",
      "59000. Loss: nan\n",
      "60000. Loss: nan\n",
      "61000. Loss: nan\n",
      "62000. Loss: nan\n",
      "63000. Loss: nan\n",
      "64000. Loss: nan\n",
      "65000. Loss: nan\n",
      "66000. Loss: nan\n",
      "67000. Loss: nan\n",
      "68000. Loss: nan\n",
      "69000. Loss: nan\n",
      "70000. Loss: nan\n",
      "71000. Loss: nan\n",
      "72000. Loss: nan\n",
      "73000. Loss: nan\n",
      "74000. Loss: nan\n",
      "75000. Loss: nan\n",
      "76000. Loss: nan\n",
      "77000. Loss: nan\n",
      "78000. Loss: nan\n",
      "79000. Loss: nan\n",
      "80000. Loss: nan\n",
      "81000. Loss: nan\n",
      "82000. Loss: nan\n",
      "83000. Loss: nan\n",
      "84000. Loss: nan\n",
      "85000. Loss: nan\n",
      "86000. Loss: nan\n",
      "87000. Loss: nan\n",
      "88000. Loss: nan\n",
      "89000. Loss: nan\n",
      "90000. Loss: nan\n",
      "91000. Loss: nan\n",
      "92000. Loss: nan\n",
      "93000. Loss: nan\n",
      "94000. Loss: nan\n",
      "95000. Loss: nan\n",
      "96000. Loss: nan\n",
      "97000. Loss: nan\n",
      "98000. Loss: nan\n",
      "99000. Loss: nan\n",
      "100000. Loss: nan\n"
     ]
    }
   ],
   "source": [
    "tfdeep2.train(X2, Yoh_2, 100000)"
   ]
  },
  {
   "cell_type": "code",
   "execution_count": 35,
   "metadata": {
    "scrolled": true
   },
   "outputs": [
    {
     "name": "stdout",
     "output_type": "stream",
     "text": [
      "Predicted:\n",
      " [0 0 0 0 0 0 0 0 0 0 0 0 0 0 0 0 0 0 0 0 0 0 0 0 0 0 0 0 0 0 0 0 0 0 0 0 0\n",
      " 0 0 0 0 0 0 0 0 0 0 0 0 0 0 0 0 0 0 0 0 0 0 0]\n",
      "True:\n",
      " [2 2 2 2 2 2 2 2 2 2 1 1 1 1 1 1 1 1 1 1 2 2 2 2 2 2 2 2 2 2 1 1 1 1 1 1 1\n",
      " 1 1 1 0 0 0 0 0 0 0 0 0 0 0 0 0 0 0 0 0 0 0 0]\n"
     ]
    }
   ],
   "source": [
    "probs2 = tfdeep2.eval(X2)\n",
    "print(\"Predicted:\\n\", np.argmax(probs2, axis=1))\n",
    "print(\"True:\\n\",Y_2.flatten())"
   ]
  },
  {
   "cell_type": "code",
   "execution_count": 36,
   "metadata": {
    "scrolled": true
   },
   "outputs": [
    {
     "name": "stdout",
     "output_type": "stream",
     "text": [
      "Accuracy: 0.333\n",
      "Precision: 0.111\n",
      "Recall: 0.333\n",
      "F1: 0.167 \n"
     ]
    },
    {
     "name": "stderr",
     "output_type": "stream",
     "text": [
      "/home/dreyus95/Python/tf_environments/tf3/lib/python3.5/site-packages/sklearn/metrics/classification.py:1135: UndefinedMetricWarning: Precision is ill-defined and being set to 0.0 in labels with no predicted samples.\n",
      "  'precision', 'predicted', average, warn_for)\n",
      "/home/dreyus95/Python/tf_environments/tf3/lib/python3.5/site-packages/sklearn/metrics/classification.py:1135: UndefinedMetricWarning: F-score is ill-defined and being set to 0.0 in labels with no predicted samples.\n",
      "  'precision', 'predicted', average, warn_for)\n"
     ]
    }
   ],
   "source": [
    "tfdeep2.eval_perf(np.argmax(probs2, axis=1), np.argmax(Yoh_2, axis=1))"
   ]
  },
  {
   "cell_type": "code",
   "execution_count": 37,
   "metadata": {
    "scrolled": false
   },
   "outputs": [
    {
     "data": {
      "image/png": "[encoded data removed]",
      "text/plain": [
       "<matplotlib.figure.Figure at 0x7fac70186ef0>"
      ]
     },
     "metadata": {},
     "output_type": "display_data"
    }
   ],
   "source": [
    "plt.scatter(X2[:, 0], X2[:, 1], c=Y_2.flatten(), cmap=ListedColormap(colors))\n",
    "plt.show()"
   ]
  },
  {
   "cell_type": "code",
   "execution_count": 38,
   "metadata": {
    "scrolled": true
   },
   "outputs": [
    {
     "data": {
      "image/png": "[encoded data removed]",
      "text/plain": [
       "<matplotlib.figure.Figure at 0x7fac7017f7f0>"
      ]
     },
     "metadata": {},
     "output_type": "display_data"
    }
   ],
   "source": [
    "data.plot_decision_boundary(X2, lambda x: tfdeep2.classify(x))\n",
    "# graph the data points\n",
    "data.graph_data(X2, Y_2, np.argmax(probs2, axis=1))"
   ]
  },
  {
   "cell_type": "code",
   "execution_count": null,
   "metadata": {
    "scrolled": true
   },
   "outputs": [],
   "source": []
  }
 ],
 "metadata": {
  "kernelspec": {
   "display_name": "Python 3",
   "language": "python",
   "name": "python3"
  },
  "language_info": {
   "codemirror_mode": {
    "name": "ipython",
    "version": 3
   },
   "file_extension": ".py",
   "mimetype": "text/x-python",
   "name": "python",
   "nbconvert_exporter": "python",
   "pygments_lexer": "ipython3",
   "version": "3.5.2"
  }
 },
 "nbformat": 4,
 "nbformat_minor": 2
}
